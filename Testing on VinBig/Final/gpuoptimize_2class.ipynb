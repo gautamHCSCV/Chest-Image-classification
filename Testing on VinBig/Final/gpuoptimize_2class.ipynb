{
 "cells": [
  {
   "cell_type": "markdown",
   "id": "1aa771a2",
   "metadata": {},
   "source": [
    "## Optimizing Training Pipeline in Pytorch"
   ]
  },
  {
   "cell_type": "markdown",
   "id": "3b88631d",
   "metadata": {},
   "source": [
    "To improve training performance in any deep learning pipeline, pytorch suggests few extra additions of codes in exitin pipeline.\n",
    "These additions are explained and mentioned well here in [Performance Tuning Guide](https://pytorch.org/tutorials/recipes/recipes/tuning_guide.html) . In this notebook you will encounter few of such features with hands-on dedicated for GPU Computing."
   ]
  },
  {
   "cell_type": "code",
   "execution_count": 1,
   "id": "abdbfc3c",
   "metadata": {},
   "outputs": [],
   "source": [
    "import os\n",
    "import json\n",
    "import time\n",
    "import random\n",
    "import numpy as np\n",
    "import pandas as pd\n",
    "from PIL import Image\n",
    "from sklearn.model_selection import train_test_split\n",
    "import warnings\n",
    "warnings.filterwarnings(\"ignore\")"
   ]
  },
  {
   "cell_type": "code",
   "execution_count": 2,
   "id": "8ab84cce",
   "metadata": {},
   "outputs": [],
   "source": [
    "import torch\n",
    "import torch.nn as nn\n",
    "import torch.optim as optim\n",
    "import torch.nn.functional as F\n",
    "from torchvision import transforms\n",
    "from torch.utils.data import Dataset, DataLoader\n",
    "import torchvision.models as models\n",
    "from sklearn.metrics import precision_recall_fscore_support, roc_auc_score\n",
    "import matplotlib.pyplot as plt\n",
    "import sklearn.metrics as metrics"
   ]
  },
  {
   "cell_type": "markdown",
   "id": "4a6513ac",
   "metadata": {},
   "source": [
    "### Set GPU Device if multiple"
   ]
  },
  {
   "cell_type": "code",
   "execution_count": 3,
   "id": "cd0f3356",
   "metadata": {},
   "outputs": [
    {
     "name": "stdout",
     "output_type": "stream",
     "text": [
      "Tue Feb 15 14:38:34 2022       \n",
      "+-----------------------------------------------------------------------------+\n",
      "| NVIDIA-SMI 455.38       Driver Version: 455.38       CUDA Version: 11.1     |\n",
      "|-------------------------------+----------------------+----------------------+\n",
      "| GPU  Name        Persistence-M| Bus-Id        Disp.A | Volatile Uncorr. ECC |\n",
      "| Fan  Temp  Perf  Pwr:Usage/Cap|         Memory-Usage | GPU-Util  Compute M. |\n",
      "|                               |                      |               MIG M. |\n",
      "|===============================+======================+======================|\n",
      "|   0  GeForce GTX 108...  Off  | 00000000:04:00.0 Off |                  N/A |\n",
      "| 44%   75C    P2   194W / 250W |   6667MiB / 11178MiB |    100%      Default |\n",
      "|                               |                      |                  N/A |\n",
      "+-------------------------------+----------------------+----------------------+\n",
      "|   1  GeForce GTX 108...  Off  | 00000000:06:00.0 Off |                  N/A |\n",
      "| 27%   60C    P2    63W / 250W |   2449MiB / 11178MiB |     10%      Default |\n",
      "|                               |                      |                  N/A |\n",
      "+-------------------------------+----------------------+----------------------+\n",
      "|   2  GeForce GTX 108...  Off  | 00000000:07:00.0 Off |                  N/A |\n",
      "| 37%   69C    P2    98W / 250W |   2449MiB / 11178MiB |      6%      Default |\n",
      "|                               |                      |                  N/A |\n",
      "+-------------------------------+----------------------+----------------------+\n",
      "|   3  GeForce GTX 108...  Off  | 00000000:08:00.0 Off |                  N/A |\n",
      "| 39%   72C    P2   181W / 250W |   4758MiB / 11178MiB |     83%      Default |\n",
      "|                               |                      |                  N/A |\n",
      "+-------------------------------+----------------------+----------------------+\n",
      "|   4  GeForce GTX 108...  Off  | 00000000:0C:00.0 Off |                  N/A |\n",
      "| 55%   83C    P2   223W / 250W |  10185MiB / 11178MiB |     73%      Default |\n",
      "|                               |                      |                  N/A |\n",
      "+-------------------------------+----------------------+----------------------+\n",
      "|   5  GeForce GTX 108...  Off  | 00000000:0D:00.0 Off |                  N/A |\n",
      "| 40%   72C    P2   251W / 250W |   6397MiB / 11178MiB |     82%      Default |\n",
      "|                               |                      |                  N/A |\n",
      "+-------------------------------+----------------------+----------------------+\n",
      "|   6  GeForce GTX 108...  Off  | 00000000:0E:00.0 Off |                  N/A |\n",
      "| 44%   76C    P2   195W / 250W |   3414MiB / 11178MiB |     47%      Default |\n",
      "|                               |                      |                  N/A |\n",
      "+-------------------------------+----------------------+----------------------+\n",
      "|   7  GeForce GTX 108...  Off  | 00000000:0F:00.0 Off |                  N/A |\n",
      "| 44%   76C    P2   220W / 250W |   2569MiB / 11178MiB |     38%      Default |\n",
      "|                               |                      |                  N/A |\n",
      "+-------------------------------+----------------------+----------------------+\n",
      "                                                                               \n",
      "+-----------------------------------------------------------------------------+\n",
      "| Processes:                                                                  |\n",
      "|  GPU   GI   CI        PID   Type   Process name                  GPU Memory |\n",
      "|        ID   ID                                                   Usage      |\n",
      "|=============================================================================|\n",
      "|    0   N/A  N/A      6254      C   python3                          6663MiB |\n",
      "|    0   N/A  N/A      6816      C   ...nth1/anaconda3/bin/python        0MiB |\n",
      "|    0   N/A  N/A      8586      C   /bin/python3                        0MiB |\n",
      "|    0   N/A  N/A     14979      C   /opt/conda/bin/python               0MiB |\n",
      "|    0   N/A  N/A     21381      C   ...nth1/anaconda3/bin/python        0MiB |\n",
      "|    0   N/A  N/A     33118      C   /bin/python3                        0MiB |\n",
      "|    0   N/A  N/A     42564      C   /bin/python3                        0MiB |\n",
      "|    1   N/A  N/A      6816      C   ...nth1/anaconda3/bin/python        0MiB |\n",
      "|    1   N/A  N/A      8586      C   /bin/python3                     2447MiB |\n",
      "|    1   N/A  N/A     14979      C   /opt/conda/bin/python               0MiB |\n",
      "|    1   N/A  N/A     21381      C   ...nth1/anaconda3/bin/python        0MiB |\n",
      "|    1   N/A  N/A     33118      C   /bin/python3                        0MiB |\n",
      "|    1   N/A  N/A     42564      C   /bin/python3                        0MiB |\n",
      "|    2   N/A  N/A      6816      C   ...nth1/anaconda3/bin/python        0MiB |\n",
      "|    2   N/A  N/A      8586      C   /bin/python3                        0MiB |\n",
      "|    2   N/A  N/A     14979      C   /opt/conda/bin/python               0MiB |\n",
      "|    2   N/A  N/A     21381      C   ...nth1/anaconda3/bin/python        0MiB |\n",
      "|    2   N/A  N/A     33118      C   /bin/python3                        0MiB |\n",
      "|    2   N/A  N/A     42564      C   /bin/python3                     2447MiB |\n",
      "|    3   N/A  N/A      6816      C   ...nth1/anaconda3/bin/python     3395MiB |\n",
      "|    3   N/A  N/A      8586      C   /bin/python3                        0MiB |\n",
      "|    3   N/A  N/A     14979      C   /opt/conda/bin/python               0MiB |\n",
      "|    3   N/A  N/A     21381      C   ...nth1/anaconda3/bin/python     1361MiB |\n",
      "|    3   N/A  N/A     33118      C   /bin/python3                        0MiB |\n",
      "|    3   N/A  N/A     42564      C   /bin/python3                        0MiB |\n",
      "|    4   N/A  N/A      6816      C   ...nth1/anaconda3/bin/python        0MiB |\n",
      "|    4   N/A  N/A      8586      C   /bin/python3                        0MiB |\n",
      "|    4   N/A  N/A     14979      C   /opt/conda/bin/python               0MiB |\n",
      "|    4   N/A  N/A     21381      C   ...nth1/anaconda3/bin/python        0MiB |\n",
      "|    4   N/A  N/A     25603      C   python3                         10181MiB |\n",
      "|    4   N/A  N/A     33118      C   /bin/python3                        0MiB |\n",
      "|    4   N/A  N/A     42564      C   /bin/python3                        0MiB |\n",
      "|    5   N/A  N/A      6254      C   python3                          6393MiB |\n",
      "|    5   N/A  N/A      6816      C   ...nth1/anaconda3/bin/python        0MiB |\n",
      "|    5   N/A  N/A      8586      C   /bin/python3                        0MiB |\n",
      "|    5   N/A  N/A     14979      C   /opt/conda/bin/python               0MiB |\n",
      "|    5   N/A  N/A     21381      C   ...nth1/anaconda3/bin/python        0MiB |\n",
      "|    5   N/A  N/A     33118      C   /bin/python3                        0MiB |\n",
      "|    5   N/A  N/A     42564      C   /bin/python3                        0MiB |\n",
      "|    6   N/A  N/A      6164      C   python3                          2357MiB |\n",
      "|    6   N/A  N/A      6816      C   ...nth1/anaconda3/bin/python        0MiB |\n",
      "|    6   N/A  N/A      8586      C   /bin/python3                        0MiB |\n",
      "|    6   N/A  N/A     14979      C   /opt/conda/bin/python            1055MiB |\n",
      "|    6   N/A  N/A     21381      C   ...nth1/anaconda3/bin/python        0MiB |\n",
      "|    6   N/A  N/A     33118      C   /bin/python3                        0MiB |\n",
      "|    6   N/A  N/A     42564      C   /bin/python3                        0MiB |\n",
      "|    7   N/A  N/A      6816      C   ...nth1/anaconda3/bin/python        0MiB |\n",
      "|    7   N/A  N/A      8586      C   /bin/python3                        0MiB |\n",
      "|    7   N/A  N/A     14979      C   /opt/conda/bin/python               0MiB |\n",
      "|    7   N/A  N/A     21381      C   ...nth1/anaconda3/bin/python        0MiB |\n",
      "|    7   N/A  N/A     33118      C   /bin/python3                     2567MiB |\n",
      "|    7   N/A  N/A     42564      C   /bin/python3                        0MiB |\n",
      "+-----------------------------------------------------------------------------+\n"
     ]
    }
   ],
   "source": [
    "!nvidia-smi"
   ]
  },
  {
   "cell_type": "code",
   "execution_count": 4,
   "id": "97aac0f3",
   "metadata": {},
   "outputs": [],
   "source": [
    "##############################################################\n",
    "os.environ[\"CUDA_DEVICE_ORDER\"]=\"PCI_BUS_ID\"  \n",
    "os.environ[\"CUDA_VISIBLE_DEVICES\"]=\"2\"\n",
    "##############################################################"
   ]
  },
  {
   "cell_type": "markdown",
   "id": "f9599eb6",
   "metadata": {},
   "source": [
    "### Use device for `cuda` or `cpu` based on availability"
   ]
  },
  {
   "cell_type": "code",
   "execution_count": 5,
   "id": "0691e0ab",
   "metadata": {},
   "outputs": [
    {
     "data": {
      "text/plain": [
       "device(type='cuda')"
      ]
     },
     "execution_count": 5,
     "metadata": {},
     "output_type": "execute_result"
    }
   ],
   "source": [
    "####################################################################\n",
    "#GPU using CUDA\n",
    "device = torch.device(\"cuda\" if torch.cuda.is_available() else \"cpu\")\n",
    "device\n",
    "####################################################################"
   ]
  },
  {
   "cell_type": "code",
   "execution_count": 6,
   "id": "7cd0f95e",
   "metadata": {},
   "outputs": [],
   "source": [
    "config = dict(\n",
    "    IMAGE_PATH= \"nih-dataset/nih-15-class\",\n",
    "    saved_path=\"saved/resnet18.pt\",\n",
    "    lr=0.001, \n",
    "    EPOCHS = 5,\n",
    "    BATCH_SIZE = 32,\n",
    "    IMAGE_SIZE = 224,\n",
    "    TRAIN_VALID_SPLIT = 0.2,\n",
    "    device=device,\n",
    "    SEED = 42,\n",
    "    pin_memory=True,\n",
    "    num_workers=2,\n",
    "    USE_AMP = True,\n",
    "    channels_last=False)\n",
    "####################################################################"
   ]
  },
  {
   "cell_type": "code",
   "execution_count": 7,
   "id": "1053216c",
   "metadata": {},
   "outputs": [],
   "source": [
    "# For custom operators, you might need to set python seed\n",
    "random.seed(config['SEED'])\n",
    "# If you or any of the libraries you are using rely on NumPy, you can seed the global NumPy RNG \n",
    "np.random.seed(config['SEED'])\n",
    "# Prevent RNG for CPU and GPU using torch\n",
    "torch.manual_seed(config['SEED'])\n",
    "torch.cuda.manual_seed(config['SEED'])"
   ]
  },
  {
   "cell_type": "markdown",
   "id": "6f428d78",
   "metadata": {},
   "source": [
    "### Create tensors directly on the target device\n",
    "\n",
    "Instead of calling `torch.rand(size).cuda()` to generate a random tensor, produce the output directly on the target device: `torch.rand(size, device=torch.device('cuda'))`.\n",
    "\n",
    "This is applicable to all functions which create new tensors and accept device argument: `torch.rand(), torch.zeros(), torch.full()` and similar."
   ]
  },
  {
   "cell_type": "markdown",
   "id": "eebed8a6",
   "metadata": {},
   "source": [
    "CUDA Convolution Benchmarking: Best Convolution Algo but may loose reproducibility if True"
   ]
  },
  {
   "cell_type": "code",
   "execution_count": 8,
   "id": "61fbb7a5",
   "metadata": {},
   "outputs": [],
   "source": [
    "# If researcher and wants to reproducuce: False\n",
    "# If developer wants performance: True\n",
    "torch.backends.cudnn.benchmarks = True\n",
    "torch.backends.cudnn.deterministic = True\n",
    "\n",
    "torch.backends.cuda.matmul.allow_tf32 = True\n",
    "\n",
    "# The flag below controls whether to allow TF32 on cuDNN. This flag defaults to True.\n",
    "torch.backends.cudnn.allow_tf32 = True"
   ]
  },
  {
   "cell_type": "markdown",
   "id": "175a964c",
   "metadata": {},
   "source": [
    "Apply Data Transforms (Aumentations + Processing)"
   ]
  },
  {
   "cell_type": "code",
   "execution_count": 9,
   "id": "e706952e",
   "metadata": {},
   "outputs": [],
   "source": [
    "data_transforms = {\n",
    "    'train': transforms.Compose([\n",
    "        transforms.RandomResizedCrop((224,224)),\n",
    "        #transforms.RandomHorizontalFlip(),\n",
    "        transforms.ToTensor(),\n",
    "        transforms.Normalize([0.485, 0.456, 0.406], [0.229, 0.224, 0.225])\n",
    "    ]),\n",
    "    'val': transforms.Compose([\n",
    "        transforms.Resize((config['IMAGE_SIZE'],config['IMAGE_SIZE'])),\n",
    "        transforms.ToTensor(),\n",
    "        transforms.Normalize([0.485, 0.456, 0.406], [0.229, 0.224, 0.225])\n",
    "    ]),\n",
    "    'test': transforms.Compose([\n",
    "        transforms.Resize((config['IMAGE_SIZE'],config['IMAGE_SIZE'])),\n",
    "        transforms.ToTensor(),\n",
    "        transforms.Normalize([0.485, 0.456, 0.406], [0.229, 0.224, 0.225])\n",
    "    ]),\n",
    "}"
   ]
  },
  {
   "cell_type": "code",
   "execution_count": 10,
   "id": "3f6f520e",
   "metadata": {},
   "outputs": [],
   "source": [
    "my_path = '../../../dataset/vinbig_2class_alldata/'"
   ]
  },
  {
   "cell_type": "code",
   "execution_count": 11,
   "id": "fbb14d16",
   "metadata": {},
   "outputs": [
    {
     "name": "stdout",
     "output_type": "stream",
     "text": [
      "15015\n"
     ]
    }
   ],
   "source": [
    "import torchvision\n",
    "images = torchvision.datasets.ImageFolder(root=my_path,transform=data_transforms['test'])\n",
    "print(len(images))\n",
    "train_data,valid_data,test_data = torch.utils.data.dataset.random_split(images,[10,5,15000])"
   ]
  },
  {
   "cell_type": "code",
   "execution_count": 12,
   "id": "4dd9b1cb",
   "metadata": {},
   "outputs": [
    {
     "data": {
      "text/plain": [
       "{'abnormal': 0, 'normal': 1}"
      ]
     },
     "execution_count": 12,
     "metadata": {},
     "output_type": "execute_result"
    }
   ],
   "source": [
    "images.class_to_idx"
   ]
  },
  {
   "cell_type": "code",
   "execution_count": 13,
   "id": "37e8882a",
   "metadata": {},
   "outputs": [],
   "source": [
    "train_dl = torch.utils.data.DataLoader(dataset=train_data,batch_size=32,shuffle=True, num_workers = config['num_workers'],\n",
    "                                          pin_memory = config['pin_memory'])\n",
    "valid_dl = torch.utils.data.DataLoader(dataset = valid_data,batch_size=32,shuffle=True, num_workers = config['num_workers'],\n",
    "                                          pin_memory = config['pin_memory'])\n",
    "test_dl = torch.utils.data.DataLoader(dataset=test_data,batch_size=32,shuffle=True, num_workers = config['num_workers'],\n",
    "                                          pin_memory = config['pin_memory'])"
   ]
  },
  {
   "cell_type": "markdown",
   "id": "0ba10f4a",
   "metadata": {},
   "source": [
    "Optimizers:\n",
    "Gradient Descent:-\n",
    "    a. Stoicastic Gradient Descent bs = 1; 'n' number of examples. 'n / 1' number of data loader/steps for 1 Epoch\n",
    "    b. Mini-Batch Gradient Descent bs = 32; 'n' number of examples. 'n / 32' number of dataloaders/step for 1 Epoch \n",
    "    c. Full Batch Gradient Descent bs = total_number_of_samples number of dataloader/steps = 1 for 1 Epoch"
   ]
  },
  {
   "cell_type": "code",
   "execution_count": 14,
   "id": "152bec20",
   "metadata": {},
   "outputs": [
    {
     "data": {
      "text/plain": [
       "1"
      ]
     },
     "execution_count": 14,
     "metadata": {},
     "output_type": "execute_result"
    }
   ],
   "source": [
    "len(train_dl)"
   ]
  },
  {
   "cell_type": "code",
   "execution_count": 45,
   "id": "0726efb9",
   "metadata": {},
   "outputs": [
    {
     "name": "stdout",
     "output_type": "stream",
     "text": [
      "tensor([1, 0, 1, 0, 1, 1, 0, 1, 1, 1, 1, 1, 1, 0, 0, 1, 0, 0, 1, 0, 0, 1, 1, 1,\n",
      "        1, 1, 1, 1, 1, 1, 1, 1])\n"
     ]
    },
    {
     "data": {
      "text/plain": [
       "<matplotlib.image.AxesImage at 0x7f935a83d320>"
      ]
     },
     "execution_count": 45,
     "metadata": {},
     "output_type": "execute_result"
    },
    {
     "data": {
      "image/png": "[encoded data removed]",
      "text/plain": [
       "<Figure size 432x288 with 1 Axes>"
      ]
     },
     "metadata": {
      "needs_background": "light"
     },
     "output_type": "display_data"
    }
   ],
   "source": [
    "import matplotlib.pyplot as plt\n",
    "a = iter(test_dl)\n",
    "b = next(a)\n",
    "print(b[1])\n",
    "plt.imshow(b[0][0][0])"
   ]
  },
  {
   "cell_type": "code",
   "execution_count": 46,
   "id": "5abd6075",
   "metadata": {},
   "outputs": [],
   "source": [
    "criterion = nn.CrossEntropyLoss()"
   ]
  },
  {
   "cell_type": "markdown",
   "id": "eac232ff",
   "metadata": {},
   "source": [
    "Load Model : Pretrained from torchvision model zoo or Saved model"
   ]
  },
  {
   "cell_type": "code",
   "execution_count": 47,
   "id": "0e3d083f",
   "metadata": {},
   "outputs": [],
   "source": [
    "efficientnet = models.efficientnet_b4(pretrained = True)\n",
    "efficientnet.classifier[1] = nn.Linear(in_features = 1792, out_features = 2, bias = True)\n",
    "model = efficientnet"
   ]
  },
  {
   "cell_type": "code",
   "execution_count": 48,
   "id": "2666e8ff",
   "metadata": {},
   "outputs": [
    {
     "data": {
      "text/plain": [
       "<All keys matched successfully>"
      ]
     },
     "execution_count": 48,
     "metadata": {},
     "output_type": "execute_result"
    }
   ],
   "source": [
    "model.load_state_dict(torch.load('saved/efficientnet_b4.pt'))"
   ]
  },
  {
   "cell_type": "code",
   "execution_count": 49,
   "id": "fe071c0b",
   "metadata": {},
   "outputs": [],
   "source": [
    "#Channel Last Optimization in Model\n",
    "\n",
    "model = model.to(config['device'])"
   ]
  },
  {
   "cell_type": "code",
   "execution_count": 50,
   "id": "684650fb",
   "metadata": {},
   "outputs": [],
   "source": [
    "optimizer = optim.Adam(model.parameters(),lr=config['lr'])\n",
    "# Loss Function"
   ]
  },
  {
   "cell_type": "markdown",
   "id": "5d6c40f9",
   "metadata": {},
   "source": [
    "### Efficientnet"
   ]
  },
  {
   "cell_type": "code",
   "execution_count": 51,
   "id": "eb549ab9",
   "metadata": {},
   "outputs": [
    {
     "name": "stdout",
     "output_type": "stream",
     "text": [
      "Test Loss is 1.1812219401359558\n",
      "Test Accuracy is 0.7213333333333334\n"
     ]
    }
   ],
   "source": [
    "model.eval()\n",
    "running_loss = 0.0\n",
    "running_corrects = 0\n",
    "total = 0\n",
    "preds = []\n",
    "pred_labels = []\n",
    "labels = []\n",
    "\n",
    "        # Disable gradient calculation for validation or inference using torch.no_rad()\n",
    "with torch.no_grad():\n",
    "            for x,y in test_dl:\n",
    "                x = x.to(config['device'])\n",
    "                y = y.to(config['device']) #CHW --> #HWC\n",
    "                valid_logits = model(x)\n",
    "                predict_prob = F.softmax(valid_logits)\n",
    "                _,predictions = predict_prob.max(1)\n",
    "                predictions = predictions.to('cpu')\n",
    "                \n",
    "                _, valid_preds = torch.max(valid_logits, 1)\n",
    "                valid_loss = criterion(valid_logits,y)\n",
    "                running_loss += valid_loss.item() * x.size(0)\n",
    "                running_corrects += torch.sum(valid_preds == y.data)\n",
    "                total += y.size(0)\n",
    "                predict_prob = predict_prob.to('cpu')\n",
    "                \n",
    "                pred_labels.extend(list(predictions.numpy()))\n",
    "                preds.extend(list(predict_prob.numpy()))\n",
    "                y = y.to('cpu')\n",
    "                labels.extend(list(y.numpy()))\n",
    "            \n",
    "epoch_loss = running_loss / len(test_data)\n",
    "epoch_acc = running_corrects.double() / len(test_data)\n",
    "print(\"Test Loss is {}\".format(epoch_loss))\n",
    "print(\"Test Accuracy is {}\".format(epoch_acc.cpu()))"
   ]
  },
  {
   "cell_type": "code",
   "execution_count": 52,
   "id": "2a06718a",
   "metadata": {},
   "outputs": [
    {
     "data": {
      "text/plain": [
       "(0.8009172594533882, 0.8065032987747408, 0.8037005729313421, None)"
      ]
     },
     "execution_count": 52,
     "metadata": {},
     "output_type": "execute_result"
    }
   ],
   "source": [
    "precision_recall_fscore_support(np.array(labels), np.array(pred_labels), average='binary')"
   ]
  },
  {
   "cell_type": "code",
   "execution_count": 53,
   "id": "46c02cfa",
   "metadata": {},
   "outputs": [
    {
     "data": {
      "text/plain": [
       "0.7380665508749857"
      ]
     },
     "execution_count": 53,
     "metadata": {},
     "output_type": "execute_result"
    }
   ],
   "source": [
    "#y_pred = np.transpose([pred[:, 1] for pred in preds])\n",
    "roc_auc_score(np.array(labels), np.array(preds)[:,1])"
   ]
  },
  {
   "cell_type": "code",
   "execution_count": 54,
   "id": "1dc966f8",
   "metadata": {},
   "outputs": [],
   "source": [
    "pred_effb4 = np.array(preds)\n",
    "y_test_effb4 = np.array(labels)"
   ]
  },
  {
   "cell_type": "markdown",
   "id": "fd1c618f",
   "metadata": {},
   "source": [
    "## Mobilenet v2"
   ]
  },
  {
   "cell_type": "code",
   "execution_count": 55,
   "id": "0840301b",
   "metadata": {},
   "outputs": [],
   "source": [
    "mobilenet = models.mobilenet_v2(pretrained=True)\n",
    "mobilenet.classifier[1] = nn.Linear(in_features = 1280, out_features = 2, bias = True)\n",
    "model = mobilenet\n",
    "model.load_state_dict(torch.load('saved/mobilenetv2.pt'))\n",
    "model = model.to(config['device'])"
   ]
  },
  {
   "cell_type": "code",
   "execution_count": 56,
   "id": "51500bce",
   "metadata": {},
   "outputs": [
    {
     "name": "stdout",
     "output_type": "stream",
     "text": [
      "Test Loss is 0.8950151331583659\n",
      "Test Accuracy is 0.6933333333333334\n"
     ]
    }
   ],
   "source": [
    "model.eval()\n",
    "running_loss = 0.0\n",
    "running_corrects = 0\n",
    "total = 0\n",
    "preds = []\n",
    "pred_labels = []\n",
    "labels = []\n",
    "\n",
    "        # Disable gradient calculation for validation or inference using torch.no_rad()\n",
    "with torch.no_grad():\n",
    "            for x,y in test_dl:\n",
    "                x = x.to(config['device'])\n",
    "                y = y.to(config['device']) #CHW --> #HWC\n",
    "                valid_logits = model(x)\n",
    "                predict_prob = F.softmax(valid_logits)\n",
    "                _,predictions = predict_prob.max(1)\n",
    "                predictions = predictions.to('cpu')\n",
    "                \n",
    "                _, valid_preds = torch.max(valid_logits, 1)\n",
    "                valid_loss = criterion(valid_logits,y)\n",
    "                running_loss += valid_loss.item() * x.size(0)\n",
    "                running_corrects += torch.sum(valid_preds == y.data)\n",
    "                total += y.size(0)\n",
    "                predict_prob = predict_prob.to('cpu')\n",
    "                \n",
    "                pred_labels.extend(list(predictions.numpy()))\n",
    "                preds.extend(list(predict_prob.numpy()))\n",
    "                y = y.to('cpu')\n",
    "                labels.extend(list(y.numpy()))\n",
    "            \n",
    "epoch_loss = running_loss / len(test_data)\n",
    "epoch_acc = running_corrects.double() / len(test_data)\n",
    "print(\"Test Loss is {}\".format(epoch_loss))\n",
    "print(\"Test Accuracy is {}\".format(epoch_acc.cpu()))"
   ]
  },
  {
   "cell_type": "code",
   "execution_count": 57,
   "id": "6df9e4d8",
   "metadata": {},
   "outputs": [
    {
     "data": {
      "text/plain": [
       "(0.7452260486371797, 0.8606974552309142, 0.7988103568929321, None)"
      ]
     },
     "execution_count": 57,
     "metadata": {},
     "output_type": "execute_result"
    }
   ],
   "source": [
    "precision_recall_fscore_support(np.array(labels), np.array(pred_labels), average='binary')"
   ]
  },
  {
   "cell_type": "code",
   "execution_count": 58,
   "id": "05b81ccd",
   "metadata": {},
   "outputs": [
    {
     "data": {
      "text/plain": [
       "0.647608758660223"
      ]
     },
     "execution_count": 58,
     "metadata": {},
     "output_type": "execute_result"
    }
   ],
   "source": [
    "roc_auc_score(np.array(labels), np.array(preds)[:,1])"
   ]
  },
  {
   "cell_type": "code",
   "execution_count": 59,
   "id": "a7303dc7",
   "metadata": {},
   "outputs": [],
   "source": [
    "pred_mobv2 = np.array(preds)\n",
    "y_test_mobv2 = np.array(labels)"
   ]
  },
  {
   "cell_type": "code",
   "execution_count": null,
   "id": "0361787d",
   "metadata": {},
   "outputs": [],
   "source": []
  },
  {
   "cell_type": "markdown",
   "id": "06162e65",
   "metadata": {},
   "source": [
    "## Mobilenet v3"
   ]
  },
  {
   "cell_type": "code",
   "execution_count": 60,
   "id": "7ad6cac2",
   "metadata": {},
   "outputs": [
    {
     "data": {
      "text/plain": [
       "<All keys matched successfully>"
      ]
     },
     "execution_count": 60,
     "metadata": {},
     "output_type": "execute_result"
    }
   ],
   "source": [
    "mobilenet = models.mobilenet_v3_small(pretrained=True)\n",
    "mobilenet.classifier[3] = nn.Linear(in_features = 1024, out_features = 2, bias = True)\n",
    "model = mobilenet\n",
    "model.load_state_dict(torch.load('saved/mobilenetv3.pt'))"
   ]
  },
  {
   "cell_type": "code",
   "execution_count": 61,
   "id": "4e58273a",
   "metadata": {},
   "outputs": [],
   "source": [
    "model = model.to(config['device'])"
   ]
  },
  {
   "cell_type": "code",
   "execution_count": 62,
   "id": "d4776825",
   "metadata": {},
   "outputs": [
    {
     "name": "stdout",
     "output_type": "stream",
     "text": [
      "Test Loss is 1.0723820314407349\n",
      "Test Accuracy is 0.6252\n"
     ]
    }
   ],
   "source": [
    "model.eval()\n",
    "running_loss = 0.0\n",
    "running_corrects = 0\n",
    "total = 0\n",
    "preds = []\n",
    "pred_labels = []\n",
    "labels = []\n",
    "\n",
    "        # Disable gradient calculation for validation or inference using torch.no_rad()\n",
    "with torch.no_grad():\n",
    "            for x,y in test_dl:\n",
    "                x = x.to(config['device'])\n",
    "                y = y.to(config['device']) #CHW --> #HWC\n",
    "                valid_logits = model(x)\n",
    "                predict_prob = F.softmax(valid_logits)\n",
    "                _,predictions = predict_prob.max(1)\n",
    "                predictions = predictions.to('cpu')\n",
    "                \n",
    "                _, valid_preds = torch.max(valid_logits, 1)\n",
    "                valid_loss = criterion(valid_logits,y)\n",
    "                running_loss += valid_loss.item() * x.size(0)\n",
    "                running_corrects += torch.sum(valid_preds == y.data)\n",
    "                total += y.size(0)\n",
    "                predict_prob = predict_prob.to('cpu')\n",
    "                \n",
    "                pred_labels.extend(list(predictions.numpy()))\n",
    "                preds.extend(list(predict_prob.numpy()))\n",
    "                y = y.to('cpu')\n",
    "                labels.extend(list(y.numpy()))\n",
    "            \n",
    "epoch_loss = running_loss / len(test_data)\n",
    "epoch_acc = running_corrects.double() / len(test_data)\n",
    "print(\"Test Loss is {}\".format(epoch_loss))\n",
    "print(\"Test Accuracy is {}\".format(epoch_acc.cpu()))"
   ]
  },
  {
   "cell_type": "code",
   "execution_count": 63,
   "id": "e1398f79",
   "metadata": {},
   "outputs": [
    {
     "data": {
      "text/plain": [
       "(0.7509054325955734, 0.7034872761545712, 0.7264233576642335, None)"
      ]
     },
     "execution_count": 63,
     "metadata": {},
     "output_type": "execute_result"
    }
   ],
   "source": [
    "precision_recall_fscore_support(np.array(labels), np.array(pred_labels), average='binary')"
   ]
  },
  {
   "cell_type": "code",
   "execution_count": 64,
   "id": "1e690f9f",
   "metadata": {},
   "outputs": [
    {
     "data": {
      "text/plain": [
       "0.5921640627851406"
      ]
     },
     "execution_count": 64,
     "metadata": {},
     "output_type": "execute_result"
    }
   ],
   "source": [
    "roc_auc_score(np.array(labels), np.array(preds)[:,1])"
   ]
  },
  {
   "cell_type": "code",
   "execution_count": 65,
   "id": "09beacad",
   "metadata": {},
   "outputs": [],
   "source": [
    "pred_mobv3 = np.array(preds)\n",
    "y_test_mobv3 = np.array(labels)"
   ]
  },
  {
   "cell_type": "markdown",
   "id": "cacc6388",
   "metadata": {},
   "source": [
    "## ExLNet"
   ]
  },
  {
   "cell_type": "code",
   "execution_count": 91,
   "id": "fbeb9bcb",
   "metadata": {},
   "outputs": [],
   "source": [
    "squeezenet = torchvision.models.squeezenet1_0(pretrained=True)\n",
    "\n",
    "squeezenet.features[3].expand1x1 = nn.Conv2d(16, 64, kernel_size=(1, 1), stride=(1, 1),groups=16)\n",
    "squeezenet.features[3].expand3x3 = nn.Conv2d(16, 64, kernel_size=(3, 3), stride=(1, 1), padding=(1, 1),groups=16)\n",
    "\n",
    "squeezenet.features[4].expand1x1 = nn.Conv2d(16, 64, kernel_size=(1, 1), stride=(1, 1),groups=16)\n",
    "squeezenet.features[4].expand3x3 = nn.Conv2d(16, 64, kernel_size=(3, 3), stride=(1, 1), padding=(1, 1),groups=16)\n",
    "\n",
    "squeezenet.features[5].expand1x1 = nn.Conv2d(32, 128, kernel_size=(1, 1), stride=(1, 1),groups=32)\n",
    "squeezenet.features[5].expand3x3 = nn.Conv2d(32, 128, kernel_size=(3, 3), stride=(1, 1), padding=(1, 1),groups=32)\n",
    "\n",
    "squeezenet.features[7].expand1x1 = nn.Conv2d(32, 128, kernel_size=(1, 1), stride=(1, 1),groups=32)\n",
    "squeezenet.features[7].expand3x3 = nn.Conv2d(32, 128, kernel_size=(3, 3), stride=(1, 1), padding=(1, 1),groups=32)\n",
    "\n",
    "squeezenet.features[8].expand1x1 = nn.Conv2d(48, 192, kernel_size=(1, 1), stride=(1, 1),groups=48)\n",
    "squeezenet.features[8].expand3x3 = nn.Conv2d(48, 192, kernel_size=(3, 3), stride=(1, 1), padding=(1, 1),groups=48)\n",
    "\n",
    "squeezenet.features[9].expand1x1 = nn.Conv2d(48, 192, kernel_size=(1, 1), stride=(1, 1),groups=48)\n",
    "squeezenet.features[9].expand3x3 = nn.Conv2d(48, 192, kernel_size=(3, 3), stride=(1, 1), padding=(1, 1),groups=48)\n",
    "\n",
    "squeezenet.features[10].expand1x1 = nn.Conv2d(64, 256, kernel_size=(1, 1), stride=(1, 1),groups=64)\n",
    "squeezenet.features[10].expand3x3 = nn.Conv2d(64, 256, kernel_size=(3, 3), stride=(1, 1), padding=(1, 1),groups=64)\n",
    "\n",
    "squeezenet.features[12].expand1x1 = nn.Conv2d(64, 256, kernel_size=(1, 1), stride=(1, 1),groups=64)\n",
    "squeezenet.features[12].expand3x3 = nn.Conv2d(64, 256, kernel_size=(3, 3), stride=(1, 1), padding=(1, 1),groups=64)\n",
    "\n",
    "squeezenet.classifier = nn.Sequential(\n",
    "                                        nn.Dropout(0.5),\n",
    "                                        nn.Conv2d(512, 2, kernel_size=(1, 1), stride=(1, 1)),\n",
    "                                        nn.AdaptiveAvgPool2d(output_size=(1, 1))\n",
    "        )\n",
    "\n",
    "model = squeezenet\n"
   ]
  },
  {
   "cell_type": "code",
   "execution_count": 92,
   "id": "114a35e1",
   "metadata": {},
   "outputs": [],
   "source": [
    "model.load_state_dict(torch.load('saved/exlnet2.pt'))\n",
    "model = model.to(config['device'])"
   ]
  },
  {
   "cell_type": "code",
   "execution_count": 93,
   "id": "64e022c4",
   "metadata": {},
   "outputs": [
    {
     "name": "stdout",
     "output_type": "stream",
     "text": [
      "Test Loss is 0.62472591269811\n",
      "Test Accuracy is 0.7007333333333333\n"
     ]
    }
   ],
   "source": [
    "model.eval()\n",
    "running_loss = 0.0\n",
    "running_corrects = 0\n",
    "total = 0\n",
    "preds = []\n",
    "pred_labels = []\n",
    "labels = []\n",
    "\n",
    "        # Disable gradient calculation for validation or inference using torch.no_rad()\n",
    "with torch.no_grad():\n",
    "            for x,y in test_dl:\n",
    "                x = x.to(config['device'])\n",
    "                y = y.to(config['device']) #CHW --> #HWC\n",
    "                valid_logits = model(x)\n",
    "                predict_prob = F.softmax(valid_logits)\n",
    "                _,predictions = predict_prob.max(1)\n",
    "                predictions = predictions.to('cpu')\n",
    "                \n",
    "                _, valid_preds = torch.max(valid_logits, 1)\n",
    "                valid_loss = criterion(valid_logits,y)\n",
    "                running_loss += valid_loss.item() * x.size(0)\n",
    "                running_corrects += torch.sum(valid_preds == y.data)\n",
    "                total += y.size(0)\n",
    "                predict_prob = predict_prob.to('cpu')\n",
    "                \n",
    "                pred_labels.extend(list(predictions.numpy()))\n",
    "                preds.extend(list(predict_prob.numpy()))\n",
    "                y = y.to('cpu')\n",
    "                labels.extend(list(y.numpy()))\n",
    "            \n",
    "epoch_loss = running_loss / len(test_data)\n",
    "epoch_acc = running_corrects.double() / len(test_data)\n",
    "print(\"Test Loss is {}\".format(epoch_loss))\n",
    "print(\"Test Accuracy is {}\".format(epoch_acc.cpu()))"
   ]
  },
  {
   "cell_type": "code",
   "execution_count": 94,
   "id": "875f76b4",
   "metadata": {},
   "outputs": [
    {
     "data": {
      "text/plain": [
       "(0.7482358666558521, 0.8694627709707823, 0.8043070752866297, None)"
      ]
     },
     "execution_count": 94,
     "metadata": {},
     "output_type": "execute_result"
    }
   ],
   "source": [
    "precision_recall_fscore_support(np.array(labels), np.array(pred_labels), average='binary')"
   ]
  },
  {
   "cell_type": "code",
   "execution_count": 70,
   "id": "7916998e",
   "metadata": {},
   "outputs": [
    {
     "data": {
      "text/plain": [
       "0.6427237810206128"
      ]
     },
     "execution_count": 70,
     "metadata": {},
     "output_type": "execute_result"
    }
   ],
   "source": [
    "roc_auc_score(np.array(labels), np.array(preds)[:,1])"
   ]
  },
  {
   "cell_type": "code",
   "execution_count": 71,
   "id": "473db7a7",
   "metadata": {},
   "outputs": [],
   "source": [
    "pred_exlnet = np.array(preds)\n",
    "y_test_exlnet = np.array(labels)"
   ]
  },
  {
   "cell_type": "markdown",
   "id": "3621bd82",
   "metadata": {},
   "source": [
    "## Shufflenet"
   ]
  },
  {
   "cell_type": "code",
   "execution_count": 72,
   "id": "5d742895",
   "metadata": {},
   "outputs": [],
   "source": [
    "shufflenet = models.shufflenet_v2_x1_0(pretrained = True)\n",
    "shufflenet.fc = nn.Linear(in_features = 1024, out_features = 2, bias=True)\n",
    "model = shufflenet"
   ]
  },
  {
   "cell_type": "code",
   "execution_count": 73,
   "id": "206e5438",
   "metadata": {},
   "outputs": [],
   "source": [
    "model.load_state_dict(torch.load('saved/shufflenetv1.pth'))\n",
    "model = model.to(config['device'])"
   ]
  },
  {
   "cell_type": "code",
   "execution_count": 74,
   "id": "4bfd1042",
   "metadata": {},
   "outputs": [
    {
     "name": "stdout",
     "output_type": "stream",
     "text": [
      "Test Loss is 0.9579984936396281\n",
      "Test Accuracy is 0.6562666666666667\n"
     ]
    }
   ],
   "source": [
    "model.eval()\n",
    "running_loss = 0.0\n",
    "running_corrects = 0\n",
    "total = 0\n",
    "preds = []\n",
    "pred_labels = []\n",
    "labels = []\n",
    "\n",
    "        # Disable gradient calculation for validation or inference using torch.no_rad()\n",
    "with torch.no_grad():\n",
    "            for x,y in test_dl:\n",
    "                x = x.to(config['device'])\n",
    "                y = y.to(config['device']) #CHW --> #HWC\n",
    "                valid_logits = model(x)\n",
    "                predict_prob = F.softmax(valid_logits)\n",
    "                _,predictions = predict_prob.max(1)\n",
    "                predictions = predictions.to('cpu')\n",
    "                \n",
    "                _, valid_preds = torch.max(valid_logits, 1)\n",
    "                valid_loss = criterion(valid_logits,y)\n",
    "                running_loss += valid_loss.item() * x.size(0)\n",
    "                running_corrects += torch.sum(valid_preds == y.data)\n",
    "                total += y.size(0)\n",
    "                predict_prob = predict_prob.to('cpu')\n",
    "                \n",
    "                pred_labels.extend(list(predictions.numpy()))\n",
    "                preds.extend(list(predict_prob.numpy()))\n",
    "                y = y.to('cpu')\n",
    "                labels.extend(list(y.numpy()))\n",
    "            \n",
    "epoch_loss = running_loss / len(test_data)\n",
    "epoch_acc = running_corrects.double() / len(test_data)\n",
    "print(\"Test Loss is {}\".format(epoch_loss))\n",
    "print(\"Test Accuracy is {}\".format(epoch_acc.cpu()))"
   ]
  },
  {
   "cell_type": "code",
   "execution_count": 75,
   "id": "b9017e95",
   "metadata": {},
   "outputs": [
    {
     "data": {
      "text/plain": [
       "(0.7971235563303551, 0.6895381715362865, 0.7394380432585405, None)"
      ]
     },
     "execution_count": 75,
     "metadata": {},
     "output_type": "execute_result"
    }
   ],
   "source": [
    "precision_recall_fscore_support(np.array(labels), np.array(pred_labels), average='binary')"
   ]
  },
  {
   "cell_type": "code",
   "execution_count": 76,
   "id": "0d694af0",
   "metadata": {},
   "outputs": [
    {
     "data": {
      "text/plain": [
       "0.6919661363006919"
      ]
     },
     "execution_count": 76,
     "metadata": {},
     "output_type": "execute_result"
    }
   ],
   "source": [
    "roc_auc_score(np.array(labels), np.array(preds)[:,1])"
   ]
  },
  {
   "cell_type": "code",
   "execution_count": 77,
   "id": "0fc4c165",
   "metadata": {},
   "outputs": [],
   "source": [
    "pred_shuff = np.array(preds)\n",
    "y_test_shuff = np.array(labels)"
   ]
  },
  {
   "cell_type": "markdown",
   "id": "afe5725e",
   "metadata": {},
   "source": [
    "## ResNet50"
   ]
  },
  {
   "cell_type": "code",
   "execution_count": 78,
   "id": "e38f5e76",
   "metadata": {},
   "outputs": [],
   "source": [
    "resnet50 = torchvision.models.resnet50(pretrained=True)\n",
    "resnet50.fc = nn.Sequential(\n",
    "    nn.Dropout(0.4),\n",
    "    nn.Linear(in_features = 2048, out_features = 2, bias = True))\n",
    "model = resnet50\n",
    "\n",
    "model.load_state_dict(torch.load('saved/resnet50.pt'))\n",
    "model = model.to(config['device'])"
   ]
  },
  {
   "cell_type": "code",
   "execution_count": 79,
   "id": "83909775",
   "metadata": {},
   "outputs": [
    {
     "name": "stdout",
     "output_type": "stream",
     "text": [
      "Test Loss is 1.2821202532450358\n",
      "Test Accuracy is 0.6695333333333333\n"
     ]
    }
   ],
   "source": [
    "model.eval()\n",
    "running_loss = 0.0\n",
    "running_corrects = 0\n",
    "total = 0\n",
    "preds = []\n",
    "pred_labels = []\n",
    "labels = []\n",
    "\n",
    "        # Disable gradient calculation for validation or inference using torch.no_rad()\n",
    "with torch.no_grad():\n",
    "            for x,y in test_dl:\n",
    "                x = x.to(config['device'])\n",
    "                y = y.to(config['device']) #CHW --> #HWC\n",
    "                valid_logits = model(x)\n",
    "                predict_prob = F.softmax(valid_logits)\n",
    "                _,predictions = predict_prob.max(1)\n",
    "                predictions = predictions.to('cpu')\n",
    "                \n",
    "                _, valid_preds = torch.max(valid_logits, 1)\n",
    "                valid_loss = criterion(valid_logits,y)\n",
    "                running_loss += valid_loss.item() * x.size(0)\n",
    "                running_corrects += torch.sum(valid_preds == y.data)\n",
    "                total += y.size(0)\n",
    "                predict_prob = predict_prob.to('cpu')\n",
    "                \n",
    "                pred_labels.extend(list(predictions.numpy()))\n",
    "                preds.extend(list(predict_prob.numpy()))\n",
    "                y = y.to('cpu')\n",
    "                labels.extend(list(y.numpy()))\n",
    "            \n",
    "epoch_loss = running_loss / len(test_data)\n",
    "epoch_acc = running_corrects.double() / len(test_data)\n",
    "print(\"Test Loss is {}\".format(epoch_loss))\n",
    "print(\"Test Accuracy is {}\".format(epoch_acc.cpu()))"
   ]
  },
  {
   "cell_type": "code",
   "execution_count": 80,
   "id": "0fadb88f",
   "metadata": {},
   "outputs": [
    {
     "data": {
      "text/plain": [
       "(0.7427221983683985, 0.8151743638077286, 0.7772635362839811, None)"
      ]
     },
     "execution_count": 80,
     "metadata": {},
     "output_type": "execute_result"
    }
   ],
   "source": [
    "precision_recall_fscore_support(np.array(labels), np.array(pred_labels), average='binary')"
   ]
  },
  {
   "cell_type": "code",
   "execution_count": 81,
   "id": "184fc363",
   "metadata": {},
   "outputs": [
    {
     "data": {
      "text/plain": [
       "0.6151327560924817"
      ]
     },
     "execution_count": 81,
     "metadata": {},
     "output_type": "execute_result"
    }
   ],
   "source": [
    "roc_auc_score(np.array(labels), np.array(preds)[:,1])"
   ]
  },
  {
   "cell_type": "code",
   "execution_count": 82,
   "id": "0a01fedc",
   "metadata": {},
   "outputs": [],
   "source": [
    "pred_res50 = np.array(preds)\n",
    "y_test_res50 = np.array(labels)"
   ]
  },
  {
   "cell_type": "markdown",
   "id": "bd024bd0",
   "metadata": {},
   "source": [
    "## Squeezenet"
   ]
  },
  {
   "cell_type": "code",
   "execution_count": 83,
   "id": "1671dd3d",
   "metadata": {},
   "outputs": [],
   "source": [
    "squeezenet = torchvision.models.squeezenet1_0(pretrained=True)\n",
    "squeezenet.classifier[1] = nn.Conv2d(512, 2, kernel_size=(1, 1), stride=(1, 1))\n",
    "model = squeezenet\n",
    "model.load_state_dict(torch.load('saved/squeezenet.pt'))\n",
    "model = model.to(config['device'])"
   ]
  },
  {
   "cell_type": "code",
   "execution_count": 84,
   "id": "9ebf17f9",
   "metadata": {},
   "outputs": [
    {
     "name": "stdout",
     "output_type": "stream",
     "text": [
      "Test Loss is 0.6603653549194336\n",
      "Test Accuracy is 0.5746666666666667\n"
     ]
    }
   ],
   "source": [
    "model.eval()\n",
    "running_loss = 0.0\n",
    "running_corrects = 0\n",
    "total = 0\n",
    "preds = []\n",
    "pred_labels = []\n",
    "labels = []\n",
    "\n",
    "        # Disable gradient calculation for validation or inference using torch.no_rad()\n",
    "with torch.no_grad():\n",
    "            for x,y in test_dl:\n",
    "                x = x.to(config['device'])\n",
    "                y = y.to(config['device']) #CHW --> #HWC\n",
    "                valid_logits = model(x)\n",
    "                predict_prob = F.softmax(valid_logits)\n",
    "                _,predictions = predict_prob.max(1)\n",
    "                predictions = predictions.to('cpu')\n",
    "                \n",
    "                _, valid_preds = torch.max(valid_logits, 1)\n",
    "                valid_loss = criterion(valid_logits,y)\n",
    "                running_loss += valid_loss.item() * x.size(0)\n",
    "                running_corrects += torch.sum(valid_preds == y.data)\n",
    "                total += y.size(0)\n",
    "                predict_prob = predict_prob.to('cpu')\n",
    "                \n",
    "                pred_labels.extend(list(predictions.numpy()))\n",
    "                preds.extend(list(predict_prob.numpy()))\n",
    "                y = y.to('cpu')\n",
    "                labels.extend(list(y.numpy()))\n",
    "            \n",
    "epoch_loss = running_loss / len(test_data)\n",
    "epoch_acc = running_corrects.double() / len(test_data)\n",
    "print(\"Test Loss is {}\".format(epoch_loss))\n",
    "print(\"Test Accuracy is {}\".format(epoch_acc.cpu()))"
   ]
  },
  {
   "cell_type": "code",
   "execution_count": 85,
   "id": "1a2f239e",
   "metadata": {},
   "outputs": [
    {
     "data": {
      "text/plain": [
       "(0.7754623599895806, 0.5611687087653158, 0.6511373578302713, None)"
      ]
     },
     "execution_count": 85,
     "metadata": {},
     "output_type": "execute_result"
    }
   ],
   "source": [
    "precision_recall_fscore_support(np.array(labels), np.array(pred_labels), average='binary')"
   ]
  },
  {
   "cell_type": "code",
   "execution_count": 86,
   "id": "f865db0d",
   "metadata": {},
   "outputs": [
    {
     "data": {
      "text/plain": [
       "0.6356747942693852"
      ]
     },
     "execution_count": 86,
     "metadata": {},
     "output_type": "execute_result"
    }
   ],
   "source": [
    "roc_auc_score(np.array(labels), np.array(preds)[:,1])"
   ]
  },
  {
   "cell_type": "code",
   "execution_count": 87,
   "id": "3f6eebf6",
   "metadata": {},
   "outputs": [],
   "source": [
    "y_test = np.array(labels)\n",
    "pred_squeeze = np.array(preds)"
   ]
  },
  {
   "cell_type": "code",
   "execution_count": 88,
   "id": "d09250df",
   "metadata": {},
   "outputs": [
    {
     "data": {
      "image/png": "[encoded data removed]",
      "text/plain": [
       "<Figure size 432x288 with 1 Axes>"
      ]
     },
     "metadata": {
      "needs_background": "light"
     },
     "output_type": "display_data"
    }
   ],
   "source": [
    "preds = pred_mobv2[:,1]\n",
    "fpr, tpr, threshold = metrics.roc_curve(y_test_mobv2, preds)\n",
    "roc_auc = metrics.auc(fpr, tpr)\n",
    "plt.plot(fpr, tpr, 'b', label = 'Mobilenet-V2: %0.2f' % roc_auc,color = 'orange')\n",
    "\n",
    "preds = pred_effb4[:,1]\n",
    "fpr, tpr, threshold = metrics.roc_curve(y_test_effb4, preds)\n",
    "roc_auc = metrics.auc(fpr, tpr)\n",
    "plt.plot(fpr, tpr, 'b', label = 'Efficientnet-B4: %0.2f' % roc_auc,color = 'red')\n",
    "\n",
    "preds = pred_shuff[:,1]\n",
    "fpr, tpr, threshold = metrics.roc_curve(y_test_shuff, preds)\n",
    "roc_auc = metrics.auc(fpr, tpr)\n",
    "plt.plot(fpr, tpr, 'b', label = 'Shufflenet: %0.2f' % roc_auc,color = 'pink')\n",
    "\n",
    "preds = pred_mobv3[:,1]\n",
    "fpr, tpr, threshold = metrics.roc_curve(y_test_mobv3, preds)\n",
    "roc_auc = metrics.auc(fpr, tpr)\n",
    "plt.plot(fpr, tpr, 'b', label = 'Mobilenet-V3: %0.2f' % roc_auc,color = 'blue')\n",
    "\n",
    "preds = pred_res50[:,1]\n",
    "fpr, tpr, threshold = metrics.roc_curve(y_test_res50, preds)\n",
    "roc_auc = metrics.auc(fpr, tpr)\n",
    "plt.plot(fpr, tpr, 'b', label = 'ResNet-50: %0.2f' % roc_auc,color = 'green')\n",
    "\n",
    "preds = pred_squeeze[:,1]\n",
    "fpr, tpr, threshold = metrics.roc_curve(y_test, preds)\n",
    "roc_auc = metrics.auc(fpr, tpr)\n",
    "plt.plot(fpr, tpr, 'b', label = 'Squeezenet: %0.2f' % roc_auc,color = 'yellow')\n",
    "\n",
    "preds = pred_exlnet[:,1]\n",
    "fpr, tpr, threshold = metrics.roc_curve(y_test_exlnet, preds)\n",
    "roc_auc = metrics.auc(fpr, tpr)\n",
    "plt.plot(fpr, tpr, 'b', label = 'ExLNet: %0.2f' % roc_auc,color = 'black')\n",
    "\n",
    "plt.legend(loc = 'lower right')\n",
    "plt.plot([0, 1], [0, 1],'r--')\n",
    "plt.xlim([0, 1])\n",
    "plt.ylim([0, 1])\n",
    "plt.ylabel('True Positive Rate')\n",
    "plt.xlabel('False Positive Rate')\n",
    "plt.title('ROC CURVE')\n",
    "plt.savefig('stanford_ROC.png')\n",
    "plt.savefig('stanford_ROC.svg',format = 'svg')\n",
    "plt.show()"
   ]
  },
  {
   "cell_type": "code",
   "execution_count": null,
   "id": "cf84eb22",
   "metadata": {},
   "outputs": [],
   "source": []
  }
 ],
 "metadata": {
  "kernelspec": {
   "display_name": "Python 3 (ipykernel)",
   "language": "python",
   "name": "python3"
  },
  "language_info": {
   "codemirror_mode": {
    "name": "ipython",
    "version": 3
   },
   "file_extension": ".py",
   "mimetype": "text/x-python",
   "name": "python",
   "nbconvert_exporter": "python",
   "pygments_lexer": "ipython3",
   "version": "3.7.3"
  }
 },
 "nbformat": 4,
 "nbformat_minor": 5
}
