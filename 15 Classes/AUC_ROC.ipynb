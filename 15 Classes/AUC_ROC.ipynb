{
 "cells": [
  {
   "cell_type": "markdown",
   "id": "1aa771a2",
   "metadata": {},
   "source": [
    "## Optimizing Training Pipeline in Pytorch"
   ]
  },
  {
   "cell_type": "markdown",
   "id": "3b88631d",
   "metadata": {},
   "source": [
    "To improve training performance in any deep learning pipeline, pytorch suggests few extra additions of codes in exitin pipeline.\n",
    "These additions are explained and mentioned well here in [Performance Tuning Guide](https://pytorch.org/tutorials/recipes/recipes/tuning_guide.html) . In this notebook you will encounter few of such features with hands-on dedicated for GPU Computing."
   ]
  },
  {
   "cell_type": "code",
   "execution_count": 1,
   "id": "abdbfc3c",
   "metadata": {},
   "outputs": [],
   "source": [
    "import os\n",
    "import json\n",
    "import time\n",
    "import random\n",
    "import numpy as np\n",
    "import pandas as pd\n",
    "from PIL import Image\n",
    "from sklearn.model_selection import train_test_split\n",
    "import warnings\n",
    "warnings.filterwarnings(\"ignore\")"
   ]
  },
  {
   "cell_type": "code",
   "execution_count": 2,
   "id": "8ab84cce",
   "metadata": {},
   "outputs": [],
   "source": [
    "import torch\n",
    "import torch.nn as nn\n",
    "import torch.optim as optim\n",
    "from torchvision import transforms\n",
    "from torch.utils.data import Dataset, DataLoader\n",
    "import torchvision.models as models"
   ]
  },
  {
   "cell_type": "markdown",
   "id": "4a6513ac",
   "metadata": {},
   "source": [
    "### Set GPU Device if multiple"
   ]
  },
  {
   "cell_type": "code",
   "execution_count": 3,
   "id": "cd0f3356",
   "metadata": {},
   "outputs": [
    {
     "name": "stdout",
     "output_type": "stream",
     "text": [
      "Thu Feb  3 10:39:17 2022       \n",
      "+-----------------------------------------------------------------------------+\n",
      "| NVIDIA-SMI 455.38       Driver Version: 455.38       CUDA Version: 11.1     |\n",
      "|-------------------------------+----------------------+----------------------+\n",
      "| GPU  Name        Persistence-M| Bus-Id        Disp.A | Volatile Uncorr. ECC |\n",
      "| Fan  Temp  Perf  Pwr:Usage/Cap|         Memory-Usage | GPU-Util  Compute M. |\n",
      "|                               |                      |               MIG M. |\n",
      "|===============================+======================+======================|\n",
      "|   0  GeForce GTX 108...  Off  | 00000000:04:00.0 Off |                  N/A |\n",
      "| 20%   25C    P8    12W / 250W |      2MiB / 11178MiB |      0%      Default |\n",
      "|                               |                      |                  N/A |\n",
      "+-------------------------------+----------------------+----------------------+\n",
      "|   1  GeForce GTX 108...  Off  | 00000000:06:00.0 Off |                  N/A |\n",
      "| 20%   25C    P8     7W / 250W |      2MiB / 11178MiB |      0%      Default |\n",
      "|                               |                      |                  N/A |\n",
      "+-------------------------------+----------------------+----------------------+\n",
      "|   2  GeForce GTX 108...  Off  | 00000000:07:00.0 Off |                  N/A |\n",
      "| 20%   25C    P8     7W / 250W |      2MiB / 11178MiB |      0%      Default |\n",
      "|                               |                      |                  N/A |\n",
      "+-------------------------------+----------------------+----------------------+\n",
      "|   3  GeForce GTX 108...  Off  | 00000000:08:00.0 Off |                  N/A |\n",
      "| 20%   25C    P8     7W / 250W |      2MiB / 11178MiB |      0%      Default |\n",
      "|                               |                      |                  N/A |\n",
      "+-------------------------------+----------------------+----------------------+\n",
      "|   4  GeForce GTX 108...  Off  | 00000000:0C:00.0 Off |                  N/A |\n",
      "| 20%   30C    P8     7W / 250W |      2MiB / 11178MiB |      0%      Default |\n",
      "|                               |                      |                  N/A |\n",
      "+-------------------------------+----------------------+----------------------+\n",
      "|   5  GeForce GTX 108...  Off  | 00000000:0D:00.0 Off |                  N/A |\n",
      "| 20%   25C    P8     8W / 250W |      2MiB / 11178MiB |      0%      Default |\n",
      "|                               |                      |                  N/A |\n",
      "+-------------------------------+----------------------+----------------------+\n",
      "|   6  GeForce GTX 108...  Off  | 00000000:0E:00.0 Off |                  N/A |\n",
      "| 20%   28C    P8     7W / 250W |      2MiB / 11178MiB |      0%      Default |\n",
      "|                               |                      |                  N/A |\n",
      "+-------------------------------+----------------------+----------------------+\n",
      "|   7  GeForce GTX 108...  Off  | 00000000:0F:00.0 Off |                  N/A |\n",
      "| 20%   26C    P8     8W / 250W |      2MiB / 11178MiB |      0%      Default |\n",
      "|                               |                      |                  N/A |\n",
      "+-------------------------------+----------------------+----------------------+\n",
      "                                                                               \n",
      "+-----------------------------------------------------------------------------+\n",
      "| Processes:                                                                  |\n",
      "|  GPU   GI   CI        PID   Type   Process name                  GPU Memory |\n",
      "|        ID   ID                                                   Usage      |\n",
      "|=============================================================================|\n",
      "|  No running processes found                                                 |\n",
      "+-----------------------------------------------------------------------------+\n"
     ]
    }
   ],
   "source": [
    "!nvidia-smi"
   ]
  },
  {
   "cell_type": "code",
   "execution_count": 4,
   "id": "97aac0f3",
   "metadata": {},
   "outputs": [],
   "source": [
    "##############################################################\n",
    "os.environ[\"CUDA_DEVICE_ORDER\"]=\"PCI_BUS_ID\"  \n",
    "os.environ[\"CUDA_VISIBLE_DEVICES\"]=\"2\"\n",
    "##############################################################"
   ]
  },
  {
   "cell_type": "markdown",
   "id": "f9599eb6",
   "metadata": {},
   "source": [
    "### Use device for `cuda` or `cpu` based on availability"
   ]
  },
  {
   "cell_type": "code",
   "execution_count": 5,
   "id": "0691e0ab",
   "metadata": {},
   "outputs": [
    {
     "data": {
      "text/plain": [
       "device(type='cuda')"
      ]
     },
     "execution_count": 5,
     "metadata": {},
     "output_type": "execute_result"
    }
   ],
   "source": [
    "####################################################################\n",
    "#GPU using CUDA\n",
    "device = torch.device(\"cuda\" if torch.cuda.is_available() else \"cpu\")\n",
    "device\n",
    "####################################################################"
   ]
  },
  {
   "cell_type": "code",
   "execution_count": 6,
   "id": "7cd0f95e",
   "metadata": {},
   "outputs": [],
   "source": [
    "config = dict(\n",
    "    IMAGE_PATH= \"nih-dataset/nih-15-class\",\n",
    "    saved_path=\"saved/resnet18.pt\",\n",
    "    lr=0.001, \n",
    "    EPOCHS = 5,\n",
    "    BATCH_SIZE = 32,\n",
    "    IMAGE_SIZE = 224,\n",
    "    TRAIN_VALID_SPLIT = 0.2,\n",
    "    device=device,\n",
    "    SEED = 42,\n",
    "    pin_memory=True,\n",
    "    num_workers=8,\n",
    "    USE_AMP = True,\n",
    "    channels_last=False)\n",
    "####################################################################"
   ]
  },
  {
   "cell_type": "code",
   "execution_count": 7,
   "id": "1053216c",
   "metadata": {},
   "outputs": [],
   "source": [
    "# For custom operators, you might need to set python seed\n",
    "random.seed(config['SEED'])\n",
    "# If you or any of the libraries you are using rely on NumPy, you can seed the global NumPy RNG \n",
    "np.random.seed(config['SEED'])\n",
    "# Prevent RNG for CPU and GPU using torch\n",
    "torch.manual_seed(config['SEED'])\n",
    "torch.cuda.manual_seed(config['SEED'])"
   ]
  },
  {
   "cell_type": "markdown",
   "id": "6f428d78",
   "metadata": {},
   "source": [
    "### Create tensors directly on the target device\n",
    "\n",
    "Instead of calling `torch.rand(size).cuda()` to generate a random tensor, produce the output directly on the target device: `torch.rand(size, device=torch.device('cuda'))`.\n",
    "\n",
    "This is applicable to all functions which create new tensors and accept device argument: `torch.rand(), torch.zeros(), torch.full()` and similar."
   ]
  },
  {
   "cell_type": "markdown",
   "id": "eebed8a6",
   "metadata": {},
   "source": [
    "CUDA Convolution Benchmarking: Best Convolution Algo but may loose reproducibility if True"
   ]
  },
  {
   "cell_type": "code",
   "execution_count": 8,
   "id": "61fbb7a5",
   "metadata": {},
   "outputs": [],
   "source": [
    "# If researcher and wants to reproducuce: False\n",
    "# If developer wants performance: True\n",
    "torch.backends.cudnn.benchmarks = True\n",
    "torch.backends.cudnn.deterministic = True\n",
    "\n",
    "torch.backends.cuda.matmul.allow_tf32 = True\n",
    "\n",
    "# The flag below controls whether to allow TF32 on cuDNN. This flag defaults to True.\n",
    "torch.backends.cudnn.allow_tf32 = True"
   ]
  },
  {
   "cell_type": "markdown",
   "id": "175a964c",
   "metadata": {},
   "source": [
    "Apply Data Transforms (Aumentations + Processing)"
   ]
  },
  {
   "cell_type": "code",
   "execution_count": 9,
   "id": "e706952e",
   "metadata": {},
   "outputs": [],
   "source": [
    "data_transforms = {\n",
    "    'train': transforms.Compose([\n",
    "        transforms.RandomResizedCrop((224,224)),\n",
    "        #transforms.RandomHorizontalFlip(),\n",
    "        transforms.ToTensor(),\n",
    "        transforms.Normalize([0.485, 0.456, 0.406], [0.229, 0.224, 0.225])\n",
    "    ]),\n",
    "    'val': transforms.Compose([\n",
    "        transforms.Resize((config['IMAGE_SIZE'],config['IMAGE_SIZE'])),\n",
    "        transforms.ToTensor(),\n",
    "        transforms.Normalize([0.485, 0.456, 0.406], [0.229, 0.224, 0.225])\n",
    "    ]),\n",
    "    'test': transforms.Compose([\n",
    "        transforms.Resize((config['IMAGE_SIZE'],config['IMAGE_SIZE'])),\n",
    "        transforms.ToTensor(),\n",
    "        transforms.Normalize([0.485, 0.456, 0.406], [0.229, 0.224, 0.225])\n",
    "    ]),\n",
    "}"
   ]
  },
  {
   "cell_type": "code",
   "execution_count": 42,
   "id": "3f6f520e",
   "metadata": {},
   "outputs": [
    {
     "data": {
      "text/plain": [
       "['Hernia',\n",
       " 'Nodule',\n",
       " 'Fibrosis',\n",
       " 'Consolidation',\n",
       " 'Cardiomegaly',\n",
       " 'No Finding',\n",
       " 'Emphysema',\n",
       " 'Effusion',\n",
       " 'Pneumothorax',\n",
       " 'Pneumonia',\n",
       " 'Atelectasis',\n",
       " 'Infiltration',\n",
       " 'Pleural_Thickening',\n",
       " 'Edema',\n",
       " 'Mass']"
      ]
     },
     "execution_count": 42,
     "metadata": {},
     "output_type": "execute_result"
    }
   ],
   "source": [
    "my_path = '../../../dataset/NIH_WHOLE_DATASET/nih-15-class'\n",
    "os.listdir(my_path)"
   ]
  },
  {
   "cell_type": "code",
   "execution_count": 43,
   "id": "fbb14d16",
   "metadata": {},
   "outputs": [
    {
     "name": "stdout",
     "output_type": "stream",
     "text": [
      "141537\n"
     ]
    }
   ],
   "source": [
    "import torchvision\n",
    "images = torchvision.datasets.ImageFolder(root=my_path,transform=data_transforms['test'])\n",
    "print(len(images))\n",
    "other, train_data,valid_data,test_data = torch.utils.data.dataset.random_split(images,[120000,1000,1000,19537])"
   ]
  },
  {
   "cell_type": "code",
   "execution_count": 44,
   "id": "37e8882a",
   "metadata": {},
   "outputs": [],
   "source": [
    "train_dl = torch.utils.data.DataLoader(dataset=train_data,batch_size=32,shuffle=True, num_workers = config['num_workers'],\n",
    "                                          pin_memory = config['pin_memory'])\n",
    "valid_dl = torch.utils.data.DataLoader(dataset = valid_data,batch_size=32,shuffle=True, num_workers = config['num_workers'],\n",
    "                                          pin_memory = config['pin_memory'])\n",
    "test_dl = torch.utils.data.DataLoader(dataset=test_data,batch_size=32,shuffle=True, num_workers = config['num_workers'],\n",
    "                                          pin_memory = config['pin_memory'])"
   ]
  },
  {
   "cell_type": "markdown",
   "id": "0ba10f4a",
   "metadata": {},
   "source": [
    "Optimizers:\n",
    "Gradient Descent:-\n",
    "    a. Stoicastic Gradient Descent bs = 1; 'n' number of examples. 'n / 1' number of data loader/steps for 1 Epoch\n",
    "    b. Mini-Batch Gradient Descent bs = 32; 'n' number of examples. 'n / 32' number of dataloaders/step for 1 Epoch \n",
    "    c. Full Batch Gradient Descent bs = total_number_of_samples number of dataloader/steps = 1 for 1 Epoch"
   ]
  },
  {
   "cell_type": "code",
   "execution_count": 45,
   "id": "152bec20",
   "metadata": {},
   "outputs": [
    {
     "data": {
      "text/plain": [
       "32"
      ]
     },
     "execution_count": 45,
     "metadata": {},
     "output_type": "execute_result"
    }
   ],
   "source": [
    "len(train_dl)"
   ]
  },
  {
   "cell_type": "code",
   "execution_count": 46,
   "id": "0726efb9",
   "metadata": {},
   "outputs": [
    {
     "name": "stdout",
     "output_type": "stream",
     "text": [
      "tensor([10, 10,  2,  1, 10, 10, 14,  1,  9, 10, 10,  4, 10, 10,  4,  4, 10,  4,\n",
      "        11,  0, 10, 10,  8,  3,  0,  4, 10, 10,  0,  4, 10, 10])\n"
     ]
    },
    {
     "data": {
      "text/plain": [
       "<matplotlib.image.AxesImage at 0x7f32c6928ac8>"
      ]
     },
     "execution_count": 46,
     "metadata": {},
     "output_type": "execute_result"
    },
    {
     "data": {
      "image/png": "[encoded data removed]",
      "text/plain": [
       "<Figure size 432x288 with 1 Axes>"
      ]
     },
     "metadata": {
      "needs_background": "light"
     },
     "output_type": "display_data"
    }
   ],
   "source": [
    "import matplotlib.pyplot as plt\n",
    "a = iter(valid_dl)\n",
    "b = next(a)\n",
    "print(b[1])\n",
    "plt.imshow(b[0][0][0])"
   ]
  },
  {
   "cell_type": "markdown",
   "id": "eac232ff",
   "metadata": {},
   "source": [
    "Load Model : Pretrained from torchvision model zoo or Saved model"
   ]
  },
  {
   "cell_type": "code",
   "execution_count": 47,
   "id": "2689c1c0",
   "metadata": {},
   "outputs": [],
   "source": [
    "mobilenet = models.mobilenet_v2(pretrained=True)\n",
    "mobilenet.classifier[1] = nn.Linear(in_features = 1280, out_features = 15, bias = True)\n",
    "model = mobilenet\n",
    "#print(model)"
   ]
  },
  {
   "cell_type": "code",
   "execution_count": 48,
   "id": "2666e8ff",
   "metadata": {},
   "outputs": [
    {
     "data": {
      "text/plain": [
       "<All keys matched successfully>"
      ]
     },
     "execution_count": 48,
     "metadata": {},
     "output_type": "execute_result"
    }
   ],
   "source": [
    "model.load_state_dict(torch.load('saved15/mobilenet_v2.pt'))"
   ]
  },
  {
   "cell_type": "code",
   "execution_count": 49,
   "id": "fe071c0b",
   "metadata": {},
   "outputs": [],
   "source": [
    "#Channel Last Optimization in Model\n",
    "\n",
    "model = model.to(config['device'])"
   ]
  },
  {
   "cell_type": "code",
   "execution_count": 50,
   "id": "684650fb",
   "metadata": {},
   "outputs": [],
   "source": [
    "optimizer = optim.Adam(model.parameters(),lr=config['lr'])\n",
    "# Loss Function\n",
    "criterion = nn.CrossEntropyLoss()"
   ]
  },
  {
   "cell_type": "markdown",
   "id": "5d6c40f9",
   "metadata": {},
   "source": [
    "### Training Pipeline Starts"
   ]
  },
  {
   "cell_type": "code",
   "execution_count": 51,
   "id": "559b49d9",
   "metadata": {},
   "outputs": [],
   "source": [
    "def train_model(model,criterion,optimizer,num_epochs=10):\n",
    "\n",
    "    since = time.time()                                            \n",
    "    batch_ct = 0\n",
    "    example_ct = 0\n",
    "    for epoch in range(num_epochs):\n",
    "        print('Epoch {}/{}'.format(epoch, num_epochs - 1))\n",
    "        print('-' * 10)\n",
    "        \n",
    "        #Training\n",
    "        model.train()\n",
    "        run_corrects = 0\n",
    "        for x,y in train_dl:\n",
    "            x = x.to(config['device'])\n",
    "            y = y.to(config['device'])\n",
    "            \n",
    "            optimizer.zero_grad()\n",
    "            #optimizer.zero_grad(set_to_none=True)\n",
    "            ######################################################################\n",
    "            \n",
    "            train_logits = model(x) #Input = [BS,3,224,224] (Image) -- Model --> [BS,4] (Output Scores)\n",
    "            _, train_preds = torch.max(train_logits, 1)\n",
    "            train_loss = criterion(train_logits,y)\n",
    "            run_corrects += torch.sum(train_preds == y.data)\n",
    "            \n",
    "            train_loss.backward() # Backpropagation this is where your W_gradient\n",
    "            loss=train_loss\n",
    "\n",
    "            optimizer.step() # W_new = W_old - LR * W_gradient \n",
    "            example_ct += len(x) \n",
    "            batch_ct += 1\n",
    "            \n",
    "            ########################################################################\n",
    "            # Stores Wandb Logs here\n",
    "            # Report metrics every 25th batch\n",
    "            if ((batch_ct + 1) % 25) == 0:\n",
    "                train_log(loss, example_ct, epoch)\n",
    "            ########################################################################\n",
    "        \n",
    "        #validation\n",
    "        model.eval()\n",
    "        running_loss = 0.0\n",
    "        running_corrects = 0\n",
    "        total = 0\n",
    "        # Disable gradient calculation for validation or inference using torch.no_rad()\n",
    "        with torch.no_grad():\n",
    "            for x,y in valid_dl:\n",
    "                x = x.to(config['device'])\n",
    "                y = y.to(config['device']) #CHW --> #HWC\n",
    "                valid_logits = model(x)\n",
    "                _, valid_preds = torch.max(valid_logits, 1)\n",
    "                valid_loss = criterion(valid_logits,y)\n",
    "                running_loss += valid_loss.item() * x.size(0)\n",
    "                running_corrects += torch.sum(valid_preds == y.data)\n",
    "                total += y.size(0)\n",
    "            \n",
    "        epoch_loss = running_loss / len(valid_data)\n",
    "        epoch_acc = running_corrects.double() / len(valid_data)\n",
    "        train_acc = run_corrects.double() / len(train_data)\n",
    "        print(\"Train Accuracy\",train_acc.cpu())\n",
    "        print(\"Validation Loss is {}\".format(epoch_loss))\n",
    "        print(\"Validation Accuracy is {}\".format(epoch_acc.cpu()))\n",
    "\n",
    "            \n",
    "    time_elapsed = time.time() - since\n",
    "    print('Training complete in {:.0f}m {:.0f}s'.format(\n",
    "        time_elapsed // 60, time_elapsed % 60))\n",
    "    \n",
    "    torch.save(model.state_dict(), config['saved_path'])"
   ]
  },
  {
   "cell_type": "code",
   "execution_count": 52,
   "id": "fadf928d",
   "metadata": {},
   "outputs": [],
   "source": [
    "def train_log(loss, example_ct, epoch):\n",
    "    loss = float(loss)\n",
    "    print(f\"Loss after \" + str(example_ct).zfill(5) + f\" examples: {loss:.3f}\")"
   ]
  },
  {
   "cell_type": "code",
   "execution_count": 53,
   "id": "1bc11b52",
   "metadata": {},
   "outputs": [
    {
     "name": "stdout",
     "output_type": "stream",
     "text": [
      "Epoch 0/1\n",
      "----------\n",
      "Loss after 00768 examples: 1.046\n",
      "Train Accuracy tensor(0.6150, dtype=torch.float64)\n",
      "Validation Loss is 1.1809197158813476\n",
      "Validation Accuracy is 0.6\n",
      "Epoch 1/1\n",
      "----------\n",
      "Loss after 01544 examples: 0.589\n",
      "Train Accuracy tensor(0.7770, dtype=torch.float64)\n",
      "Validation Loss is 1.169053906917572\n",
      "Validation Accuracy is 0.601\n",
      "Training complete in 0m 10s\n"
     ]
    }
   ],
   "source": [
    "train_model(model, criterion, optimizer, num_epochs=2)"
   ]
  },
  {
   "cell_type": "code",
   "execution_count": 54,
   "id": "eb549ab9",
   "metadata": {},
   "outputs": [
    {
     "name": "stdout",
     "output_type": "stream",
     "text": [
      "Test Loss is 1.1599970828329351\n",
      "Test Accuracy is 0.6085888314480217\n"
     ]
    }
   ],
   "source": [
    "import torch.nn.functional as F\n",
    "model.eval()\n",
    "running_loss = 0.0\n",
    "running_corrects = 0\n",
    "total = 0\n",
    "preds = []\n",
    "pred_labels = []\n",
    "labels = []\n",
    "\n",
    "        # Disable gradient calculation for validation or inference using torch.no_rad()\n",
    "with torch.no_grad():\n",
    "            for x,y in test_dl:\n",
    "                x = x.to(config['device'])\n",
    "                y = y.to(config['device']) #CHW --> #HWC\n",
    "                valid_logits = model(x)\n",
    "                predict_prob = F.softmax(valid_logits)\n",
    "                _,predictions = predict_prob.max(1)\n",
    "                predictions = predictions.to('cpu')\n",
    "                \n",
    "                _, valid_preds = torch.max(valid_logits, 1)\n",
    "                valid_loss = criterion(valid_logits,y)\n",
    "                running_loss += valid_loss.item() * x.size(0)\n",
    "                running_corrects += torch.sum(valid_preds == y.data)\n",
    "                total += y.size(0)\n",
    "                predict_prob = predict_prob.to('cpu')\n",
    "                \n",
    "                pred_labels.extend(list(predictions.numpy()))\n",
    "                preds.extend(list(predict_prob.numpy()))\n",
    "                y = y.to('cpu')\n",
    "                labels.extend(list(y.numpy()))\n",
    "            \n",
    "epoch_loss = running_loss / len(test_data)\n",
    "epoch_acc = running_corrects.double() / len(test_data)\n",
    "print(\"Test Loss is {}\".format(epoch_loss))\n",
    "print(\"Test Accuracy is {}\".format(epoch_acc.cpu()))"
   ]
  },
  {
   "cell_type": "code",
   "execution_count": 55,
   "id": "2a06718a",
   "metadata": {},
   "outputs": [
    {
     "data": {
      "text/plain": [
       "(array([0.40947213, 0.5011655 , 0.23076923, 0.29674797, 0.36837881,\n",
       "        0.43072289, 0.46268657, 0.3559322 , 0.42648752, 0.4612069 ,\n",
       "        0.84594686, 0.49456522, 0.27868852, 0.33333333, 0.43717277]),\n",
       " array([0.50333535, 0.51682692, 0.00473186, 0.43195266, 0.50690226,\n",
       "        0.43865031, 0.2952381 , 0.61764706, 0.39509246, 0.39242054,\n",
       "        0.91532209, 0.21138211, 0.11460674, 0.03883495, 0.45504087]),\n",
       " array([0.4515778 , 0.50887574, 0.00927357, 0.35180723, 0.42667906,\n",
       "        0.43465046, 0.36046512, 0.4516129 , 0.41019014, 0.42404227,\n",
       "        0.87926815, 0.29617575, 0.16242038, 0.06956522, 0.4459279 ]),\n",
       " array([1649,  416,  634,  338, 1811,  326,  210,   34, 2812,  818, 8243,\n",
       "         861,  445,  206,  734]))"
      ]
     },
     "execution_count": 55,
     "metadata": {},
     "output_type": "execute_result"
    }
   ],
   "source": [
    "# Mobilenet v2\n",
    "from sklearn.metrics import precision_recall_fscore_support, roc_auc_score\n",
    "precision_recall_fscore_support(np.array(labels), np.array(pred_labels))"
   ]
  },
  {
   "cell_type": "code",
   "execution_count": 56,
   "id": "46c02cfa",
   "metadata": {},
   "outputs": [
    {
     "data": {
      "text/plain": [
       "0.9153915675086051"
      ]
     },
     "execution_count": 56,
     "metadata": {},
     "output_type": "execute_result"
    }
   ],
   "source": [
    "#y_pred = np.transpose([pred[:, 1] for pred in preds])\n",
    "roc_auc_score(np.array(labels), np.array(preds), multi_class='ovr')"
   ]
  },
  {
   "cell_type": "markdown",
   "id": "95c4cf2b",
   "metadata": {},
   "source": [
    "## ExLNet"
   ]
  },
  {
   "cell_type": "code",
   "execution_count": 57,
   "id": "275031b3",
   "metadata": {},
   "outputs": [
    {
     "data": {
      "text/plain": [
       "<All keys matched successfully>"
      ]
     },
     "execution_count": 57,
     "metadata": {},
     "output_type": "execute_result"
    }
   ],
   "source": [
    "squeezenet = torchvision.models.squeezenet1_0(pretrained=True)\n",
    "\n",
    "squeezenet.features[3].expand1x1 = nn.Conv2d(16, 64, kernel_size=(1, 1), stride=(1, 1),groups=16)\n",
    "squeezenet.features[3].expand3x3 = nn.Conv2d(16, 64, kernel_size=(3, 3), stride=(1, 1), padding=(1, 1),groups=16)\n",
    "\n",
    "squeezenet.features[4].expand1x1 = nn.Conv2d(16, 64, kernel_size=(1, 1), stride=(1, 1),groups=16)\n",
    "squeezenet.features[4].expand3x3 = nn.Conv2d(16, 64, kernel_size=(3, 3), stride=(1, 1), padding=(1, 1),groups=16)\n",
    "\n",
    "squeezenet.features[5].expand1x1 = nn.Conv2d(32, 128, kernel_size=(1, 1), stride=(1, 1),groups=32)\n",
    "squeezenet.features[5].expand3x3 = nn.Conv2d(32, 128, kernel_size=(3, 3), stride=(1, 1), padding=(1, 1),groups=32)\n",
    "\n",
    "squeezenet.features[7].expand1x1 = nn.Conv2d(32, 128, kernel_size=(1, 1), stride=(1, 1),groups=32)\n",
    "squeezenet.features[7].expand3x3 = nn.Conv2d(32, 128, kernel_size=(3, 3), stride=(1, 1), padding=(1, 1),groups=32)\n",
    "\n",
    "squeezenet.features[8].expand1x1 = nn.Conv2d(48, 192, kernel_size=(1, 1), stride=(1, 1),groups=48)\n",
    "squeezenet.features[8].expand3x3 = nn.Conv2d(48, 192, kernel_size=(3, 3), stride=(1, 1), padding=(1, 1),groups=48)\n",
    "\n",
    "squeezenet.features[9].expand1x1 = nn.Conv2d(48, 192, kernel_size=(1, 1), stride=(1, 1),groups=48)\n",
    "squeezenet.features[9].expand3x3 = nn.Conv2d(48, 192, kernel_size=(3, 3), stride=(1, 1), padding=(1, 1),groups=48)\n",
    "\n",
    "squeezenet.features[10].expand1x1 = nn.Conv2d(64, 256, kernel_size=(1, 1), stride=(1, 1),groups=64)\n",
    "squeezenet.features[10].expand3x3 = nn.Conv2d(64, 256, kernel_size=(3, 3), stride=(1, 1), padding=(1, 1),groups=64)\n",
    "\n",
    "squeezenet.features[12].expand1x1 = nn.Conv2d(64, 256, kernel_size=(1, 1), stride=(1, 1),groups=64)\n",
    "squeezenet.features[12].expand3x3 = nn.Conv2d(64, 256, kernel_size=(3, 3), stride=(1, 1), padding=(1, 1),groups=64)\n",
    "\n",
    "squeezenet.classifier = nn.Sequential(\n",
    "                                        nn.Dropout(0.5),\n",
    "                                        nn.Conv2d(512, 15, kernel_size=(1, 1), stride=(1, 1)),\n",
    "                                        nn.AdaptiveAvgPool2d(output_size=(1, 1))\n",
    "        )\n",
    "\n",
    "model = squeezenet\n",
    "model.load_state_dict(torch.load('saved15/exlnet2_best.pt'))"
   ]
  },
  {
   "cell_type": "code",
   "execution_count": 58,
   "id": "5bfca87f",
   "metadata": {},
   "outputs": [],
   "source": [
    "model = model.to(config['device'])"
   ]
  },
  {
   "cell_type": "code",
   "execution_count": 59,
   "id": "0f361643",
   "metadata": {},
   "outputs": [
    {
     "name": "stdout",
     "output_type": "stream",
     "text": [
      "Test Loss is 1.4526316547196103\n",
      "Test Accuracy is 0.516251215642115\n"
     ]
    }
   ],
   "source": [
    "model.eval()\n",
    "running_loss = 0.0\n",
    "running_corrects = 0\n",
    "total = 0\n",
    "preds = []\n",
    "pred_labels = []\n",
    "labels = []\n",
    "\n",
    "        # Disable gradient calculation for validation or inference using torch.no_rad()\n",
    "with torch.no_grad():\n",
    "            for x,y in test_dl:\n",
    "                x = x.to(config['device'])\n",
    "                y = y.to(config['device']) #CHW --> #HWC\n",
    "                valid_logits = model(x)\n",
    "                predict_prob = F.softmax(valid_logits)\n",
    "                _,predictions = predict_prob.max(1)\n",
    "                predictions = predictions.to('cpu')\n",
    "                \n",
    "                _, valid_preds = torch.max(valid_logits, 1)\n",
    "                valid_loss = criterion(valid_logits,y)\n",
    "                running_loss += valid_loss.item() * x.size(0)\n",
    "                running_corrects += torch.sum(valid_preds == y.data)\n",
    "                total += y.size(0)\n",
    "                predict_prob = predict_prob.to('cpu')\n",
    "                \n",
    "                pred_labels.extend(list(predictions.numpy()))\n",
    "                preds.extend(list(predict_prob.numpy()))\n",
    "                y = y.to('cpu')\n",
    "                labels.extend(list(y.numpy()))\n",
    "            \n",
    "epoch_loss = running_loss / len(test_data)\n",
    "epoch_acc = running_corrects.double() / len(test_data)\n",
    "print(\"Test Loss is {}\".format(epoch_loss))\n",
    "print(\"Test Accuracy is {}\".format(epoch_acc.cpu()))"
   ]
  },
  {
   "cell_type": "code",
   "execution_count": 60,
   "id": "9e3c5d23",
   "metadata": {},
   "outputs": [
    {
     "data": {
      "text/plain": [
       "(array([0.34456929, 0.47368421, 0.45454545, 0.36206897, 0.3290616 ,\n",
       "        0.31496063, 0.375     , 0.5       , 0.30611407, 0.31707317,\n",
       "        0.64975951, 0.31460674, 0.27210884, 0.        , 0.33604336]),\n",
       " array([0.22316555, 0.30288462, 0.01577287, 0.06213018, 0.43953617,\n",
       "        0.12269939, 0.02857143, 0.05882353, 0.26529161, 0.20660147,\n",
       "        0.90137086, 0.09756098, 0.08988764, 0.        , 0.33787466]),\n",
       " array([0.27088701, 0.36950147, 0.0304878 , 0.10606061, 0.37635934,\n",
       "        0.17660044, 0.05309735, 0.10526316, 0.28424462, 0.25018505,\n",
       "        0.75515804, 0.14893617, 0.13513514, 0.        , 0.33695652]),\n",
       " array([1649,  416,  634,  338, 1811,  326,  210,   34, 2812,  818, 8243,\n",
       "         861,  445,  206,  734]))"
      ]
     },
     "execution_count": 60,
     "metadata": {},
     "output_type": "execute_result"
    }
   ],
   "source": [
    "from sklearn.metrics import precision_recall_fscore_support, roc_auc_score\n",
    "precision_recall_fscore_support(np.array(labels), np.array(pred_labels))"
   ]
  },
  {
   "cell_type": "code",
   "execution_count": 61,
   "id": "9b45ac49",
   "metadata": {},
   "outputs": [
    {
     "data": {
      "text/plain": [
       "0.8581357246732239"
      ]
     },
     "execution_count": 61,
     "metadata": {},
     "output_type": "execute_result"
    }
   ],
   "source": [
    "roc_auc_score(np.array(labels), np.array(preds), multi_class='ovr')"
   ]
  },
  {
   "cell_type": "markdown",
   "id": "b1fb7f38",
   "metadata": {},
   "source": [
    "## ResNet 50"
   ]
  },
  {
   "cell_type": "code",
   "execution_count": 62,
   "id": "4c269b57",
   "metadata": {},
   "outputs": [],
   "source": [
    "resnet50 = torchvision.models.resnet50(pretrained=True)\n",
    "resnet50.fc = nn.Sequential(\n",
    "    nn.Dropout(0.4),\n",
    "    nn.Linear(in_features = 2048, out_features = 15, bias = True))\n",
    "model = resnet50\n",
    "\n",
    "model.load_state_dict(torch.load('saved15/resnet50_best.pt'))\n",
    "model = model.to(config['device'])"
   ]
  },
  {
   "cell_type": "code",
   "execution_count": 63,
   "id": "00d4c0db",
   "metadata": {},
   "outputs": [
    {
     "name": "stdout",
     "output_type": "stream",
     "text": [
      "Test Loss is 1.0680189470420591\n",
      "Test Accuracy is 0.6463121257101909\n"
     ]
    }
   ],
   "source": [
    "model.eval()\n",
    "running_loss = 0.0\n",
    "running_corrects = 0\n",
    "total = 0\n",
    "preds = []\n",
    "pred_labels = []\n",
    "labels = []\n",
    "\n",
    "        # Disable gradient calculation for validation or inference using torch.no_rad()\n",
    "with torch.no_grad():\n",
    "            for x,y in test_dl:\n",
    "                x = x.to(config['device'])\n",
    "                y = y.to(config['device']) #CHW --> #HWC\n",
    "                valid_logits = model(x)\n",
    "                predict_prob = F.softmax(valid_logits)\n",
    "                _,predictions = predict_prob.max(1)\n",
    "                predictions = predictions.to('cpu')\n",
    "                \n",
    "                _, valid_preds = torch.max(valid_logits, 1)\n",
    "                valid_loss = criterion(valid_logits,y)\n",
    "                running_loss += valid_loss.item() * x.size(0)\n",
    "                running_corrects += torch.sum(valid_preds == y.data)\n",
    "                total += y.size(0)\n",
    "                predict_prob = predict_prob.to('cpu')\n",
    "                \n",
    "                pred_labels.extend(list(predictions.numpy()))\n",
    "                preds.extend(list(predict_prob.numpy()))\n",
    "                y = y.to('cpu')\n",
    "                labels.extend(list(y.numpy()))\n",
    "            \n",
    "epoch_loss = running_loss / len(test_data)\n",
    "epoch_acc = running_corrects.double() / len(test_data)\n",
    "print(\"Test Loss is {}\".format(epoch_loss))\n",
    "print(\"Test Accuracy is {}\".format(epoch_acc.cpu()))"
   ]
  },
  {
   "cell_type": "code",
   "execution_count": 64,
   "id": "ea85cd56",
   "metadata": {},
   "outputs": [
    {
     "data": {
      "text/plain": [
       "(array([0.52960801, 0.61656442, 0.31455399, 0.44573643, 0.41772152,\n",
       "        0.50896057, 0.45714286, 0.5       , 0.42605289, 0.45823096,\n",
       "        0.9164342 , 0.46116505, 0.45564516, 0.54545455, 0.44917012]),\n",
       " array([0.38508187, 0.48317308, 0.10567823, 0.34023669, 0.4737714 ,\n",
       "        0.43558282, 0.45714286, 0.20588235, 0.61877667, 0.45599022,\n",
       "        0.91665656, 0.33101045, 0.25393258, 0.02912621, 0.58991826]),\n",
       " array([0.44592697, 0.54177898, 0.15820543, 0.38590604, 0.44398448,\n",
       "        0.46942149, 0.45714286, 0.29166667, 0.50464037, 0.45710784,\n",
       "        0.91654537, 0.38539554, 0.32611833, 0.05529954, 0.51001178]),\n",
       " array([1649,  416,  634,  338, 1811,  326,  210,   34, 2812,  818, 8243,\n",
       "         861,  445,  206,  734]))"
      ]
     },
     "execution_count": 64,
     "metadata": {},
     "output_type": "execute_result"
    }
   ],
   "source": [
    "precision_recall_fscore_support(np.array(labels), np.array(pred_labels))"
   ]
  },
  {
   "cell_type": "code",
   "execution_count": 65,
   "id": "602e0d22",
   "metadata": {},
   "outputs": [
    {
     "data": {
      "text/plain": [
       "0.928361832344621"
      ]
     },
     "execution_count": 65,
     "metadata": {},
     "output_type": "execute_result"
    }
   ],
   "source": [
    "roc_auc_score(np.array(labels), np.array(preds), multi_class='ovr')"
   ]
  },
  {
   "cell_type": "code",
   "execution_count": null,
   "id": "edaa2a44",
   "metadata": {},
   "outputs": [],
   "source": []
  }
 ],
 "metadata": {
  "kernelspec": {
   "display_name": "Python 3 (ipykernel)",
   "language": "python",
   "name": "python3"
  },
  "language_info": {
   "codemirror_mode": {
    "name": "ipython",
    "version": 3
   },
   "file_extension": ".py",
   "mimetype": "text/x-python",
   "name": "python",
   "nbconvert_exporter": "python",
   "pygments_lexer": "ipython3",
   "version": "3.7.3"
  }
 },
 "nbformat": 4,
 "nbformat_minor": 5
}
