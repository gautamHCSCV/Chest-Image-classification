{
 "cells": [
  {
   "cell_type": "markdown",
   "id": "1aa771a2",
   "metadata": {},
   "source": [
    "## Optimizing Training Pipeline in Pytorch"
   ]
  },
  {
   "cell_type": "markdown",
   "id": "3b88631d",
   "metadata": {},
   "source": [
    "To improve training performance in any deep learning pipeline, pytorch suggests few extra additions of codes in exitin pipeline.\n",
    "These additions are explained and mentioned well here in [Performance Tuning Guide](https://pytorch.org/tutorials/recipes/recipes/tuning_guide.html) . In this notebook you will encounter few of such features with hands-on dedicated for GPU Computing."
   ]
  },
  {
   "cell_type": "code",
   "execution_count": 28,
   "id": "abdbfc3c",
   "metadata": {},
   "outputs": [],
   "source": [
    "import os\n",
    "import json\n",
    "import time\n",
    "import random\n",
    "import numpy as np\n",
    "import pandas as pd\n",
    "from PIL import Image\n",
    "from sklearn.model_selection import train_test_split\n",
    "import warnings\n",
    "warnings.filterwarnings(\"ignore\")"
   ]
  },
  {
   "cell_type": "code",
   "execution_count": 2,
   "id": "8ab84cce",
   "metadata": {},
   "outputs": [],
   "source": [
    "import torch\n",
    "import torch.nn as nn\n",
    "import torch.optim as optim\n",
    "from torchvision import transforms\n",
    "from torch.utils.data import Dataset, DataLoader\n",
    "import torchvision.models as models"
   ]
  },
  {
   "cell_type": "markdown",
   "id": "4a6513ac",
   "metadata": {},
   "source": [
    "### Set GPU Device if multiple"
   ]
  },
  {
   "cell_type": "code",
   "execution_count": 3,
   "id": "cd0f3356",
   "metadata": {},
   "outputs": [
    {
     "name": "stdout",
     "output_type": "stream",
     "text": [
      "Sun Jan 30 19:52:10 2022       \n",
      "+-----------------------------------------------------------------------------+\n",
      "| NVIDIA-SMI 455.38       Driver Version: 455.38       CUDA Version: 11.1     |\n",
      "|-------------------------------+----------------------+----------------------+\n",
      "| GPU  Name        Persistence-M| Bus-Id        Disp.A | Volatile Uncorr. ECC |\n",
      "| Fan  Temp  Perf  Pwr:Usage/Cap|         Memory-Usage | GPU-Util  Compute M. |\n",
      "|                               |                      |               MIG M. |\n",
      "|===============================+======================+======================|\n",
      "|   0  GeForce GTX 108...  Off  | 00000000:04:00.0 Off |                  N/A |\n",
      "| 25%   60C    P2   134W / 250W |   3139MiB / 11178MiB |     30%      Default |\n",
      "|                               |                      |                  N/A |\n",
      "+-------------------------------+----------------------+----------------------+\n",
      "|   1  GeForce GTX 108...  Off  | 00000000:06:00.0 Off |                  N/A |\n",
      "| 20%   26C    P8    11W / 250W |      0MiB / 11178MiB |      0%      Default |\n",
      "|                               |                      |                  N/A |\n",
      "+-------------------------------+----------------------+----------------------+\n",
      "|   2  GeForce GTX 108...  Off  | 00000000:07:00.0 Off |                  N/A |\n",
      "| 20%   24C    P8     7W / 250W |      0MiB / 11178MiB |      0%      Default |\n",
      "|                               |                      |                  N/A |\n",
      "+-------------------------------+----------------------+----------------------+\n",
      "|   3  GeForce GTX 108...  Off  | 00000000:08:00.0 Off |                  N/A |\n",
      "| 20%   24C    P8    12W / 250W |      0MiB / 11178MiB |      0%      Default |\n",
      "|                               |                      |                  N/A |\n",
      "+-------------------------------+----------------------+----------------------+\n",
      "|   4  GeForce GTX 108...  Off  | 00000000:0C:00.0 Off |                  N/A |\n",
      "| 20%   32C    P8     7W / 250W |      0MiB / 11178MiB |      0%      Default |\n",
      "|                               |                      |                  N/A |\n",
      "+-------------------------------+----------------------+----------------------+\n",
      "|   5  GeForce GTX 108...  Off  | 00000000:0D:00.0 Off |                  N/A |\n",
      "| 20%   25C    P8     8W / 250W |      0MiB / 11178MiB |      0%      Default |\n",
      "|                               |                      |                  N/A |\n",
      "+-------------------------------+----------------------+----------------------+\n",
      "|   6  GeForce GTX 108...  Off  | 00000000:0E:00.0 Off |                  N/A |\n",
      "| 20%   31C    P8     7W / 250W |      0MiB / 11178MiB |      0%      Default |\n",
      "|                               |                      |                  N/A |\n",
      "+-------------------------------+----------------------+----------------------+\n",
      "|   7  GeForce GTX 108...  Off  | 00000000:0F:00.0 Off |                  N/A |\n",
      "| 33%   66C    P2    87W / 250W |   6859MiB / 11178MiB |      0%      Default |\n",
      "|                               |                      |                  N/A |\n",
      "+-------------------------------+----------------------+----------------------+\n",
      "                                                                               \n",
      "+-----------------------------------------------------------------------------+\n",
      "| Processes:                                                                  |\n",
      "|  GPU   GI   CI        PID   Type   Process name                  GPU Memory |\n",
      "|        ID   ID                                                   Usage      |\n",
      "|=============================================================================|\n",
      "|    0   N/A  N/A     29144      C   python3.7                        3137MiB |\n",
      "|    7   N/A  N/A     29589      C   python3.7                        6857MiB |\n",
      "+-----------------------------------------------------------------------------+\n"
     ]
    }
   ],
   "source": [
    "!nvidia-smi"
   ]
  },
  {
   "cell_type": "code",
   "execution_count": 4,
   "id": "97aac0f3",
   "metadata": {},
   "outputs": [],
   "source": [
    "##############################################################\n",
    "os.environ[\"CUDA_DEVICE_ORDER\"]=\"PCI_BUS_ID\"  \n",
    "os.environ[\"CUDA_VISIBLE_DEVICES\"]=\"2\"\n",
    "##############################################################"
   ]
  },
  {
   "cell_type": "markdown",
   "id": "f9599eb6",
   "metadata": {},
   "source": [
    "### Use device for `cuda` or `cpu` based on availability"
   ]
  },
  {
   "cell_type": "code",
   "execution_count": 5,
   "id": "0691e0ab",
   "metadata": {},
   "outputs": [
    {
     "data": {
      "text/plain": [
       "device(type='cuda')"
      ]
     },
     "execution_count": 5,
     "metadata": {},
     "output_type": "execute_result"
    }
   ],
   "source": [
    "####################################################################\n",
    "#GPU using CUDA\n",
    "device = torch.device(\"cuda\" if torch.cuda.is_available() else \"cpu\")\n",
    "device\n",
    "####################################################################"
   ]
  },
  {
   "cell_type": "code",
   "execution_count": 6,
   "id": "7cd0f95e",
   "metadata": {},
   "outputs": [],
   "source": [
    "config = dict(\n",
    "    IMAGE_PATH= \"nih-dataset/nih-15-class\",\n",
    "    saved_path=\"saved/resnet18.pt\",\n",
    "    lr=0.001, \n",
    "    EPOCHS = 5,\n",
    "    BATCH_SIZE = 32,\n",
    "    IMAGE_SIZE = 224,\n",
    "    TRAIN_VALID_SPLIT = 0.2,\n",
    "    device=device,\n",
    "    SEED = 42,\n",
    "    pin_memory=True,\n",
    "    num_workers=8,\n",
    "    USE_AMP = True,\n",
    "    channels_last=False)\n",
    "####################################################################"
   ]
  },
  {
   "cell_type": "code",
   "execution_count": 7,
   "id": "1053216c",
   "metadata": {},
   "outputs": [],
   "source": [
    "# For custom operators, you might need to set python seed\n",
    "random.seed(config['SEED'])\n",
    "# If you or any of the libraries you are using rely on NumPy, you can seed the global NumPy RNG \n",
    "np.random.seed(config['SEED'])\n",
    "# Prevent RNG for CPU and GPU using torch\n",
    "torch.manual_seed(config['SEED'])\n",
    "torch.cuda.manual_seed(config['SEED'])"
   ]
  },
  {
   "cell_type": "markdown",
   "id": "6f428d78",
   "metadata": {},
   "source": [
    "### Create tensors directly on the target device\n",
    "\n",
    "Instead of calling `torch.rand(size).cuda()` to generate a random tensor, produce the output directly on the target device: `torch.rand(size, device=torch.device('cuda'))`.\n",
    "\n",
    "This is applicable to all functions which create new tensors and accept device argument: `torch.rand(), torch.zeros(), torch.full()` and similar."
   ]
  },
  {
   "cell_type": "markdown",
   "id": "eebed8a6",
   "metadata": {},
   "source": [
    "CUDA Convolution Benchmarking: Best Convolution Algo but may loose reproducibility if True"
   ]
  },
  {
   "cell_type": "code",
   "execution_count": 8,
   "id": "61fbb7a5",
   "metadata": {},
   "outputs": [],
   "source": [
    "# If researcher and wants to reproducuce: False\n",
    "# If developer wants performance: True\n",
    "torch.backends.cudnn.benchmarks = True\n",
    "torch.backends.cudnn.deterministic = True\n",
    "\n",
    "torch.backends.cuda.matmul.allow_tf32 = True\n",
    "\n",
    "# The flag below controls whether to allow TF32 on cuDNN. This flag defaults to True.\n",
    "torch.backends.cudnn.allow_tf32 = True"
   ]
  },
  {
   "cell_type": "markdown",
   "id": "175a964c",
   "metadata": {},
   "source": [
    "Apply Data Transforms (Aumentations + Processing)"
   ]
  },
  {
   "cell_type": "code",
   "execution_count": 9,
   "id": "e706952e",
   "metadata": {},
   "outputs": [],
   "source": [
    "data_transforms = {\n",
    "    'train': transforms.Compose([\n",
    "        transforms.RandomResizedCrop((224,224)),\n",
    "        #transforms.RandomHorizontalFlip(),\n",
    "        transforms.ToTensor(),\n",
    "        transforms.Normalize([0.485, 0.456, 0.406], [0.229, 0.224, 0.225])\n",
    "    ]),\n",
    "    'val': transforms.Compose([\n",
    "        transforms.Resize((config['IMAGE_SIZE'],config['IMAGE_SIZE'])),\n",
    "        transforms.ToTensor(),\n",
    "        transforms.Normalize([0.485, 0.456, 0.406], [0.229, 0.224, 0.225])\n",
    "    ]),\n",
    "    'test': transforms.Compose([\n",
    "        transforms.Resize((config['IMAGE_SIZE'],config['IMAGE_SIZE'])),\n",
    "        transforms.ToTensor(),\n",
    "        transforms.Normalize([0.485, 0.456, 0.406], [0.229, 0.224, 0.225])\n",
    "    ]),\n",
    "}"
   ]
  },
  {
   "cell_type": "code",
   "execution_count": 10,
   "id": "3f6f520e",
   "metadata": {},
   "outputs": [
    {
     "data": {
      "text/plain": [
       "['Hernia',\n",
       " 'Nodule',\n",
       " 'Fibrosis',\n",
       " 'Consolidation',\n",
       " 'Cardiomegaly',\n",
       " 'No Finding',\n",
       " 'Emphysema',\n",
       " 'Effusion',\n",
       " 'Pneumothorax',\n",
       " 'Pneumonia',\n",
       " 'Atelectasis',\n",
       " 'Infiltration',\n",
       " 'Pleural_Thickening',\n",
       " 'Edema',\n",
       " 'Mass']"
      ]
     },
     "execution_count": 10,
     "metadata": {},
     "output_type": "execute_result"
    }
   ],
   "source": [
    "my_path = '../../../dataset/NIH_WHOLE_DATASET/nih-15-class'\n",
    "os.listdir(my_path)"
   ]
  },
  {
   "cell_type": "code",
   "execution_count": 11,
   "id": "fbb14d16",
   "metadata": {},
   "outputs": [
    {
     "name": "stdout",
     "output_type": "stream",
     "text": [
      "141537\n"
     ]
    }
   ],
   "source": [
    "import torchvision\n",
    "images = torchvision.datasets.ImageFolder(root=my_path,transform=data_transforms['test'])\n",
    "print(len(images))\n",
    "other, train_data,valid_data,test_data = torch.utils.data.dataset.random_split(images,[125000,10000,3000,3537])"
   ]
  },
  {
   "cell_type": "code",
   "execution_count": 12,
   "id": "37e8882a",
   "metadata": {},
   "outputs": [],
   "source": [
    "train_dl = torch.utils.data.DataLoader(dataset=train_data,batch_size=32,shuffle=True, num_workers = config['num_workers'],\n",
    "                                          pin_memory = config['pin_memory'])\n",
    "valid_dl = torch.utils.data.DataLoader(dataset = valid_data,batch_size=32,shuffle=True, num_workers = config['num_workers'],\n",
    "                                          pin_memory = config['pin_memory'])\n",
    "test_dl = torch.utils.data.DataLoader(dataset=test_data,batch_size=32,shuffle=True, num_workers = config['num_workers'],\n",
    "                                          pin_memory = config['pin_memory'])"
   ]
  },
  {
   "cell_type": "markdown",
   "id": "0ba10f4a",
   "metadata": {},
   "source": [
    "Optimizers:\n",
    "Gradient Descent:-\n",
    "    a. Stoicastic Gradient Descent bs = 1; 'n' number of examples. 'n / 1' number of data loader/steps for 1 Epoch\n",
    "    b. Mini-Batch Gradient Descent bs = 32; 'n' number of examples. 'n / 32' number of dataloaders/step for 1 Epoch \n",
    "    c. Full Batch Gradient Descent bs = total_number_of_samples number of dataloader/steps = 1 for 1 Epoch"
   ]
  },
  {
   "cell_type": "code",
   "execution_count": 13,
   "id": "152bec20",
   "metadata": {},
   "outputs": [
    {
     "data": {
      "text/plain": [
       "313"
      ]
     },
     "execution_count": 13,
     "metadata": {},
     "output_type": "execute_result"
    }
   ],
   "source": [
    "len(train_dl)"
   ]
  },
  {
   "cell_type": "code",
   "execution_count": 14,
   "id": "0726efb9",
   "metadata": {},
   "outputs": [
    {
     "name": "stdout",
     "output_type": "stream",
     "text": [
      "tensor([10,  8, 12, 11, 10, 10, 10,  4, 10, 10, 10, 10,  8,  5, 10,  9,  8,  4,\n",
      "        10,  8,  2, 13, 10,  4, 10,  8, 10, 10,  8,  2,  2, 11])\n"
     ]
    },
    {
     "data": {
      "text/plain": [
       "<matplotlib.image.AxesImage at 0x7ff5c8d7a780>"
      ]
     },
     "execution_count": 14,
     "metadata": {},
     "output_type": "execute_result"
    },
    {
     "data": {
      "image/png": "[encoded data removed]",
      "text/plain": [
       "<Figure size 432x288 with 1 Axes>"
      ]
     },
     "metadata": {
      "needs_background": "light"
     },
     "output_type": "display_data"
    }
   ],
   "source": [
    "import matplotlib.pyplot as plt\n",
    "a = iter(valid_dl)\n",
    "b = next(a)\n",
    "print(b[1])\n",
    "plt.imshow(b[0][0][0])"
   ]
  },
  {
   "cell_type": "markdown",
   "id": "eac232ff",
   "metadata": {},
   "source": [
    "Load Model : Pretrained from torchvision model zoo or Saved model"
   ]
  },
  {
   "cell_type": "code",
   "execution_count": 15,
   "id": "2689c1c0",
   "metadata": {},
   "outputs": [],
   "source": [
    "squeezenet = torchvision.models.squeezenet1_0(pretrained=True) # data again divided by 255\n",
    "\n",
    "squeezenet.features[3].expand1x1 = nn.Conv2d(16, 64, kernel_size=(1, 1), stride=(1, 1),groups=16)\n",
    "squeezenet.features[3].expand3x3 = nn.Conv2d(16, 64, kernel_size=(3, 3), stride=(1, 1), padding=(1, 1),groups=16)\n",
    "\n",
    "squeezenet.features[4].expand1x1 = nn.Conv2d(16, 64, kernel_size=(1, 1), stride=(1, 1),groups=16)\n",
    "squeezenet.features[4].expand3x3 = nn.Conv2d(16, 64, kernel_size=(3, 3), stride=(1, 1), padding=(1, 1),groups=16)\n",
    "\n",
    "squeezenet.features[5].expand1x1 = nn.Conv2d(32, 128, kernel_size=(1, 1), stride=(1, 1),groups=32)\n",
    "squeezenet.features[5].expand3x3 = nn.Conv2d(32, 128, kernel_size=(3, 3), stride=(1, 1), padding=(1, 1),groups=32)\n",
    "\n",
    "squeezenet.features[7].expand1x1 = nn.Conv2d(32, 128, kernel_size=(1, 1), stride=(1, 1),groups=32)\n",
    "squeezenet.features[7].expand3x3 = nn.Conv2d(32, 128, kernel_size=(3, 3), stride=(1, 1), padding=(1, 1),groups=32)\n",
    "\n",
    "squeezenet.features[8].expand1x1 = nn.Conv2d(48, 192, kernel_size=(1, 1), stride=(1, 1),groups=48)\n",
    "squeezenet.features[8].expand3x3 = nn.Conv2d(48, 192, kernel_size=(3, 3), stride=(1, 1), padding=(1, 1),groups=48)\n",
    "\n",
    "squeezenet.features[9].expand1x1 = nn.Conv2d(48, 192, kernel_size=(1, 1), stride=(1, 1),groups=48)\n",
    "squeezenet.features[9].expand3x3 = nn.Conv2d(48, 192, kernel_size=(3, 3), stride=(1, 1), padding=(1, 1),groups=48)\n",
    "\n",
    "squeezenet.features[10].expand1x1 = nn.Conv2d(64, 256, kernel_size=(1, 1), stride=(1, 1),groups=64)\n",
    "squeezenet.features[10].expand3x3 = nn.Conv2d(64, 256, kernel_size=(3, 3), stride=(1, 1), padding=(1, 1),groups=64)\n",
    "\n",
    "squeezenet.features[12].expand1x1 = nn.Conv2d(64, 256, kernel_size=(1, 1), stride=(1, 1),groups=64)\n",
    "squeezenet.features[12].expand3x3 = nn.Conv2d(64, 256, kernel_size=(3, 3), stride=(1, 1), padding=(1, 1),groups=64)\n",
    "\n",
    "squeezenet.classifier = nn.Sequential(\n",
    "                                        nn.Dropout(0.5),\n",
    "                                        nn.Conv2d(512, 15, kernel_size=(1, 1), stride=(1, 1)),\n",
    "                                        nn.AdaptiveAvgPool2d(output_size=(1, 1))\n",
    "        )\n",
    "\n",
    "model = squeezenet"
   ]
  },
  {
   "cell_type": "code",
   "execution_count": 16,
   "id": "2666e8ff",
   "metadata": {},
   "outputs": [
    {
     "data": {
      "text/plain": [
       "<All keys matched successfully>"
      ]
     },
     "execution_count": 16,
     "metadata": {},
     "output_type": "execute_result"
    }
   ],
   "source": [
    "model.load_state_dict(torch.load('saved15/exlnet1.pt'))"
   ]
  },
  {
   "cell_type": "code",
   "execution_count": 17,
   "id": "fe071c0b",
   "metadata": {},
   "outputs": [],
   "source": [
    "#Channel Last Optimization in Model\n",
    "\n",
    "model = model.to(config['device'])"
   ]
  },
  {
   "cell_type": "code",
   "execution_count": 18,
   "id": "684650fb",
   "metadata": {},
   "outputs": [],
   "source": [
    "optimizer = optim.Adam(model.parameters(),lr=config['lr'])\n",
    "# Loss Function\n",
    "criterion = nn.CrossEntropyLoss()"
   ]
  },
  {
   "cell_type": "markdown",
   "id": "5d6c40f9",
   "metadata": {},
   "source": [
    "### Training Pipeline Starts"
   ]
  },
  {
   "cell_type": "code",
   "execution_count": 19,
   "id": "559b49d9",
   "metadata": {},
   "outputs": [],
   "source": [
    "def train_model(model,criterion,optimizer,num_epochs=10):\n",
    "\n",
    "    since = time.time()                                            \n",
    "    batch_ct = 0\n",
    "    example_ct = 0\n",
    "    for epoch in range(num_epochs):\n",
    "        print('Epoch {}/{}'.format(epoch, num_epochs - 1))\n",
    "        print('-' * 10)\n",
    "        \n",
    "        #Training\n",
    "        model.train()\n",
    "        run_corrects = 0\n",
    "        for x,y in train_dl:\n",
    "            x = x.to(config['device'])\n",
    "            y = y.to(config['device'])\n",
    "            \n",
    "            optimizer.zero_grad()\n",
    "            #optimizer.zero_grad(set_to_none=True)\n",
    "            ######################################################################\n",
    "            \n",
    "            train_logits = model(x) #Input = [BS,3,224,224] (Image) -- Model --> [BS,4] (Output Scores)\n",
    "            _, train_preds = torch.max(train_logits, 1)\n",
    "            train_loss = criterion(train_logits,y)\n",
    "            run_corrects += torch.sum(train_preds == y.data)\n",
    "            \n",
    "            train_loss.backward() # Backpropagation this is where your W_gradient\n",
    "            loss=train_loss\n",
    "\n",
    "            optimizer.step() # W_new = W_old - LR * W_gradient \n",
    "            example_ct += len(x) \n",
    "            batch_ct += 1\n",
    "            \n",
    "            ########################################################################\n",
    "            # Stores Wandb Logs here\n",
    "            # Report metrics every 25th batch\n",
    "            if ((batch_ct + 1) % 25) == 0:\n",
    "                train_log(loss, example_ct, epoch)\n",
    "            ########################################################################\n",
    "        \n",
    "        #validation\n",
    "        model.eval()\n",
    "        running_loss = 0.0\n",
    "        running_corrects = 0\n",
    "        total = 0\n",
    "        # Disable gradient calculation for validation or inference using torch.no_rad()\n",
    "        with torch.no_grad():\n",
    "            for x,y in valid_dl:\n",
    "                x = x.to(config['device'])\n",
    "                y = y.to(config['device']) #CHW --> #HWC\n",
    "                valid_logits = model(x)\n",
    "                _, valid_preds = torch.max(valid_logits, 1)\n",
    "                valid_loss = criterion(valid_logits,y)\n",
    "                running_loss += valid_loss.item() * x.size(0)\n",
    "                running_corrects += torch.sum(valid_preds == y.data)\n",
    "                total += y.size(0)\n",
    "            \n",
    "        epoch_loss = running_loss / len(valid_data)\n",
    "        epoch_acc = running_corrects.double() / len(valid_data)\n",
    "        train_acc = run_corrects.double() / len(train_data)\n",
    "        print(\"Train Accuracy\",train_acc.cpu())\n",
    "        print(\"Validation Loss is {}\".format(epoch_loss))\n",
    "        print(\"Validation Accuracy is {}\".format(epoch_acc.cpu()))\n",
    "\n",
    "            \n",
    "    time_elapsed = time.time() - since\n",
    "    print('Training complete in {:.0f}m {:.0f}s'.format(\n",
    "        time_elapsed // 60, time_elapsed % 60))\n",
    "    \n",
    "    torch.save(model.state_dict(), config['saved_path'])"
   ]
  },
  {
   "cell_type": "code",
   "execution_count": 20,
   "id": "fadf928d",
   "metadata": {},
   "outputs": [],
   "source": [
    "def train_log(loss, example_ct, epoch):\n",
    "    loss = float(loss)\n",
    "    print(f\"Loss after \" + str(example_ct).zfill(5) + f\" examples: {loss:.3f}\")"
   ]
  },
  {
   "cell_type": "code",
   "execution_count": 24,
   "id": "1bc11b52",
   "metadata": {},
   "outputs": [
    {
     "name": "stdout",
     "output_type": "stream",
     "text": [
      "Epoch 0/1\n",
      "----------\n",
      "Loss after 00768 examples: 1.825\n",
      "Loss after 01568 examples: 1.938\n",
      "Loss after 02368 examples: 1.950\n",
      "Loss after 03168 examples: 1.910\n",
      "Loss after 03968 examples: 1.910\n",
      "Loss after 04768 examples: 2.207\n",
      "Loss after 05568 examples: 1.904\n",
      "Loss after 06368 examples: 2.039\n",
      "Loss after 07168 examples: 1.954\n",
      "Loss after 07968 examples: 2.230\n",
      "Loss after 08768 examples: 2.452\n",
      "Loss after 09568 examples: 1.961\n",
      "Train Accuracy tensor(0.4279, dtype=torch.float64)\n",
      "Validation Loss is 2.030156386057536\n",
      "Validation Accuracy is 0.416\n",
      "Epoch 1/1\n",
      "----------\n",
      "Loss after 10352 examples: 1.966\n",
      "Loss after 11152 examples: 1.894\n",
      "Loss after 11952 examples: 1.971\n",
      "Loss after 12752 examples: 2.259\n",
      "Loss after 13552 examples: 1.908\n",
      "Loss after 14352 examples: 2.323\n",
      "Loss after 15152 examples: 1.736\n",
      "Loss after 15952 examples: 1.843\n",
      "Loss after 16752 examples: 2.105\n",
      "Loss after 17552 examples: 1.829\n",
      "Loss after 18352 examples: 2.219\n",
      "Loss after 19152 examples: 1.931\n",
      "Loss after 19952 examples: 1.533\n",
      "Train Accuracy tensor(0.4305, dtype=torch.float64)\n",
      "Validation Loss is 2.0047356735865276\n",
      "Validation Accuracy is 0.416\n",
      "Training complete in 1m 20s\n"
     ]
    }
   ],
   "source": [
    "train_model(model, criterion, optimizer, num_epochs=2)"
   ]
  },
  {
   "cell_type": "code",
   "execution_count": 29,
   "id": "eb549ab9",
   "metadata": {},
   "outputs": [
    {
     "name": "stdout",
     "output_type": "stream",
     "text": [
      "Test Loss is 1.724824034193663\n",
      "Test Accuracy is 0.45858071812270285\n"
     ]
    }
   ],
   "source": [
    "import torch.nn.functional as F\n",
    "model.eval()\n",
    "running_loss = 0.0\n",
    "running_corrects = 0\n",
    "total = 0\n",
    "preds = []\n",
    "pred_labels = []\n",
    "labels = []\n",
    "\n",
    "        # Disable gradient calculation for validation or inference using torch.no_rad()\n",
    "with torch.no_grad():\n",
    "            for x,y in test_dl:\n",
    "                x = x.to(config['device'])\n",
    "                y = y.to(config['device']) #CHW --> #HWC\n",
    "                valid_logits = model(x)\n",
    "                predict_prob = F.softmax(valid_logits)\n",
    "                _,predictions = predict_prob.max(1)\n",
    "                predictions = predictions.to('cpu')\n",
    "                \n",
    "                _, valid_preds = torch.max(valid_logits, 1)\n",
    "                valid_loss = criterion(valid_logits,y)\n",
    "                running_loss += valid_loss.item() * x.size(0)\n",
    "                running_corrects += torch.sum(valid_preds == y.data)\n",
    "                total += y.size(0)\n",
    "                predict_prob = predict_prob.to('cpu')\n",
    "                \n",
    "                pred_labels.extend(list(predictions.numpy()))\n",
    "                preds.extend(list(predict_prob.numpy()))\n",
    "                y = y.to('cpu')\n",
    "                labels.extend(list(y.numpy()))\n",
    "            \n",
    "epoch_loss = running_loss / len(test_data)\n",
    "epoch_acc = running_corrects.double() / len(test_data)\n",
    "print(\"Test Loss is {}\".format(epoch_loss))\n",
    "print(\"Test Accuracy is {}\".format(epoch_acc.cpu()))"
   ]
  },
  {
   "cell_type": "code",
   "execution_count": 32,
   "id": "2a06718a",
   "metadata": {},
   "outputs": [
    {
     "data": {
      "text/plain": [
       "(array([0.28125   , 0.40909091, 0.        , 0.33333333, 0.30478589,\n",
       "        0.25      , 0.        , 0.        , 0.2295082 , 0.21428571,\n",
       "        0.52712582, 0.28      , 0.        , 0.        , 0.16666667]),\n",
       " array([0.09608541, 0.11688312, 0.        , 0.01449275, 0.33611111,\n",
       "        0.03508772, 0.        , 0.        , 0.13972056, 0.046875  ,\n",
       "        0.91090426, 0.04666667, 0.        , 0.        , 0.06666667]),\n",
       " array([0.14323607, 0.18181818, 0.        , 0.02777778, 0.31968296,\n",
       "        0.06153846, 0.        , 0.        , 0.17369727, 0.07692308,\n",
       "        0.66780405, 0.08      , 0.        , 0.        , 0.0952381 ]),\n",
       " array([ 281,   77,  103,   69,  360,   57,   44,    7,  501,  128, 1504,\n",
       "         150,   80,   41,  135]))"
      ]
     },
     "execution_count": 32,
     "metadata": {},
     "output_type": "execute_result"
    }
   ],
   "source": [
    "from sklearn.metrics import precision_recall_fscore_support, roc_auc_score\n",
    "precision_recall_fscore_support(np.array(labels), np.array(pred_labels))"
   ]
  },
  {
   "cell_type": "code",
   "execution_count": 42,
   "id": "46c02cfa",
   "metadata": {},
   "outputs": [
    {
     "data": {
      "text/plain": [
       "0.7604447051760369"
      ]
     },
     "execution_count": 42,
     "metadata": {},
     "output_type": "execute_result"
    }
   ],
   "source": [
    "#y_pred = np.transpose([pred[:, 1] for pred in preds])\n",
    "roc_auc_score(np.array(labels), np.array(preds), multi_class='ovr')"
   ]
  }
 ],
 "metadata": {
  "kernelspec": {
   "display_name": "Python 3 (ipykernel)",
   "language": "python",
   "name": "python3"
  },
  "language_info": {
   "codemirror_mode": {
    "name": "ipython",
    "version": 3
   },
   "file_extension": ".py",
   "mimetype": "text/x-python",
   "name": "python",
   "nbconvert_exporter": "python",
   "pygments_lexer": "ipython3",
   "version": "3.7.3"
  }
 },
 "nbformat": 4,
 "nbformat_minor": 5
}
