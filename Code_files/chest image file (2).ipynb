{
 "cells": [
  {
   "cell_type": "code",
   "execution_count": 1,
   "id": "afd9f46d",
   "metadata": {},
   "outputs": [
    {
     "name": "stderr",
     "output_type": "stream",
     "text": [
      "2021-07-18 20:06:55.819502: W tensorflow/stream_executor/platform/default/dso_loader.cc:64] Could not load dynamic library 'libcudart.so.11.0'; dlerror: libcudart.so.11.0: cannot open shared object file: No such file or directory; LD_LIBRARY_PATH: /usr/local/cuda/lib64:\n",
      "2021-07-18 20:06:55.819535: I tensorflow/stream_executor/cuda/cudart_stub.cc:29] Ignore above cudart dlerror if you do not have a GPU set up on your machine.\n",
      "Using TensorFlow backend.\n"
     ]
    },
    {
     "name": "stdout",
     "output_type": "stream",
     "text": [
      "2.5.0\n"
     ]
    }
   ],
   "source": [
    "import tensorflow as tf\n",
    "import keras\n",
    "import numpy as np\n",
    "import pandas as pd\n",
    "import matplotlib.pyplot as plt\n",
    "import warnings\n",
    "warnings.filterwarnings('ignore')\n",
    "print(tf.__version__)"
   ]
  },
  {
   "cell_type": "code",
   "execution_count": 2,
   "id": "75169389",
   "metadata": {},
   "outputs": [],
   "source": [
    "from tensorflow.keras.layers import Conv2D, BatchNormalization, Activation, Add, MaxPooling2D, GlobalAveragePooling2D, Layer, Dense, Dropout, Input, Flatten\n",
    "from tensorflow.keras.models import Model, Sequential\n",
    "from tensorflow.keras import regularizers"
   ]
  },
  {
   "cell_type": "code",
   "execution_count": 3,
   "id": "ff4e8090",
   "metadata": {},
   "outputs": [
    {
     "name": "stdout",
     "output_type": "stream",
     "text": [
      "Found 11452 files belonging to 2 classes.\n"
     ]
    },
    {
     "name": "stderr",
     "output_type": "stream",
     "text": [
      "2021-07-18 20:07:04.079345: I tensorflow/stream_executor/platform/default/dso_loader.cc:53] Successfully opened dynamic library libcuda.so.1\n",
      "2021-07-18 20:07:08.055395: I tensorflow/core/common_runtime/gpu/gpu_device.cc:1733] Found device 0 with properties: \n",
      "pciBusID: 0000:04:00.0 name: GeForce GTX 1080 Ti computeCapability: 6.1\n",
      "coreClock: 1.582GHz coreCount: 28 deviceMemorySize: 10.92GiB deviceMemoryBandwidth: 451.17GiB/s\n",
      "2021-07-18 20:07:08.057925: I tensorflow/core/common_runtime/gpu/gpu_device.cc:1733] Found device 1 with properties: \n",
      "pciBusID: 0000:06:00.0 name: GeForce GTX 1080 Ti computeCapability: 6.1\n",
      "coreClock: 1.582GHz coreCount: 28 deviceMemorySize: 10.92GiB deviceMemoryBandwidth: 451.17GiB/s\n",
      "2021-07-18 20:07:08.060443: I tensorflow/core/common_runtime/gpu/gpu_device.cc:1733] Found device 2 with properties: \n",
      "pciBusID: 0000:07:00.0 name: GeForce GTX 1080 Ti computeCapability: 6.1\n",
      "coreClock: 1.582GHz coreCount: 28 deviceMemorySize: 10.92GiB deviceMemoryBandwidth: 451.17GiB/s\n",
      "2021-07-18 20:07:08.062586: I tensorflow/core/common_runtime/gpu/gpu_device.cc:1733] Found device 3 with properties: \n",
      "pciBusID: 0000:08:00.0 name: GeForce GTX 1080 Ti computeCapability: 6.1\n",
      "coreClock: 1.582GHz coreCount: 28 deviceMemorySize: 10.92GiB deviceMemoryBandwidth: 451.17GiB/s\n",
      "2021-07-18 20:07:08.064867: I tensorflow/core/common_runtime/gpu/gpu_device.cc:1733] Found device 4 with properties: \n",
      "pciBusID: 0000:0c:00.0 name: GeForce GTX 1080 Ti computeCapability: 6.1\n",
      "coreClock: 1.582GHz coreCount: 28 deviceMemorySize: 10.92GiB deviceMemoryBandwidth: 451.17GiB/s\n",
      "2021-07-18 20:07:08.066988: I tensorflow/core/common_runtime/gpu/gpu_device.cc:1733] Found device 5 with properties: \n",
      "pciBusID: 0000:0d:00.0 name: GeForce GTX 1080 Ti computeCapability: 6.1\n",
      "coreClock: 1.582GHz coreCount: 28 deviceMemorySize: 10.92GiB deviceMemoryBandwidth: 451.17GiB/s\n",
      "2021-07-18 20:07:08.071539: I tensorflow/core/common_runtime/gpu/gpu_device.cc:1733] Found device 6 with properties: \n",
      "pciBusID: 0000:0e:00.0 name: GeForce GTX 1080 Ti computeCapability: 6.1\n",
      "coreClock: 1.582GHz coreCount: 28 deviceMemorySize: 10.92GiB deviceMemoryBandwidth: 451.17GiB/s\n",
      "2021-07-18 20:07:08.073798: I tensorflow/core/common_runtime/gpu/gpu_device.cc:1733] Found device 7 with properties: \n",
      "pciBusID: 0000:0f:00.0 name: GeForce GTX 1080 Ti computeCapability: 6.1\n",
      "coreClock: 1.582GHz coreCount: 28 deviceMemorySize: 10.92GiB deviceMemoryBandwidth: 451.17GiB/s\n",
      "2021-07-18 20:07:08.073976: W tensorflow/stream_executor/platform/default/dso_loader.cc:64] Could not load dynamic library 'libcudart.so.11.0'; dlerror: libcudart.so.11.0: cannot open shared object file: No such file or directory; LD_LIBRARY_PATH: /usr/local/cuda/lib64:\n",
      "2021-07-18 20:07:08.074069: W tensorflow/stream_executor/platform/default/dso_loader.cc:64] Could not load dynamic library 'libcublas.so.11'; dlerror: libcublas.so.11: cannot open shared object file: No such file or directory; LD_LIBRARY_PATH: /usr/local/cuda/lib64:\n",
      "2021-07-18 20:07:08.074148: W tensorflow/stream_executor/platform/default/dso_loader.cc:64] Could not load dynamic library 'libcublasLt.so.11'; dlerror: libcublasLt.so.11: cannot open shared object file: No such file or directory; LD_LIBRARY_PATH: /usr/local/cuda/lib64:\n",
      "2021-07-18 20:07:08.077115: I tensorflow/stream_executor/platform/default/dso_loader.cc:53] Successfully opened dynamic library libcufft.so.10\n",
      "2021-07-18 20:07:08.077399: I tensorflow/stream_executor/platform/default/dso_loader.cc:53] Successfully opened dynamic library libcurand.so.10\n",
      "2021-07-18 20:07:08.077480: W tensorflow/stream_executor/platform/default/dso_loader.cc:64] Could not load dynamic library 'libcusolver.so.11'; dlerror: libcusolver.so.11: cannot open shared object file: No such file or directory; LD_LIBRARY_PATH: /usr/local/cuda/lib64:\n",
      "2021-07-18 20:07:08.077556: W tensorflow/stream_executor/platform/default/dso_loader.cc:64] Could not load dynamic library 'libcusparse.so.11'; dlerror: libcusparse.so.11: cannot open shared object file: No such file or directory; LD_LIBRARY_PATH: /usr/local/cuda/lib64:\n",
      "2021-07-18 20:07:08.077624: W tensorflow/stream_executor/platform/default/dso_loader.cc:64] Could not load dynamic library 'libcudnn.so.8'; dlerror: libcudnn.so.8: cannot open shared object file: No such file or directory; LD_LIBRARY_PATH: /usr/local/cuda/lib64:\n",
      "2021-07-18 20:07:08.077638: W tensorflow/core/common_runtime/gpu/gpu_device.cc:1766] Cannot dlopen some GPU libraries. Please make sure the missing libraries mentioned above are installed properly if you would like to use GPU. Follow the guide at https://www.tensorflow.org/install/gpu for how to download and setup the required libraries for your platform.\n",
      "Skipping registering GPU devices...\n",
      "2021-07-18 20:07:08.080964: I tensorflow/core/platform/cpu_feature_guard.cc:142] This TensorFlow binary is optimized with oneAPI Deep Neural Network Library (oneDNN) to use the following CPU instructions in performance-critical operations:  AVX2 FMA\n",
      "To enable them in other operations, rebuild TensorFlow with the appropriate compiler flags.\n",
      "2021-07-18 20:07:08.087938: I tensorflow/core/common_runtime/gpu/gpu_device.cc:1258] Device interconnect StreamExecutor with strength 1 edge matrix:\n",
      "2021-07-18 20:07:08.087975: I tensorflow/core/common_runtime/gpu/gpu_device.cc:1264]      \n"
     ]
    },
    {
     "data": {
      "text/plain": [
       "<BatchDataset shapes: ((None, 224, 224, 3), (None,)), types: (tf.float32, tf.int32)>"
      ]
     },
     "execution_count": 3,
     "metadata": {},
     "output_type": "execute_result"
    }
   ],
   "source": [
    "warnings.filterwarnings('ignore')\n",
    "dataset = tf.keras.preprocessing.image_dataset_from_directory('../dataset/sharma_59_nih_dataset/Image_dataset', image_size=(224, 224))\n",
    "dataset"
   ]
  },
  {
   "cell_type": "code",
   "execution_count": 4,
   "id": "67f76843",
   "metadata": {},
   "outputs": [],
   "source": [
    "test_dataset = dataset.take(75)\n",
    "train_dataset = dataset.skip(75)\n",
    "\n",
    "valid_dataset = test_dataset.take(25)\n",
    "test_dataset = test_dataset.skip(25)\n",
    "\n",
    "# test ~ 1600   valid ~ 800"
   ]
  },
  {
   "cell_type": "code",
   "execution_count": 6,
   "id": "155941a7",
   "metadata": {},
   "outputs": [],
   "source": [
    "from tensorflow.keras.models import load_model\n",
    "import tensorflow_hub as hub\n",
    "model1 = load_model('nih_models/mobilenetv2.h5', custom_objects = {'KerasLayer': hub.KerasLayer(\"https://tfhub.dev/google/imagenet/mobilenet_v2_100_224/feature_vector/4\")})\n"
   ]
  },
  {
   "cell_type": "code",
   "execution_count": 5,
   "id": "ca2d54f1",
   "metadata": {},
   "outputs": [],
   "source": [
    "class IdentityBlock(Layer):\n",
    "    def __init__(self, **kwargs):\n",
    "        super(IdentityBlock, self).__init__(**kwargs)\n",
    "\n",
    "    def build(self, input_shape): \n",
    "        self.conv1 = Conv2D(input_shape[-1], kernel_size=(3,3), padding='same')\n",
    "        self.conv2 = Conv2D(input_shape[-1], kernel_size=(3,3), padding='same')\n",
    "        self.bn1 = BatchNormalization()\n",
    "        self.bn2 = BatchNormalization()\n",
    "        self.act = Activation('relu')\n",
    "        self.add = Add()\n",
    "\n",
    "    def call(self, inputs):\n",
    "\n",
    "        x = self.conv1(inputs)\n",
    "        x = self.bn1(x)\n",
    "        x = self.act(x)\n",
    "        x = self.conv2(x)\n",
    "        x = self.bn2(x)\n",
    "        x = self.act(x)\n",
    "        x = self.add([x, inputs])\n",
    "        x = self.act(x)\n",
    "        return x"
   ]
  },
  {
   "cell_type": "code",
   "execution_count": 6,
   "id": "de5ee60e",
   "metadata": {},
   "outputs": [
    {
     "name": "stdout",
     "output_type": "stream",
     "text": [
      "Model: \"sequential\"\n",
      "_________________________________________________________________\n",
      "Layer (type)                 Output Shape              Param #   \n",
      "=================================================================\n",
      "identity_block (IdentityBloc (None, 16, 28, 28, 3)     192       \n",
      "=================================================================\n",
      "Total params: 192\n",
      "Trainable params: 180\n",
      "Non-trainable params: 12\n",
      "_________________________________________________________________\n"
     ]
    }
   ],
   "source": [
    "test_model = Sequential([IdentityBlock(input_shape = (16, 28, 28,3))])\n",
    "test_model.summary()"
   ]
  },
  {
   "cell_type": "code",
   "execution_count": 7,
   "id": "9d6c6699",
   "metadata": {},
   "outputs": [],
   "source": [
    "class Resnet(Model):\n",
    "    def __init__(self):\n",
    "        \n",
    "        super(Resnet, self).__init__()\n",
    "        self.ida1 = IdentityBlock()\n",
    "        self.ida2 = IdentityBlock()\n",
    "        self.conv1 = Conv2D(16, kernel_size=(7,7))\n",
    "        \n",
    "        self.bn = BatchNormalization()\n",
    "        self.act = Activation('relu')\n",
    "        self.max_pool = MaxPooling2D(pool_size=(3,3))\n",
    "        self.global_pool = GlobalAveragePooling2D()\n",
    "        self.dense2 = Dense(1, activation = 'sigmoid')\n",
    "\n",
    "    def call(self, inputs):\n",
    "        x = self.conv1(inputs)\n",
    "        x = self.bn(x)\n",
    "        x = self.act(x)\n",
    "        x = self.max_pool(x)\n",
    "        x = self.ida1(x)\n",
    "        x = self.ida2(x)\n",
    "        x = self.global_pool(x)\n",
    "        x = self.dense2(x)\n",
    "        return x"
   ]
  },
  {
   "cell_type": "code",
   "execution_count": 8,
   "id": "39c79f94",
   "metadata": {},
   "outputs": [
    {
     "name": "stdout",
     "output_type": "stream",
     "text": [
      "Epoch 1/100\n"
     ]
    },
    {
     "name": "stderr",
     "output_type": "stream",
     "text": [
      "2021-07-10 14:41:45.844231: I tensorflow/compiler/mlir/mlir_graph_optimization_pass.cc:176] None of the MLIR Optimization Passes are enabled (registered 2)\n",
      "2021-07-10 14:41:45.868473: I tensorflow/core/platform/profile_utils/cpu_utils.cc:114] CPU Frequency: 2199895000 Hz\n"
     ]
    },
    {
     "name": "stdout",
     "output_type": "stream",
     "text": [
      "283/283 [==============================] - 323s 1s/step - loss: 0.6883 - accuracy: 0.5523 - val_loss: 0.7744 - val_accuracy: 0.5038\n",
      "Epoch 2/100\n",
      "283/283 [==============================] - 383s 1s/step - loss: 0.6819 - accuracy: 0.5612 - val_loss: 2.1242 - val_accuracy: 0.4988\n",
      "Epoch 3/100\n",
      "283/283 [==============================] - 386s 1s/step - loss: 0.6785 - accuracy: 0.5728 - val_loss: 0.7097 - val_accuracy: 0.5125\n",
      "Epoch 4/100\n",
      "283/283 [==============================] - 385s 1s/step - loss: 0.6741 - accuracy: 0.5802 - val_loss: 0.6844 - val_accuracy: 0.5362\n",
      "Epoch 5/100\n",
      "283/283 [==============================] - 385s 1s/step - loss: 0.6723 - accuracy: 0.5846 - val_loss: 1.2081 - val_accuracy: 0.5050\n",
      "Epoch 6/100\n",
      "283/283 [==============================] - 356s 1s/step - loss: 0.6703 - accuracy: 0.5859 - val_loss: 0.8518 - val_accuracy: 0.5500\n",
      "Epoch 7/100\n",
      "283/283 [==============================] - 269s 948ms/step - loss: 0.6668 - accuracy: 0.5952 - val_loss: 2.5893 - val_accuracy: 0.4837\n",
      "Epoch 8/100\n",
      "283/283 [==============================] - 345s 1s/step - loss: 0.6643 - accuracy: 0.6006 - val_loss: 0.7253 - val_accuracy: 0.5537\n",
      "Epoch 9/100\n",
      "283/283 [==============================] - 369s 1s/step - loss: 0.6595 - accuracy: 0.6107 - val_loss: 0.8876 - val_accuracy: 0.4988\n",
      "Epoch 10/100\n",
      "283/283 [==============================] - 294s 1s/step - loss: 0.6569 - accuracy: 0.6147 - val_loss: 0.7209 - val_accuracy: 0.5462\n",
      "Epoch 11/100\n",
      "283/283 [==============================] - 270s 951ms/step - loss: 0.6560 - accuracy: 0.6173 - val_loss: 1.8495 - val_accuracy: 0.4888\n",
      "Epoch 12/100\n",
      "283/283 [==============================] - 270s 951ms/step - loss: 0.6539 - accuracy: 0.6201 - val_loss: 0.7979 - val_accuracy: 0.5163\n",
      "Epoch 13/100\n",
      "283/283 [==============================] - 348s 1s/step - loss: 0.6522 - accuracy: 0.6214 - val_loss: 1.4111 - val_accuracy: 0.5050\n",
      "Epoch 14/100\n",
      "283/283 [==============================] - 377s 1s/step - loss: 0.6502 - accuracy: 0.6299 - val_loss: 0.7714 - val_accuracy: 0.5200\n",
      "Epoch 15/100\n",
      "283/283 [==============================] - 377s 1s/step - loss: 0.6515 - accuracy: 0.6249 - val_loss: 0.7303 - val_accuracy: 0.5100\n",
      "Epoch 16/100\n",
      "283/283 [==============================] - 378s 1s/step - loss: 0.6453 - accuracy: 0.6320 - val_loss: 0.7159 - val_accuracy: 0.5362\n"
     ]
    }
   ],
   "source": [
    "model = Resnet()\n",
    "model.compile(optimizer='adam', loss = 'binary_crossentropy', metrics = ['accuracy'])\n",
    "\n",
    "def scheduler(epoch, lr):\n",
    "      if epoch < 10:\n",
    "        return lr\n",
    "      elif epoch % 5 ==0:\n",
    "        return lr * tf.math.exp(-0.1)\n",
    "      else:\n",
    "        return lr\n",
    "\n",
    "lrs = tf.keras.callbacks.LearningRateScheduler(scheduler)\n",
    "early_stop = tf.keras.callbacks.EarlyStopping(patience=8, monitor='val_accuracy', restore_best_weights=True)\n",
    "his = model.fit(train_dataset, validation_data=valid_dataset, epochs = 100, verbose = 1, callbacks = [lrs, early_stop])"
   ]
  },
  {
   "cell_type": "code",
   "execution_count": 9,
   "id": "72e0d79b",
   "metadata": {},
   "outputs": [
    {
     "name": "stdout",
     "output_type": "stream",
     "text": [
      "Model: \"resnet\"\n",
      "_________________________________________________________________\n",
      "Layer (type)                 Output Shape              Param #   \n",
      "=================================================================\n",
      "identity_block_1 (IdentityBl multiple                  4768      \n",
      "_________________________________________________________________\n",
      "identity_block_2 (IdentityBl multiple                  4768      \n",
      "_________________________________________________________________\n",
      "conv2d (Conv2D)              multiple                  2368      \n",
      "_________________________________________________________________\n",
      "batch_normalization (BatchNo multiple                  64        \n",
      "_________________________________________________________________\n",
      "activation (Activation)      multiple                  0         \n",
      "_________________________________________________________________\n",
      "max_pooling2d (MaxPooling2D) multiple                  0         \n",
      "_________________________________________________________________\n",
      "global_average_pooling2d (Gl multiple                  0         \n",
      "_________________________________________________________________\n",
      "dense (Dense)                multiple                  17        \n",
      "=================================================================\n",
      "Total params: 11,985\n",
      "Trainable params: 11,825\n",
      "Non-trainable params: 160\n",
      "_________________________________________________________________\n"
     ]
    }
   ],
   "source": [
    "model.summary()"
   ]
  },
  {
   "cell_type": "code",
   "execution_count": 10,
   "id": "2ed722c8",
   "metadata": {},
   "outputs": [
    {
     "name": "stdout",
     "output_type": "stream",
     "text": [
      "50/50 [==============================] - 5s 93ms/step - loss: 0.7319 - accuracy: 0.5412\n"
     ]
    },
    {
     "data": {
      "text/plain": [
       "0.5412499904632568"
      ]
     },
     "execution_count": 10,
     "metadata": {},
     "output_type": "execute_result"
    }
   ],
   "source": [
    "loss, acc = model.evaluate(test_dataset)\n",
    "acc"
   ]
  },
  {
   "cell_type": "code",
   "execution_count": 11,
   "id": "dc786bda",
   "metadata": {},
   "outputs": [
    {
     "name": "stderr",
     "output_type": "stream",
     "text": [
      "Exception ignored in: <function IteratorResourceDeleter.__del__ at 0x7f3fb605ce18>\n",
      "Traceback (most recent call last):\n",
      "  File \"/usr/local/lib/python3.7/dist-packages/tensorflow/python/data/ops/iterator_ops.py\", line 546, in __del__\n",
      "    handle=self._handle, deleter=self._deleter)\n",
      "  File \"/usr/local/lib/python3.7/dist-packages/tensorflow/python/ops/gen_dataset_ops.py\", line 1264, in delete_iterator\n",
      "    _ctx, \"DeleteIterator\", name, handle, deleter)\n",
      "KeyboardInterrupt: \n"
     ]
    },
    {
     "data": {
      "image/png": "[encoded data removed]",
      "text/plain": [
       "<Figure size 864x360 with 2 Axes>"
      ]
     },
     "metadata": {
      "needs_background": "light"
     },
     "output_type": "display_data"
    }
   ],
   "source": [
    "fig, axes = plt.subplots(1, 2, sharex=True, figsize=(12, 5))\n",
    "\n",
    "axes[0].set_xlabel(\"Epochs\", fontsize=14)\n",
    "axes[0].set_ylabel(\"Loss\", fontsize=14)\n",
    "axes[0].set_title('Loss vs epochs')\n",
    "axes[0].plot(his.history['loss'], label = 'training loss')\n",
    "axes[0].plot(his.history['val_loss'], label = 'validation loss')\n",
    "\n",
    "axes[1].set_title('Accuracy vs epochs')\n",
    "axes[1].set_ylabel(\"Accuracy\", fontsize=14)\n",
    "axes[1].set_xlabel(\"Epochs\", fontsize=14)\n",
    "axes[1].plot(his.history['accuracy'], label = 'training accuracy')\n",
    "axes[1].plot(his.history['val_accuracy'], label = 'validation accuracy')\n",
    "plt.legend()\n",
    "plt.show()"
   ]
  },
  {
   "cell_type": "code",
   "execution_count": 5,
   "id": "307a265d",
   "metadata": {},
   "outputs": [],
   "source": [
    "from tensorflow.keras import layers\n",
    "rescale = tf.keras.Sequential([\n",
    "  layers.experimental.preprocessing.Rescaling(1./255)\n",
    "])\n",
    "\n",
    "data_augmentation = tf.keras.Sequential([\n",
    "  layers.experimental.preprocessing.RandomFlip(\"horizontal\"),\n",
    "  layers.experimental.preprocessing.RandomContrast(0.2),\n",
    "  layers.experimental.preprocessing.RandomZoom(0.1)\n",
    "])"
   ]
  },
  {
   "cell_type": "code",
   "execution_count": 6,
   "id": "bb54dbdb",
   "metadata": {},
   "outputs": [
    {
     "name": "stdout",
     "output_type": "stream",
     "text": [
      "Model: \"sequential_2\"\n",
      "_________________________________________________________________\n",
      "Layer (type)                 Output Shape              Param #   \n",
      "=================================================================\n",
      "sequential (Sequential)      (None, 224, 224, 3)       0         \n",
      "_________________________________________________________________\n",
      "sequential_1 (Sequential)    (None, 224, 224, 3)       0         \n",
      "_________________________________________________________________\n",
      "keras_layer (KerasLayer)     (None, 1280)              2257984   \n",
      "_________________________________________________________________\n",
      "dropout (Dropout)            (None, 1280)              0         \n",
      "_________________________________________________________________\n",
      "dense (Dense)                (None, 1)                 1281      \n",
      "=================================================================\n",
      "Total params: 2,259,265\n",
      "Trainable params: 2,225,153\n",
      "Non-trainable params: 34,112\n",
      "_________________________________________________________________\n"
     ]
    }
   ],
   "source": [
    "import tensorflow_hub as hub\n",
    "model = tf.keras.Sequential([\n",
    "    rescale,\n",
    "    data_augmentation,\n",
    "    hub.KerasLayer(\"https://tfhub.dev/google/imagenet/mobilenet_v2_100_224/feature_vector/4\",\n",
    "                   trainable=True),\n",
    "    Dropout(0.3),\n",
    "    tf.keras.layers.Dense(1, activation='sigmoid')\n",
    "])\n",
    "\n",
    "model.build([None, 224, 224, 3])\n",
    "model.summary()"
   ]
  },
  {
   "cell_type": "code",
   "execution_count": 7,
   "id": "77ef5801",
   "metadata": {},
   "outputs": [
    {
     "name": "stdout",
     "output_type": "stream",
     "text": [
      "Epoch 1/30\n"
     ]
    },
    {
     "name": "stderr",
     "output_type": "stream",
     "text": [
      "2021-07-18 20:08:01.993440: I tensorflow/compiler/mlir/mlir_graph_optimization_pass.cc:176] None of the MLIR Optimization Passes are enabled (registered 2)\n",
      "2021-07-18 20:08:02.252467: I tensorflow/core/platform/profile_utils/cpu_utils.cc:114] CPU Frequency: 2199895000 Hz\n"
     ]
    },
    {
     "name": "stdout",
     "output_type": "stream",
     "text": [
      "283/283 [==============================] - 239s 821ms/step - loss: 0.7360 - accuracy: 0.6469 - val_loss: 0.9072 - val_accuracy: 0.5850\n",
      "Epoch 2/30\n",
      "283/283 [==============================] - 252s 888ms/step - loss: 0.7249 - accuracy: 0.6616 - val_loss: 0.7614 - val_accuracy: 0.6137\n",
      "Epoch 3/30\n",
      "283/283 [==============================] - 332s 1s/step - loss: 0.7091 - accuracy: 0.6667 - val_loss: 0.8150 - val_accuracy: 0.6250\n",
      "Epoch 4/30\n",
      "283/283 [==============================] - 332s 1s/step - loss: 0.6950 - accuracy: 0.6801 - val_loss: 0.7221 - val_accuracy: 0.6762\n",
      "Epoch 5/30\n",
      "283/283 [==============================] - 331s 1s/step - loss: 0.6817 - accuracy: 0.6858 - val_loss: 0.7002 - val_accuracy: 0.6700\n",
      "Epoch 6/30\n",
      "283/283 [==============================] - 342s 1s/step - loss: 0.6731 - accuracy: 0.6949 - val_loss: 0.7353 - val_accuracy: 0.6438\n",
      "Epoch 7/30\n",
      "283/283 [==============================] - 223s 785ms/step - loss: 0.6742 - accuracy: 0.6943 - val_loss: 0.7345 - val_accuracy: 0.6300\n",
      "Epoch 8/30\n",
      "283/283 [==============================] - 222s 781ms/step - loss: 0.6713 - accuracy: 0.6949 - val_loss: 0.7108 - val_accuracy: 0.6700\n",
      "Epoch 9/30\n",
      "283/283 [==============================] - 223s 785ms/step - loss: 0.6648 - accuracy: 0.6991 - val_loss: 0.7456 - val_accuracy: 0.6175\n",
      "Epoch 10/30\n",
      "283/283 [==============================] - 244s 860ms/step - loss: 0.6627 - accuracy: 0.6965 - val_loss: 0.7021 - val_accuracy: 0.6888\n",
      "Epoch 11/30\n",
      "283/283 [==============================] - 254s 896ms/step - loss: 0.6572 - accuracy: 0.6961 - val_loss: 0.7183 - val_accuracy: 0.6762\n",
      "Epoch 12/30\n",
      "283/283 [==============================] - 243s 858ms/step - loss: 0.6639 - accuracy: 0.6972 - val_loss: 0.6900 - val_accuracy: 0.6787\n",
      "Epoch 13/30\n",
      "283/283 [==============================] - 247s 873ms/step - loss: 0.6514 - accuracy: 0.7059 - val_loss: 0.7117 - val_accuracy: 0.6500\n",
      "Epoch 14/30\n",
      "283/283 [==============================] - 246s 869ms/step - loss: 0.6435 - accuracy: 0.7053 - val_loss: 0.7316 - val_accuracy: 0.6162\n",
      "Epoch 15/30\n",
      "283/283 [==============================] - 245s 864ms/step - loss: 0.6377 - accuracy: 0.7063 - val_loss: 0.6743 - val_accuracy: 0.6862\n",
      "Epoch 16/30\n",
      "283/283 [==============================] - 244s 861ms/step - loss: 0.6405 - accuracy: 0.7049 - val_loss: 0.7210 - val_accuracy: 0.6300\n"
     ]
    }
   ],
   "source": [
    "model.compile(optimizer='adam', loss = 'binary_crossentropy', metrics = ['accuracy'])\n",
    "early_stop = tf.keras.callbacks.EarlyStopping(patience=6, monitor='val_accuracy', restore_best_weights=True)\n",
    "his = model.fit(train_dataset, validation_data=valid_dataset, epochs = 30, callbacks = [early_stop])"
   ]
  },
  {
   "cell_type": "code",
   "execution_count": 8,
   "id": "6ca6a2bc",
   "metadata": {},
   "outputs": [
    {
     "name": "stdout",
     "output_type": "stream",
     "text": [
      "50/50 [==============================] - 5s 90ms/step - loss: 0.6843 - accuracy: 0.6919\n"
     ]
    },
    {
     "data": {
      "text/plain": [
       "0.6918749809265137"
      ]
     },
     "execution_count": 8,
     "metadata": {},
     "output_type": "execute_result"
    }
   ],
   "source": [
    "loss, acc = model.evaluate(test_dataset)\n",
    "acc"
   ]
  },
  {
   "cell_type": "code",
   "execution_count": 9,
   "id": "ba985612",
   "metadata": {},
   "outputs": [
    {
     "name": "stdout",
     "output_type": "stream",
     "text": [
      "25/25 [==============================] - 2s 91ms/step - loss: 0.7014 - accuracy: 0.6837\n"
     ]
    },
    {
     "data": {
      "text/plain": [
       "0.6837499737739563"
      ]
     },
     "execution_count": 9,
     "metadata": {},
     "output_type": "execute_result"
    }
   ],
   "source": [
    "loss, val_acc = model.evaluate(valid_dataset)\n",
    "val_acc"
   ]
  },
  {
   "cell_type": "code",
   "execution_count": 10,
   "id": "04812b43",
   "metadata": {},
   "outputs": [
    {
     "data": {
      "image/png": "[encoded data removed]",
      "text/plain": [
       "<Figure size 864x360 with 2 Axes>"
      ]
     },
     "metadata": {
      "needs_background": "light"
     },
     "output_type": "display_data"
    }
   ],
   "source": [
    "fig, axes = plt.subplots(1, 2, sharex=True, figsize=(12, 5))\n",
    "\n",
    "axes[0].set_xlabel(\"Epochs\", fontsize=14)\n",
    "axes[0].set_ylabel(\"Loss\", fontsize=14)\n",
    "axes[0].set_title('Loss vs epochs')\n",
    "axes[0].plot(his.history['loss'], label = 'training loss')\n",
    "axes[0].plot(his.history['val_loss'], label = 'validation loss')\n",
    "\n",
    "axes[1].set_title('Accuracy vs epochs')\n",
    "axes[1].set_ylabel(\"Accuracy\", fontsize=14)\n",
    "axes[1].set_xlabel(\"Epochs\", fontsize=14)\n",
    "axes[1].plot(his.history['accuracy'], label = 'training accuracy')\n",
    "axes[1].plot(his.history['val_accuracy'], label = 'validation accuracy')\n",
    "plt.legend()\n",
    "plt.show()"
   ]
  },
  {
   "cell_type": "code",
   "execution_count": 11,
   "id": "317ef374",
   "metadata": {},
   "outputs": [
    {
     "data": {
      "text/plain": [
       "1600"
      ]
     },
     "execution_count": 11,
     "metadata": {},
     "output_type": "execute_result"
    }
   ],
   "source": [
    "labels = []\n",
    "images = []\n",
    "for i in test_dataset:\n",
    "    a,b = i\n",
    "    labels += list(b.numpy())\n",
    "    images += list(a.numpy())\n",
    "len(labels)"
   ]
  },
  {
   "cell_type": "code",
   "execution_count": 15,
   "id": "1a2a05fa",
   "metadata": {},
   "outputs": [
    {
     "data": {
      "text/plain": [
       "array([[0.26913   ],\n",
       "       [0.36935252],\n",
       "       [0.43918556],\n",
       "       ...,\n",
       "       [0.4463295 ],\n",
       "       [0.725187  ],\n",
       "       [0.74565816]], dtype=float32)"
      ]
     },
     "execution_count": 15,
     "metadata": {},
     "output_type": "execute_result"
    }
   ],
   "source": [
    "prediction = model.predict(np.array(images))\n",
    "prediction"
   ]
  },
  {
   "cell_type": "code",
   "execution_count": 16,
   "id": "073abd0c",
   "metadata": {},
   "outputs": [
    {
     "data": {
      "text/plain": [
       "1600"
      ]
     },
     "execution_count": 16,
     "metadata": {},
     "output_type": "execute_result"
    }
   ],
   "source": [
    "pred = [i[0] for i in prediction]\n",
    "len(pred)"
   ]
  },
  {
   "cell_type": "code",
   "execution_count": 17,
   "id": "a2aa2cdb",
   "metadata": {},
   "outputs": [
    {
     "data": {
      "image/png": "[encoded data removed]",
      "text/plain": [
       "<Figure size 432x288 with 1 Axes>"
      ]
     },
     "metadata": {
      "needs_background": "light"
     },
     "output_type": "display_data"
    }
   ],
   "source": [
    "from sklearn import metrics\n",
    "fpr_rf, tpr_rf, thresholds_rf = metrics.roc_curve(labels, pred)\n",
    "auc_rf = metrics.auc(fpr_rf, tpr_rf)\n",
    "\n",
    "plt.figure(1)\n",
    "plt.plot([0, 1], [0, 1], 'k--')\n",
    "plt.plot(fpr_rf, tpr_rf, label='mobilenet (area = {:.3f})'.format(auc_rf))\n",
    "plt.xlabel('False positive rate')\n",
    "plt.ylabel('True positive rate')\n",
    "plt.title('ROC curve')\n",
    "plt.legend(loc='best')\n",
    "plt.show()"
   ]
  },
  {
   "cell_type": "code",
   "execution_count": null,
   "id": "e16dcb0a",
   "metadata": {},
   "outputs": [],
   "source": []
  },
  {
   "cell_type": "code",
   "execution_count": null,
   "id": "7574ae90",
   "metadata": {},
   "outputs": [],
   "source": []
  },
  {
   "cell_type": "code",
   "execution_count": 15,
   "id": "e6195d7f",
   "metadata": {},
   "outputs": [],
   "source": [
    "model.save('nih_models/mobilenetv2.h5')"
   ]
  },
  {
   "cell_type": "code",
   "execution_count": 23,
   "id": "8443e011",
   "metadata": {},
   "outputs": [],
   "source": [
    "from tensorflow.keras.models import load_model\n",
    "model1 = load_model('nih_models/mobilenetv2.h5', custom_objects = {'KerasLayer': hub.KerasLayer(\"https://tfhub.dev/google/imagenet/mobilenet_v2_100_224/feature_vector/4\")})\n"
   ]
  },
  {
   "cell_type": "code",
   "execution_count": 31,
   "id": "1e25e1f9",
   "metadata": {},
   "outputs": [
    {
     "name": "stdout",
     "output_type": "stream",
     "text": [
      "50/50 [==============================] - 5s 91ms/step - loss: 0.6613 - accuracy: 0.7031\n"
     ]
    },
    {
     "data": {
      "text/plain": [
       "[0.661299467086792, 0.703125]"
      ]
     },
     "execution_count": 31,
     "metadata": {},
     "output_type": "execute_result"
    }
   ],
   "source": [
    "model1.evaluate(test_dataset)"
   ]
  },
  {
   "cell_type": "code",
   "execution_count": 30,
   "id": "7135b1c0",
   "metadata": {},
   "outputs": [
    {
     "name": "stdout",
     "output_type": "stream",
     "text": [
      "25/25 [==============================] - 2s 90ms/step - loss: 0.6903 - accuracy: 0.6750\n"
     ]
    },
    {
     "data": {
      "text/plain": [
       "[0.6903315186500549, 0.675000011920929]"
      ]
     },
     "execution_count": 30,
     "metadata": {},
     "output_type": "execute_result"
    }
   ],
   "source": [
    "model1.evaluate(valid_dataset)"
   ]
  }
 ],
 "metadata": {
  "kernelspec": {
   "display_name": "Python 3 (ipykernel)",
   "language": "python",
   "name": "python3"
  },
  "language_info": {
   "codemirror_mode": {
    "name": "ipython",
    "version": 3
   },
   "file_extension": ".py",
   "mimetype": "text/x-python",
   "name": "python",
   "nbconvert_exporter": "python",
   "pygments_lexer": "ipython3",
   "version": "3.7.3"
  }
 },
 "nbformat": 4,
 "nbformat_minor": 5
}
