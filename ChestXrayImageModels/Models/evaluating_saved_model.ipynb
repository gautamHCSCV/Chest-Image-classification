{
 "cells": [
  {
   "cell_type": "code",
   "execution_count": 1,
   "id": "53b37684",
   "metadata": {},
   "outputs": [
    {
     "name": "stdout",
     "output_type": "stream",
     "text": [
      "True\n",
      "11721506816\n",
      "0\n"
     ]
    }
   ],
   "source": [
    "import seaborn as sns\n",
    "import os\n",
    "import copy\n",
    "import torch\n",
    "import torch.nn as nn\n",
    "import torch.nn.functional as F\n",
    "import torch.optim as optim\n",
    "from torch.utils.data import DataLoader\n",
    "import torchvision.datasets as datasets\n",
    "import torchvision.transforms as transforms\n",
    "import matplotlib.pyplot as plt\n",
    "import torchvision\n",
    "from sklearn.metrics import roc_curve,auc, precision_score,precision_recall_curve,recall_score,precision_recall_fscore_support,confusion_matrix\n",
    "import numpy as np\n",
    "from prettytable import PrettyTable\n",
    "print(torch.cuda.is_available())\n",
    "import warnings\n",
    "warnings.filterwarnings(\"ignore\")\n",
    "import pandas as pd\n",
    "print(torch.cuda.get_device_properties(0).total_memory)\n",
    "print(torch.cuda.memory_allocated())\n",
    "gpu_id = 2"
   ]
  },
  {
   "cell_type": "code",
   "execution_count": 2,
   "id": "63f49ab3",
   "metadata": {},
   "outputs": [
    {
     "name": "stdout",
     "output_type": "stream",
     "text": [
      "5727\n",
      "5725\n",
      "{'0_0': 0, '1_1': 1}\n"
     ]
    }
   ],
   "source": [
    "my_path = '../../dataset/sharma_59_nih_dataset/Image_dataset/'\n",
    "path_0 = my_path+'0_0/'\n",
    "path_1 = my_path + '1_1/'\n",
    "print(len(os.listdir(path_0)))\n",
    "print(len(os.listdir(path_1)))\n",
    "\n",
    "\n",
    "# torchvision.transforms.Normalize(mean=torch.rand(3),std = torch.rand(3))\n",
    "transformations = torchvision.transforms.Compose([torchvision.transforms.Resize((256,256)),\n",
    "                                                  torchvision.transforms.CenterCrop(224),\n",
    "                                                  torchvision.transforms.ToTensor()])\n",
    "\n",
    "images = torchvision.datasets.ImageFolder(root=my_path,transform=transformations)\n",
    "train_data,validate_data,test_data = torch.utils.data.dataset.random_split(images,[8020,2286,1146])\n",
    "train_loader = torch.utils.data.DataLoader(dataset=train_data,batch_size=64,shuffle=True)\n",
    "validate_loader = torch.utils.data.DataLoader(dataset = validate_data,batch_size=64,shuffle=True)\n",
    "test_loader = torch.utils.data.DataLoader(dataset=test_data,batch_size=64,shuffle=True)\n",
    "\n",
    "\n",
    "print(images.class_to_idx)"
   ]
  },
  {
   "cell_type": "code",
   "execution_count": 3,
   "id": "1737e9d0",
   "metadata": {},
   "outputs": [],
   "source": [
    "squeeze_1_0 = torchvision.models.squeezenet1_0(pretrained=True)\n",
    "squeeze_1_0.classifier[1] = nn.Conv2d(512,2,kernel_size=1,stride=1,padding=0)"
   ]
  },
  {
   "cell_type": "code",
   "execution_count": 4,
   "id": "b645cc85",
   "metadata": {},
   "outputs": [],
   "source": [
    "from pyt_model_class import Model_class"
   ]
  },
  {
   "cell_type": "code",
   "execution_count": 5,
   "id": "e4ccc988",
   "metadata": {},
   "outputs": [],
   "source": [
    "checkpoint = torch.load('saved_models/squeeze_1_0_best_model.pth')"
   ]
  },
  {
   "cell_type": "code",
   "execution_count": 6,
   "id": "4f9f4800",
   "metadata": {},
   "outputs": [
    {
     "data": {
      "text/plain": [
       "dict_keys(['best_model', 'best_optimizer', 'message'])"
      ]
     },
     "execution_count": 6,
     "metadata": {},
     "output_type": "execute_result"
    }
   ],
   "source": [
    "checkpoint.keys()"
   ]
  },
  {
   "cell_type": "code",
   "execution_count": 10,
   "id": "24c8c933",
   "metadata": {},
   "outputs": [
    {
     "data": {
      "text/plain": [
       "<All keys matched successfully>"
      ]
     },
     "execution_count": 10,
     "metadata": {},
     "output_type": "execute_result"
    }
   ],
   "source": [
    "squeeze_1_0.load_state_dict(checkpoint['best_model'])"
   ]
  },
  {
   "cell_type": "code",
   "execution_count": 11,
   "id": "f24cceff",
   "metadata": {},
   "outputs": [],
   "source": [
    "model = Model_class(squeeze_1_0,2)\n"
   ]
  },
  {
   "cell_type": "code",
   "execution_count": 13,
   "id": "0fe6888d",
   "metadata": {},
   "outputs": [
    {
     "name": "stdout",
     "output_type": "stream",
     "text": [
      "correct are 809/1146\n",
      "tensor(0.7059)\n"
     ]
    }
   ],
   "source": [
    "\n",
    "lab_test,pre_test,predict_test,acc_test=model.evaluate(test_loader,name='test')\n",
    "print(acc_test)\n"
   ]
  },
  {
   "cell_type": "code",
   "execution_count": 14,
   "id": "15d62bd2",
   "metadata": {},
   "outputs": [
    {
     "data": {
      "image/png": "[encoded data removed]",
      "text/plain": [
       "<Figure size 576x360 with 1 Axes>"
      ]
     },
     "metadata": {
      "needs_background": "light"
     },
     "output_type": "display_data"
    }
   ],
   "source": [
    "model.plot_roc(name='test',color='red')"
   ]
  },
  {
   "cell_type": "code",
   "execution_count": 7,
   "id": "e00d50d5",
   "metadata": {},
   "outputs": [],
   "source": [
    "checkpoint2 = torch.load('saved_models/squeeze_1_0_test_69.5_auc_76.pth')"
   ]
  },
  {
   "cell_type": "code",
   "execution_count": 8,
   "id": "d3cb993d",
   "metadata": {},
   "outputs": [
    {
     "data": {
      "text/plain": [
       "dict_keys(['model', 'message'])"
      ]
     },
     "execution_count": 8,
     "metadata": {},
     "output_type": "execute_result"
    }
   ],
   "source": [
    "checkpoint2.keys()"
   ]
  },
  {
   "cell_type": "code",
   "execution_count": 17,
   "id": "0cc0e22a",
   "metadata": {},
   "outputs": [
    {
     "data": {
      "text/plain": [
       "<All keys matched successfully>"
      ]
     },
     "execution_count": 17,
     "metadata": {},
     "output_type": "execute_result"
    }
   ],
   "source": [
    "squeeze_1_0.load_state_dict(checkpoint2['model'])"
   ]
  },
  {
   "cell_type": "code",
   "execution_count": 18,
   "id": "98f061d4",
   "metadata": {},
   "outputs": [],
   "source": [
    "model1 = Model_class(squeeze_1_0,2)"
   ]
  },
  {
   "cell_type": "code",
   "execution_count": 19,
   "id": "701173d4",
   "metadata": {},
   "outputs": [
    {
     "name": "stdout",
     "output_type": "stream",
     "text": [
      "correct are 814/1146\n",
      "tensor(0.7103)\n"
     ]
    },
    {
     "data": {
      "image/png": "[encoded data removed]",
      "text/plain": [
       "<Figure size 576x360 with 1 Axes>"
      ]
     },
     "metadata": {
      "needs_background": "light"
     },
     "output_type": "display_data"
    }
   ],
   "source": [
    "\n",
    "lab_test,pre_test,predict_test,acc_test=model1.evaluate(test_loader,name='test')\n",
    "print(acc_test)\n",
    "model1.plot_roc(name='test',color='red')"
   ]
  },
  {
   "cell_type": "code",
   "execution_count": null,
   "id": "d819b38a",
   "metadata": {},
   "outputs": [],
   "source": []
  }
 ],
 "metadata": {
  "kernelspec": {
   "display_name": "Python 3",
   "language": "python",
   "name": "python3"
  },
  "language_info": {
   "codemirror_mode": {
    "name": "ipython",
    "version": 3
   },
   "file_extension": ".py",
   "mimetype": "text/x-python",
   "name": "python",
   "nbconvert_exporter": "python",
   "pygments_lexer": "ipython3",
   "version": "3.7.3"
  }
 },
 "nbformat": 4,
 "nbformat_minor": 5
}
