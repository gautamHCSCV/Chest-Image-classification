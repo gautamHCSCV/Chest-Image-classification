{
 "cells": [
  {
   "cell_type": "markdown",
   "id": "1aa771a2",
   "metadata": {},
   "source": [
    "## Optimizing Training Pipeline in Pytorch"
   ]
  },
  {
   "cell_type": "markdown",
   "id": "3b88631d",
   "metadata": {},
   "source": [
    "To improve training performance in any deep learning pipeline, pytorch suggests few extra additions of codes in exitin pipeline.\n",
    "These additions are explained and mentioned well here in [Performance Tuning Guide](https://pytorch.org/tutorials/recipes/recipes/tuning_guide.html) . In this notebook you will encounter few of such features with hands-on dedicated for GPU Computing."
   ]
  },
  {
   "cell_type": "code",
   "execution_count": 1,
   "id": "abdbfc3c",
   "metadata": {},
   "outputs": [],
   "source": [
    "import os\n",
    "import json\n",
    "import time\n",
    "import random\n",
    "import numpy as np\n",
    "import pandas as pd\n",
    "from PIL import Image\n",
    "from sklearn.model_selection import train_test_split\n",
    "import warnings\n",
    "warnings.filterwarnings(\"ignore\")"
   ]
  },
  {
   "cell_type": "code",
   "execution_count": 2,
   "id": "8ab84cce",
   "metadata": {},
   "outputs": [],
   "source": [
    "import torch\n",
    "import torch.nn as nn\n",
    "import torch.optim as optim\n",
    "from torchvision import transforms\n",
    "from torch.utils.data import Dataset, DataLoader\n",
    "import torchvision.models as models"
   ]
  },
  {
   "cell_type": "markdown",
   "id": "4a6513ac",
   "metadata": {},
   "source": [
    "### Set GPU Device if multiple"
   ]
  },
  {
   "cell_type": "code",
   "execution_count": 3,
   "id": "cd0f3356",
   "metadata": {},
   "outputs": [
    {
     "name": "stdout",
     "output_type": "stream",
     "text": [
      "Tue Feb  1 12:11:04 2022       \n",
      "+-----------------------------------------------------------------------------+\n",
      "| NVIDIA-SMI 455.38       Driver Version: 455.38       CUDA Version: 11.1     |\n",
      "|-------------------------------+----------------------+----------------------+\n",
      "| GPU  Name        Persistence-M| Bus-Id        Disp.A | Volatile Uncorr. ECC |\n",
      "| Fan  Temp  Perf  Pwr:Usage/Cap|         Memory-Usage | GPU-Util  Compute M. |\n",
      "|                               |                      |               MIG M. |\n",
      "|===============================+======================+======================|\n",
      "|   0  GeForce GTX 108...  Off  | 00000000:04:00.0 Off |                  N/A |\n",
      "| 20%   26C    P8     8W / 250W |      2MiB / 11178MiB |      0%      Default |\n",
      "|                               |                      |                  N/A |\n",
      "+-------------------------------+----------------------+----------------------+\n",
      "|   1  GeForce GTX 108...  Off  | 00000000:06:00.0 Off |                  N/A |\n",
      "| 41%   75C    P2   157W / 250W |   1689MiB / 11178MiB |     78%      Default |\n",
      "|                               |                      |                  N/A |\n",
      "+-------------------------------+----------------------+----------------------+\n",
      "|   2  GeForce GTX 108...  Off  | 00000000:07:00.0 Off |                  N/A |\n",
      "| 51%   83C    P2   195W / 250W |   4275MiB / 11178MiB |     99%      Default |\n",
      "|                               |                      |                  N/A |\n",
      "+-------------------------------+----------------------+----------------------+\n",
      "|   3  GeForce GTX 108...  Off  | 00000000:08:00.0 Off |                  N/A |\n",
      "| 54%   83C    P2   258W / 250W |  10821MiB / 11178MiB |    100%      Default |\n",
      "|                               |                      |                  N/A |\n",
      "+-------------------------------+----------------------+----------------------+\n",
      "|   4  GeForce GTX 108...  Off  | 00000000:0C:00.0 Off |                  N/A |\n",
      "| 63%   84C    P2   228W / 250W |  10829MiB / 11178MiB |     80%      Default |\n",
      "|                               |                      |                  N/A |\n",
      "+-------------------------------+----------------------+----------------------+\n",
      "|   5  GeForce GTX 108...  Off  | 00000000:0D:00.0 Off |                  N/A |\n",
      "| 45%   76C    P2   247W / 250W |  10829MiB / 11178MiB |     97%      Default |\n",
      "|                               |                      |                  N/A |\n",
      "+-------------------------------+----------------------+----------------------+\n",
      "|   6  GeForce GTX 108...  Off  | 00000000:0E:00.0 Off |                  N/A |\n",
      "| 53%   83C    P2   223W / 250W |  10829MiB / 11178MiB |     97%      Default |\n",
      "|                               |                      |                  N/A |\n",
      "+-------------------------------+----------------------+----------------------+\n",
      "|   7  GeForce GTX 108...  Off  | 00000000:0F:00.0 Off |                  N/A |\n",
      "| 20%   36C    P8     9W / 250W |      2MiB / 11178MiB |      0%      Default |\n",
      "|                               |                      |                  N/A |\n",
      "+-------------------------------+----------------------+----------------------+\n",
      "                                                                               \n",
      "+-----------------------------------------------------------------------------+\n",
      "| Processes:                                                                  |\n",
      "|  GPU   GI   CI        PID   Type   Process name                  GPU Memory |\n",
      "|        ID   ID                                                   Usage      |\n",
      "|=============================================================================|\n",
      "|    0   N/A  N/A     48389      C   python3                             0MiB |\n",
      "|    1   N/A  N/A     48389      C   python3                          1687MiB |\n",
      "|    2   N/A  N/A      1954      C   python3                          4273MiB |\n",
      "|    2   N/A  N/A     48389      C   python3                             0MiB |\n",
      "|    3   N/A  N/A      6969      C   python3                         10813MiB |\n",
      "|    3   N/A  N/A     48389      C   python3                             0MiB |\n",
      "|    4   N/A  N/A     22514      C   python3                         10821MiB |\n",
      "|    4   N/A  N/A     48389      C   python3                             0MiB |\n",
      "|    5   N/A  N/A     13162      C   python3                         10821MiB |\n",
      "|    5   N/A  N/A     48389      C   python3                             0MiB |\n",
      "|    6   N/A  N/A      8980      C   python3                         10821MiB |\n",
      "|    6   N/A  N/A     48389      C   python3                             0MiB |\n",
      "|    7   N/A  N/A     48389      C   python3                             0MiB |\n",
      "+-----------------------------------------------------------------------------+\n"
     ]
    }
   ],
   "source": [
    "!nvidia-smi"
   ]
  },
  {
   "cell_type": "code",
   "execution_count": 4,
   "id": "97aac0f3",
   "metadata": {},
   "outputs": [],
   "source": [
    "##############################################################\n",
    "os.environ[\"CUDA_DEVICE_ORDER\"]=\"PCI_BUS_ID\"  \n",
    "os.environ[\"CUDA_VISIBLE_DEVICES\"]=\"7\"\n",
    "##############################################################"
   ]
  },
  {
   "cell_type": "markdown",
   "id": "f9599eb6",
   "metadata": {},
   "source": [
    "### Use device for `cuda` or `cpu` based on availability"
   ]
  },
  {
   "cell_type": "code",
   "execution_count": 5,
   "id": "0691e0ab",
   "metadata": {},
   "outputs": [
    {
     "data": {
      "text/plain": [
       "device(type='cuda')"
      ]
     },
     "execution_count": 5,
     "metadata": {},
     "output_type": "execute_result"
    }
   ],
   "source": [
    "####################################################################\n",
    "#GPU using CUDA\n",
    "device = torch.device(\"cuda\" if torch.cuda.is_available() else \"cpu\")\n",
    "device\n",
    "####################################################################"
   ]
  },
  {
   "cell_type": "code",
   "execution_count": 6,
   "id": "7cd0f95e",
   "metadata": {},
   "outputs": [],
   "source": [
    "config = dict(\n",
    "    IMAGE_PATH= \"nih-dataset/nih-15-class\",\n",
    "    saved_path=\"saved/resnet18.pt\",\n",
    "    lr=0.001, \n",
    "    EPOCHS = 5,\n",
    "    BATCH_SIZE = 32,\n",
    "    IMAGE_SIZE = 224,\n",
    "    TRAIN_VALID_SPLIT = 0.2,\n",
    "    device=device,\n",
    "    SEED = 42,\n",
    "    pin_memory=True,\n",
    "    num_workers=8,\n",
    "    USE_AMP = True,\n",
    "    channels_last=False)\n",
    "####################################################################"
   ]
  },
  {
   "cell_type": "code",
   "execution_count": 7,
   "id": "1053216c",
   "metadata": {},
   "outputs": [],
   "source": [
    "# For custom operators, you might need to set python seed\n",
    "random.seed(config['SEED'])\n",
    "# If you or any of the libraries you are using rely on NumPy, you can seed the global NumPy RNG \n",
    "np.random.seed(config['SEED'])\n",
    "# Prevent RNG for CPU and GPU using torch\n",
    "torch.manual_seed(config['SEED'])\n",
    "torch.cuda.manual_seed(config['SEED'])"
   ]
  },
  {
   "cell_type": "markdown",
   "id": "6f428d78",
   "metadata": {},
   "source": [
    "### Create tensors directly on the target device\n",
    "\n",
    "Instead of calling `torch.rand(size).cuda()` to generate a random tensor, produce the output directly on the target device: `torch.rand(size, device=torch.device('cuda'))`.\n",
    "\n",
    "This is applicable to all functions which create new tensors and accept device argument: `torch.rand(), torch.zeros(), torch.full()` and similar."
   ]
  },
  {
   "cell_type": "markdown",
   "id": "eebed8a6",
   "metadata": {},
   "source": [
    "CUDA Convolution Benchmarking: Best Convolution Algo but may loose reproducibility if True"
   ]
  },
  {
   "cell_type": "code",
   "execution_count": 8,
   "id": "61fbb7a5",
   "metadata": {},
   "outputs": [],
   "source": [
    "# If researcher and wants to reproducuce: False\n",
    "# If developer wants performance: True\n",
    "torch.backends.cudnn.benchmarks = True\n",
    "torch.backends.cudnn.deterministic = True\n",
    "\n",
    "torch.backends.cuda.matmul.allow_tf32 = True\n",
    "\n",
    "# The flag below controls whether to allow TF32 on cuDNN. This flag defaults to True.\n",
    "torch.backends.cudnn.allow_tf32 = True"
   ]
  },
  {
   "cell_type": "markdown",
   "id": "175a964c",
   "metadata": {},
   "source": [
    "Apply Data Transforms (Aumentations + Processing)"
   ]
  },
  {
   "cell_type": "code",
   "execution_count": 9,
   "id": "e706952e",
   "metadata": {},
   "outputs": [],
   "source": [
    "data_transforms = {\n",
    "    'train': transforms.Compose([\n",
    "        transforms.RandomResizedCrop((224,224)),\n",
    "        #transforms.RandomHorizontalFlip(),\n",
    "        transforms.ToTensor(),\n",
    "        transforms.Normalize([0.485, 0.456, 0.406], [0.229, 0.224, 0.225])\n",
    "    ]),\n",
    "    'val': transforms.Compose([\n",
    "        transforms.Resize((config['IMAGE_SIZE'],config['IMAGE_SIZE'])),\n",
    "        transforms.ToTensor(),\n",
    "        transforms.Normalize([0.485, 0.456, 0.406], [0.229, 0.224, 0.225])\n",
    "    ]),\n",
    "    'test': transforms.Compose([\n",
    "        transforms.Resize((config['IMAGE_SIZE'],config['IMAGE_SIZE'])),\n",
    "        transforms.ToTensor(),\n",
    "        transforms.Normalize([0.485, 0.456, 0.406], [0.229, 0.224, 0.225])\n",
    "    ]),\n",
    "}"
   ]
  },
  {
   "cell_type": "code",
   "execution_count": 76,
   "id": "3f6f520e",
   "metadata": {},
   "outputs": [],
   "source": [
    "my_path = '../../../dataset/NIH_WHOLE_DATASET/nih-2-class'"
   ]
  },
  {
   "cell_type": "code",
   "execution_count": 77,
   "id": "fbb14d16",
   "metadata": {},
   "outputs": [
    {
     "name": "stdout",
     "output_type": "stream",
     "text": [
      "112120\n"
     ]
    }
   ],
   "source": [
    "import torchvision\n",
    "images = torchvision.datasets.ImageFolder(root=my_path,transform=data_transforms['test'])\n",
    "print(len(images))\n",
    "other, train_data,valid_data,test_data = torch.utils.data.dataset.random_split(images,[80000,500,500,31120])"
   ]
  },
  {
   "cell_type": "code",
   "execution_count": 78,
   "id": "37e8882a",
   "metadata": {},
   "outputs": [],
   "source": [
    "train_dl = torch.utils.data.DataLoader(dataset=train_data,batch_size=32,shuffle=True, num_workers = config['num_workers'],\n",
    "                                          pin_memory = config['pin_memory'])\n",
    "valid_dl = torch.utils.data.DataLoader(dataset = valid_data,batch_size=32,shuffle=True, num_workers = config['num_workers'],\n",
    "                                          pin_memory = config['pin_memory'])\n",
    "test_dl = torch.utils.data.DataLoader(dataset=test_data,batch_size=32,shuffle=True, num_workers = config['num_workers'],\n",
    "                                          pin_memory = config['pin_memory'])"
   ]
  },
  {
   "cell_type": "markdown",
   "id": "0ba10f4a",
   "metadata": {},
   "source": [
    "Optimizers:\n",
    "Gradient Descent:-\n",
    "    a. Stoicastic Gradient Descent bs = 1; 'n' number of examples. 'n / 1' number of data loader/steps for 1 Epoch\n",
    "    b. Mini-Batch Gradient Descent bs = 32; 'n' number of examples. 'n / 32' number of dataloaders/step for 1 Epoch \n",
    "    c. Full Batch Gradient Descent bs = total_number_of_samples number of dataloader/steps = 1 for 1 Epoch"
   ]
  },
  {
   "cell_type": "code",
   "execution_count": 79,
   "id": "152bec20",
   "metadata": {},
   "outputs": [
    {
     "data": {
      "text/plain": [
       "16"
      ]
     },
     "execution_count": 79,
     "metadata": {},
     "output_type": "execute_result"
    }
   ],
   "source": [
    "len(train_dl)"
   ]
  },
  {
   "cell_type": "code",
   "execution_count": 80,
   "id": "0726efb9",
   "metadata": {},
   "outputs": [
    {
     "name": "stdout",
     "output_type": "stream",
     "text": [
      "tensor([1, 0, 0, 0, 1, 1, 0, 1, 0, 0, 0, 0, 0, 0, 0, 0, 1, 1, 1, 0, 1, 0, 0, 0,\n",
      "        0, 1, 0, 1, 0, 1, 1, 1])\n"
     ]
    },
    {
     "data": {
      "text/plain": [
       "<matplotlib.image.AxesImage at 0x7fca251410b8>"
      ]
     },
     "execution_count": 80,
     "metadata": {},
     "output_type": "execute_result"
    },
    {
     "data": {
      "image/png": "[encoded data removed]",
      "text/plain": [
       "<Figure size 432x288 with 1 Axes>"
      ]
     },
     "metadata": {
      "needs_background": "light"
     },
     "output_type": "display_data"
    }
   ],
   "source": [
    "import matplotlib.pyplot as plt\n",
    "a = iter(valid_dl)\n",
    "b = next(a)\n",
    "print(b[1])\n",
    "plt.imshow(b[0][0][0])"
   ]
  },
  {
   "cell_type": "markdown",
   "id": "eac232ff",
   "metadata": {},
   "source": [
    "Load Model : Pretrained from torchvision model zoo or Saved model"
   ]
  },
  {
   "cell_type": "code",
   "execution_count": 81,
   "id": "2689c1c0",
   "metadata": {},
   "outputs": [],
   "source": [
    "mobilenet = models.mobilenet_v2(pretrained=True)\n",
    "mobilenet.classifier[1] = nn.Linear(in_features = 1280, out_features = 2, bias = True)\n",
    "model = mobilenet"
   ]
  },
  {
   "cell_type": "code",
   "execution_count": 82,
   "id": "2666e8ff",
   "metadata": {},
   "outputs": [
    {
     "data": {
      "text/plain": [
       "<All keys matched successfully>"
      ]
     },
     "execution_count": 82,
     "metadata": {},
     "output_type": "execute_result"
    }
   ],
   "source": [
    "model.load_state_dict(torch.load('saved/mobilenetv2.pt'))"
   ]
  },
  {
   "cell_type": "code",
   "execution_count": 83,
   "id": "fe071c0b",
   "metadata": {},
   "outputs": [],
   "source": [
    "#Channel Last Optimization in Model\n",
    "\n",
    "model = model.to(config['device'])"
   ]
  },
  {
   "cell_type": "code",
   "execution_count": 84,
   "id": "684650fb",
   "metadata": {},
   "outputs": [],
   "source": [
    "optimizer = optim.Adam(model.parameters(),lr=config['lr'])\n",
    "# Loss Function\n",
    "criterion = nn.CrossEntropyLoss()"
   ]
  },
  {
   "cell_type": "markdown",
   "id": "5d6c40f9",
   "metadata": {},
   "source": [
    "### Training Pipeline Starts"
   ]
  },
  {
   "cell_type": "code",
   "execution_count": 85,
   "id": "559b49d9",
   "metadata": {},
   "outputs": [],
   "source": [
    "def train_model(model,criterion,optimizer,num_epochs=10):\n",
    "\n",
    "    since = time.time()                                            \n",
    "    batch_ct = 0\n",
    "    example_ct = 0\n",
    "    for epoch in range(num_epochs):\n",
    "        print('Epoch {}/{}'.format(epoch, num_epochs - 1))\n",
    "        print('-' * 10)\n",
    "        \n",
    "        #Training\n",
    "        model.train()\n",
    "        run_corrects = 0\n",
    "        for x,y in train_dl:\n",
    "            x = x.to(config['device'])\n",
    "            y = y.to(config['device'])\n",
    "            \n",
    "            optimizer.zero_grad()\n",
    "            #optimizer.zero_grad(set_to_none=True)\n",
    "            ######################################################################\n",
    "            \n",
    "            train_logits = model(x) #Input = [BS,3,224,224] (Image) -- Model --> [BS,4] (Output Scores)\n",
    "            _, train_preds = torch.max(train_logits, 1)\n",
    "            train_loss = criterion(train_logits,y)\n",
    "            run_corrects += torch.sum(train_preds == y.data)\n",
    "            \n",
    "            train_loss.backward() # Backpropagation this is where your W_gradient\n",
    "            loss=train_loss\n",
    "\n",
    "            optimizer.step() # W_new = W_old - LR * W_gradient \n",
    "            example_ct += len(x) \n",
    "            batch_ct += 1\n",
    "            \n",
    "            ########################################################################\n",
    "            # Stores Wandb Logs here\n",
    "            # Report metrics every 25th batch\n",
    "            if ((batch_ct + 1) % 25) == 0:\n",
    "                train_log(loss, example_ct, epoch)\n",
    "            ########################################################################\n",
    "        \n",
    "        #validation\n",
    "        model.eval()\n",
    "        running_loss = 0.0\n",
    "        running_corrects = 0\n",
    "        total = 0\n",
    "        # Disable gradient calculation for validation or inference using torch.no_rad()\n",
    "        with torch.no_grad():\n",
    "            for x,y in valid_dl:\n",
    "                x = x.to(config['device'])\n",
    "                y = y.to(config['device']) #CHW --> #HWC\n",
    "                valid_logits = model(x)\n",
    "                _, valid_preds = torch.max(valid_logits, 1)\n",
    "                valid_loss = criterion(valid_logits,y)\n",
    "                running_loss += valid_loss.item() * x.size(0)\n",
    "                running_corrects += torch.sum(valid_preds == y.data)\n",
    "                total += y.size(0)\n",
    "            \n",
    "        epoch_loss = running_loss / len(valid_data)\n",
    "        epoch_acc = running_corrects.double() / len(valid_data)\n",
    "        train_acc = run_corrects.double() / len(train_data)\n",
    "        print(\"Train Accuracy\",train_acc.cpu())\n",
    "        print(\"Validation Loss is {}\".format(epoch_loss))\n",
    "        print(\"Validation Accuracy is {}\".format(epoch_acc.cpu()))\n",
    "\n",
    "            \n",
    "    time_elapsed = time.time() - since\n",
    "    print('Training complete in {:.0f}m {:.0f}s'.format(\n",
    "        time_elapsed // 60, time_elapsed % 60))\n",
    "    \n",
    "    torch.save(model.state_dict(), config['saved_path'])"
   ]
  },
  {
   "cell_type": "code",
   "execution_count": 86,
   "id": "fadf928d",
   "metadata": {},
   "outputs": [],
   "source": [
    "def train_log(loss, example_ct, epoch):\n",
    "    loss = float(loss)\n",
    "    print(f\"Loss after \" + str(example_ct).zfill(5) + f\" examples: {loss:.3f}\")"
   ]
  },
  {
   "cell_type": "code",
   "execution_count": 87,
   "id": "1bc11b52",
   "metadata": {},
   "outputs": [],
   "source": [
    "#train_model(model, criterion, optimizer, num_epochs=2)"
   ]
  },
  {
   "cell_type": "code",
   "execution_count": 88,
   "id": "eb549ab9",
   "metadata": {},
   "outputs": [
    {
     "name": "stdout",
     "output_type": "stream",
     "text": [
      "Test Loss is 0.3920120740381182\n",
      "Test Accuracy is 0.838560411311054\n"
     ]
    }
   ],
   "source": [
    "import torch.nn.functional as F\n",
    "model.eval()\n",
    "running_loss = 0.0\n",
    "running_corrects = 0\n",
    "total = 0\n",
    "preds = []\n",
    "pred_labels = []\n",
    "labels = []\n",
    "\n",
    "        # Disable gradient calculation for validation or inference using torch.no_rad()\n",
    "with torch.no_grad():\n",
    "            for x,y in test_dl:\n",
    "                x = x.to(config['device'])\n",
    "                y = y.to(config['device']) #CHW --> #HWC\n",
    "                valid_logits = model(x)\n",
    "                predict_prob = F.softmax(valid_logits)\n",
    "                _,predictions = predict_prob.max(1)\n",
    "                predictions = predictions.to('cpu')\n",
    "                \n",
    "                _, valid_preds = torch.max(valid_logits, 1)\n",
    "                valid_loss = criterion(valid_logits,y)\n",
    "                running_loss += valid_loss.item() * x.size(0)\n",
    "                running_corrects += torch.sum(valid_preds == y.data)\n",
    "                total += y.size(0)\n",
    "                predict_prob = predict_prob.to('cpu')\n",
    "                \n",
    "                pred_labels.extend(list(predictions.numpy()))\n",
    "                preds.extend(list(predict_prob.numpy()))\n",
    "                y = y.to('cpu')\n",
    "                labels.extend(list(y.numpy()))\n",
    "            \n",
    "epoch_loss = running_loss / len(test_data)\n",
    "epoch_acc = running_corrects.double() / len(test_data)\n",
    "print(\"Test Loss is {}\".format(epoch_loss))\n",
    "print(\"Test Accuracy is {}\".format(epoch_acc.cpu()))"
   ]
  },
  {
   "cell_type": "code",
   "execution_count": 89,
   "id": "2a06718a",
   "metadata": {},
   "outputs": [
    {
     "data": {
      "text/plain": [
       "(0.7979808280644504, 0.9364528482527525, 0.8616892412729876, None)"
      ]
     },
     "execution_count": 89,
     "metadata": {},
     "output_type": "execute_result"
    }
   ],
   "source": [
    "from sklearn.metrics import precision_recall_fscore_support, roc_auc_score\n",
    "precision_recall_fscore_support(np.array(labels), np.array(pred_labels), average='binary')"
   ]
  },
  {
   "cell_type": "code",
   "execution_count": 90,
   "id": "46c02cfa",
   "metadata": {},
   "outputs": [
    {
     "data": {
      "text/plain": [
       "0.931585760523713"
      ]
     },
     "execution_count": 90,
     "metadata": {},
     "output_type": "execute_result"
    }
   ],
   "source": [
    "#y_pred = np.transpose([pred[:, 1] for pred in preds])\n",
    "roc_auc_score(np.array(labels), np.array(preds)[:,1])"
   ]
  },
  {
   "cell_type": "markdown",
   "id": "06162e65",
   "metadata": {},
   "source": [
    "## Mobilenet v3"
   ]
  },
  {
   "cell_type": "code",
   "execution_count": 91,
   "id": "7ad6cac2",
   "metadata": {},
   "outputs": [
    {
     "data": {
      "text/plain": [
       "<All keys matched successfully>"
      ]
     },
     "execution_count": 91,
     "metadata": {},
     "output_type": "execute_result"
    }
   ],
   "source": [
    "mobilenet = models.mobilenet_v3_small(pretrained=True)\n",
    "mobilenet.classifier[3] = nn.Linear(in_features = 1024, out_features = 2, bias = True)\n",
    "model = mobilenet\n",
    "model.load_state_dict(torch.load('saved/mobilenetv3.pt'))"
   ]
  },
  {
   "cell_type": "code",
   "execution_count": 92,
   "id": "4e58273a",
   "metadata": {},
   "outputs": [],
   "source": [
    "model = model.to(config['device'])"
   ]
  },
  {
   "cell_type": "code",
   "execution_count": 93,
   "id": "d4776825",
   "metadata": {},
   "outputs": [
    {
     "name": "stdout",
     "output_type": "stream",
     "text": [
      "Test Loss is 0.2970604803154585\n",
      "Test Accuracy is 0.8871143958868895\n"
     ]
    }
   ],
   "source": [
    "model.eval()\n",
    "running_loss = 0.0\n",
    "running_corrects = 0\n",
    "total = 0\n",
    "preds = []\n",
    "pred_labels = []\n",
    "labels = []\n",
    "\n",
    "        # Disable gradient calculation for validation or inference using torch.no_rad()\n",
    "with torch.no_grad():\n",
    "            for x,y in test_dl:\n",
    "                x = x.to(config['device'])\n",
    "                y = y.to(config['device']) #CHW --> #HWC\n",
    "                valid_logits = model(x)\n",
    "                predict_prob = F.softmax(valid_logits)\n",
    "                _,predictions = predict_prob.max(1)\n",
    "                predictions = predictions.to('cpu')\n",
    "                \n",
    "                _, valid_preds = torch.max(valid_logits, 1)\n",
    "                valid_loss = criterion(valid_logits,y)\n",
    "                running_loss += valid_loss.item() * x.size(0)\n",
    "                running_corrects += torch.sum(valid_preds == y.data)\n",
    "                total += y.size(0)\n",
    "                predict_prob = predict_prob.to('cpu')\n",
    "                \n",
    "                pred_labels.extend(list(predictions.numpy()))\n",
    "                preds.extend(list(predict_prob.numpy()))\n",
    "                y = y.to('cpu')\n",
    "                labels.extend(list(y.numpy()))\n",
    "            \n",
    "epoch_loss = running_loss / len(test_data)\n",
    "epoch_acc = running_corrects.double() / len(test_data)\n",
    "print(\"Test Loss is {}\".format(epoch_loss))\n",
    "print(\"Test Accuracy is {}\".format(epoch_acc.cpu()))"
   ]
  },
  {
   "cell_type": "code",
   "execution_count": 94,
   "id": "e1398f79",
   "metadata": {},
   "outputs": [
    {
     "data": {
      "text/plain": [
       "(0.8955823293172691, 0.8940282431785543, 0.8948046114687828, None)"
      ]
     },
     "execution_count": 94,
     "metadata": {},
     "output_type": "execute_result"
    }
   ],
   "source": [
    "precision_recall_fscore_support(np.array(labels), np.array(pred_labels), average='binary')"
   ]
  },
  {
   "cell_type": "code",
   "execution_count": 95,
   "id": "37b9a780",
   "metadata": {},
   "outputs": [
    {
     "data": {
      "text/plain": [
       "0.9466541969197476"
      ]
     },
     "execution_count": 95,
     "metadata": {},
     "output_type": "execute_result"
    }
   ],
   "source": [
    "roc_auc_score(np.array(labels), np.array(preds)[:,1])"
   ]
  },
  {
   "cell_type": "markdown",
   "id": "cacc6388",
   "metadata": {},
   "source": [
    "## ExLNet"
   ]
  },
  {
   "cell_type": "code",
   "execution_count": 96,
   "id": "fbeb9bcb",
   "metadata": {},
   "outputs": [],
   "source": [
    "squeezenet = torchvision.models.squeezenet1_0(pretrained=True)\n",
    "\n",
    "squeezenet.features[3].expand1x1 = nn.Conv2d(16, 64, kernel_size=(1, 1), stride=(1, 1),groups=16)\n",
    "squeezenet.features[3].expand3x3 = nn.Conv2d(16, 64, kernel_size=(3, 3), stride=(1, 1), padding=(1, 1),groups=16)\n",
    "\n",
    "squeezenet.features[4].expand1x1 = nn.Conv2d(16, 64, kernel_size=(1, 1), stride=(1, 1),groups=16)\n",
    "squeezenet.features[4].expand3x3 = nn.Conv2d(16, 64, kernel_size=(3, 3), stride=(1, 1), padding=(1, 1),groups=16)\n",
    "\n",
    "squeezenet.features[5].expand1x1 = nn.Conv2d(32, 128, kernel_size=(1, 1), stride=(1, 1),groups=32)\n",
    "squeezenet.features[5].expand3x3 = nn.Conv2d(32, 128, kernel_size=(3, 3), stride=(1, 1), padding=(1, 1),groups=32)\n",
    "\n",
    "squeezenet.features[7].expand1x1 = nn.Conv2d(32, 128, kernel_size=(1, 1), stride=(1, 1),groups=32)\n",
    "squeezenet.features[7].expand3x3 = nn.Conv2d(32, 128, kernel_size=(3, 3), stride=(1, 1), padding=(1, 1),groups=32)\n",
    "\n",
    "squeezenet.features[8].expand1x1 = nn.Conv2d(48, 192, kernel_size=(1, 1), stride=(1, 1),groups=48)\n",
    "squeezenet.features[8].expand3x3 = nn.Conv2d(48, 192, kernel_size=(3, 3), stride=(1, 1), padding=(1, 1),groups=48)\n",
    "\n",
    "squeezenet.features[9].expand1x1 = nn.Conv2d(48, 192, kernel_size=(1, 1), stride=(1, 1),groups=48)\n",
    "squeezenet.features[9].expand3x3 = nn.Conv2d(48, 192, kernel_size=(3, 3), stride=(1, 1), padding=(1, 1),groups=48)\n",
    "\n",
    "squeezenet.features[10].expand1x1 = nn.Conv2d(64, 256, kernel_size=(1, 1), stride=(1, 1),groups=64)\n",
    "squeezenet.features[10].expand3x3 = nn.Conv2d(64, 256, kernel_size=(3, 3), stride=(1, 1), padding=(1, 1),groups=64)\n",
    "\n",
    "squeezenet.features[12].expand1x1 = nn.Conv2d(64, 256, kernel_size=(1, 1), stride=(1, 1),groups=64)\n",
    "squeezenet.features[12].expand3x3 = nn.Conv2d(64, 256, kernel_size=(3, 3), stride=(1, 1), padding=(1, 1),groups=64)\n",
    "\n",
    "squeezenet.classifier = nn.Sequential(\n",
    "                                        nn.Dropout(0.5),\n",
    "                                        nn.Conv2d(512, 2, kernel_size=(1, 1), stride=(1, 1)),\n",
    "                                        nn.AdaptiveAvgPool2d(output_size=(1, 1))\n",
    "        )\n",
    "\n",
    "model = squeezenet\n"
   ]
  },
  {
   "cell_type": "code",
   "execution_count": 97,
   "id": "114a35e1",
   "metadata": {},
   "outputs": [],
   "source": [
    "model.load_state_dict(torch.load('saved/exlnet4.pt'))\n",
    "model = model.to(config['device'])"
   ]
  },
  {
   "cell_type": "code",
   "execution_count": 98,
   "id": "64e022c4",
   "metadata": {},
   "outputs": [
    {
     "name": "stdout",
     "output_type": "stream",
     "text": [
      "Test Loss is 0.5418672634427529\n",
      "Test Accuracy is 0.7258033419023135\n"
     ]
    }
   ],
   "source": [
    "model.eval()\n",
    "running_loss = 0.0\n",
    "running_corrects = 0\n",
    "total = 0\n",
    "preds = []\n",
    "pred_labels = []\n",
    "labels = []\n",
    "\n",
    "        # Disable gradient calculation for validation or inference using torch.no_rad()\n",
    "with torch.no_grad():\n",
    "            for x,y in test_dl:\n",
    "                x = x.to(config['device'])\n",
    "                y = y.to(config['device']) #CHW --> #HWC\n",
    "                valid_logits = model(x)\n",
    "                predict_prob = F.softmax(valid_logits)\n",
    "                _,predictions = predict_prob.max(1)\n",
    "                predictions = predictions.to('cpu')\n",
    "                \n",
    "                _, valid_preds = torch.max(valid_logits, 1)\n",
    "                valid_loss = criterion(valid_logits,y)\n",
    "                running_loss += valid_loss.item() * x.size(0)\n",
    "                running_corrects += torch.sum(valid_preds == y.data)\n",
    "                total += y.size(0)\n",
    "                predict_prob = predict_prob.to('cpu')\n",
    "                \n",
    "                pred_labels.extend(list(predictions.numpy()))\n",
    "                preds.extend(list(predict_prob.numpy()))\n",
    "                y = y.to('cpu')\n",
    "                labels.extend(list(y.numpy()))\n",
    "            \n",
    "epoch_loss = running_loss / len(test_data)\n",
    "epoch_acc = running_corrects.double() / len(test_data)\n",
    "print(\"Test Loss is {}\".format(epoch_loss))\n",
    "print(\"Test Accuracy is {}\".format(epoch_acc.cpu()))"
   ]
  },
  {
   "cell_type": "code",
   "execution_count": 99,
   "id": "875f76b4",
   "metadata": {},
   "outputs": [
    {
     "data": {
      "text/plain": [
       "(0.7320810396685773, 0.7719004308281474, 0.751463606442781, None)"
      ]
     },
     "execution_count": 99,
     "metadata": {},
     "output_type": "execute_result"
    }
   ],
   "source": [
    "precision_recall_fscore_support(np.array(labels), np.array(pred_labels), average='binary')"
   ]
  },
  {
   "cell_type": "code",
   "execution_count": 100,
   "id": "7916998e",
   "metadata": {},
   "outputs": [
    {
     "data": {
      "text/plain": [
       "0.7999095057224472"
      ]
     },
     "execution_count": 100,
     "metadata": {},
     "output_type": "execute_result"
    }
   ],
   "source": [
    "roc_auc_score(np.array(labels), np.array(preds)[:,1])"
   ]
  },
  {
   "cell_type": "markdown",
   "id": "afe5725e",
   "metadata": {},
   "source": [
    "## ResNet50"
   ]
  },
  {
   "cell_type": "code",
   "execution_count": 101,
   "id": "e38f5e76",
   "metadata": {},
   "outputs": [],
   "source": [
    "resnet50 = torchvision.models.resnet50(pretrained=True)\n",
    "resnet50.fc = nn.Sequential(\n",
    "    nn.Dropout(0.4),\n",
    "    nn.Linear(in_features = 2048, out_features = 2, bias = True))\n",
    "model = resnet50\n",
    "\n",
    "model.load_state_dict(torch.load('saved/resnet50.pt'))\n",
    "model = model.to(config['device'])"
   ]
  },
  {
   "cell_type": "code",
   "execution_count": 102,
   "id": "83909775",
   "metadata": {},
   "outputs": [
    {
     "name": "stdout",
     "output_type": "stream",
     "text": [
      "Test Loss is 0.24563722542288371\n",
      "Test Accuracy is 0.9224614395886889\n"
     ]
    }
   ],
   "source": [
    "model.eval()\n",
    "running_loss = 0.0\n",
    "running_corrects = 0\n",
    "total = 0\n",
    "preds = []\n",
    "pred_labels = []\n",
    "labels = []\n",
    "\n",
    "        # Disable gradient calculation for validation or inference using torch.no_rad()\n",
    "with torch.no_grad():\n",
    "            for x,y in test_dl:\n",
    "                x = x.to(config['device'])\n",
    "                y = y.to(config['device']) #CHW --> #HWC\n",
    "                valid_logits = model(x)\n",
    "                predict_prob = F.softmax(valid_logits)\n",
    "                _,predictions = predict_prob.max(1)\n",
    "                predictions = predictions.to('cpu')\n",
    "                \n",
    "                _, valid_preds = torch.max(valid_logits, 1)\n",
    "                valid_loss = criterion(valid_logits,y)\n",
    "                running_loss += valid_loss.item() * x.size(0)\n",
    "                running_corrects += torch.sum(valid_preds == y.data)\n",
    "                total += y.size(0)\n",
    "                predict_prob = predict_prob.to('cpu')\n",
    "                \n",
    "                pred_labels.extend(list(predictions.numpy()))\n",
    "                preds.extend(list(predict_prob.numpy()))\n",
    "                y = y.to('cpu')\n",
    "                labels.extend(list(y.numpy()))\n",
    "            \n",
    "epoch_loss = running_loss / len(test_data)\n",
    "epoch_acc = running_corrects.double() / len(test_data)\n",
    "print(\"Test Loss is {}\".format(epoch_loss))\n",
    "print(\"Test Accuracy is {}\".format(epoch_acc.cpu()))"
   ]
  },
  {
   "cell_type": "code",
   "execution_count": 103,
   "id": "0fadb88f",
   "metadata": {},
   "outputs": [
    {
     "data": {
      "text/plain": [
       "(0.9091273247496423, 0.9506342747726185, 0.9294176148828501, None)"
      ]
     },
     "execution_count": 103,
     "metadata": {},
     "output_type": "execute_result"
    }
   ],
   "source": [
    "precision_recall_fscore_support(np.array(labels), np.array(pred_labels), average='binary')"
   ]
  },
  {
   "cell_type": "code",
   "execution_count": 104,
   "id": "184fc363",
   "metadata": {},
   "outputs": [
    {
     "data": {
      "text/plain": [
       "0.9677036373335488"
      ]
     },
     "execution_count": 104,
     "metadata": {},
     "output_type": "execute_result"
    }
   ],
   "source": [
    "roc_auc_score(np.array(labels), np.array(preds)[:,1])"
   ]
  },
  {
   "cell_type": "markdown",
   "id": "bd024bd0",
   "metadata": {},
   "source": [
    "## Squeezenet"
   ]
  },
  {
   "cell_type": "code",
   "execution_count": 105,
   "id": "1671dd3d",
   "metadata": {},
   "outputs": [],
   "source": [
    "squeezenet = torchvision.models.squeezenet1_0(pretrained=True)\n",
    "squeezenet.classifier[1] = nn.Conv2d(512, 2, kernel_size=(1, 1), stride=(1, 1))\n",
    "model = squeezenet\n",
    "model.load_state_dict(torch.load('saved/squeezenet.pt'))\n",
    "model = model.to(config['device'])"
   ]
  },
  {
   "cell_type": "code",
   "execution_count": 106,
   "id": "9ebf17f9",
   "metadata": {},
   "outputs": [
    {
     "name": "stdout",
     "output_type": "stream",
     "text": [
      "Test Loss is 0.6237751105757177\n",
      "Test Accuracy is 0.6825192802056554\n"
     ]
    }
   ],
   "source": [
    "model.eval()\n",
    "running_loss = 0.0\n",
    "running_corrects = 0\n",
    "total = 0\n",
    "preds = []\n",
    "pred_labels = []\n",
    "labels = []\n",
    "\n",
    "        # Disable gradient calculation for validation or inference using torch.no_rad()\n",
    "with torch.no_grad():\n",
    "            for x,y in test_dl:\n",
    "                x = x.to(config['device'])\n",
    "                y = y.to(config['device']) #CHW --> #HWC\n",
    "                valid_logits = model(x)\n",
    "                predict_prob = F.softmax(valid_logits)\n",
    "                _,predictions = predict_prob.max(1)\n",
    "                predictions = predictions.to('cpu')\n",
    "                \n",
    "                _, valid_preds = torch.max(valid_logits, 1)\n",
    "                valid_loss = criterion(valid_logits,y)\n",
    "                running_loss += valid_loss.item() * x.size(0)\n",
    "                running_corrects += torch.sum(valid_preds == y.data)\n",
    "                total += y.size(0)\n",
    "                predict_prob = predict_prob.to('cpu')\n",
    "                \n",
    "                pred_labels.extend(list(predictions.numpy()))\n",
    "                preds.extend(list(predict_prob.numpy()))\n",
    "                y = y.to('cpu')\n",
    "                labels.extend(list(y.numpy()))\n",
    "            \n",
    "epoch_loss = running_loss / len(test_data)\n",
    "epoch_acc = running_corrects.double() / len(test_data)\n",
    "print(\"Test Loss is {}\".format(epoch_loss))\n",
    "print(\"Test Accuracy is {}\".format(epoch_acc.cpu()))"
   ]
  },
  {
   "cell_type": "code",
   "execution_count": 107,
   "id": "1a2f239e",
   "metadata": {},
   "outputs": [
    {
     "data": {
      "text/plain": [
       "(0.7285867237687366, 0.6515078985160364, 0.6878948698508971, None)"
      ]
     },
     "execution_count": 107,
     "metadata": {},
     "output_type": "execute_result"
    }
   ],
   "source": [
    "precision_recall_fscore_support(np.array(labels), np.array(pred_labels), average='binary')"
   ]
  },
  {
   "cell_type": "code",
   "execution_count": 108,
   "id": "f865db0d",
   "metadata": {},
   "outputs": [
    {
     "data": {
      "text/plain": [
       "0.7447275261649224"
      ]
     },
     "execution_count": 108,
     "metadata": {},
     "output_type": "execute_result"
    }
   ],
   "source": [
    "roc_auc_score(np.array(labels), np.array(preds)[:,1])"
   ]
  }
 ],
 "metadata": {
  "kernelspec": {
   "display_name": "Python 3 (ipykernel)",
   "language": "python",
   "name": "python3"
  },
  "language_info": {
   "codemirror_mode": {
    "name": "ipython",
    "version": 3
   },
   "file_extension": ".py",
   "mimetype": "text/x-python",
   "name": "python",
   "nbconvert_exporter": "python",
   "pygments_lexer": "ipython3",
   "version": "3.7.3"
  }
 },
 "nbformat": 4,
 "nbformat_minor": 5
}
