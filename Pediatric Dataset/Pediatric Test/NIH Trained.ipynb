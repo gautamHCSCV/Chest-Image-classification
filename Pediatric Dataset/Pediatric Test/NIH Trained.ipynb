{
 "cells": [
  {
   "cell_type": "markdown",
   "id": "1aa771a2",
   "metadata": {},
   "source": [
    "## Optimizing Training Pipeline in Pytorch"
   ]
  },
  {
   "cell_type": "markdown",
   "id": "3b88631d",
   "metadata": {},
   "source": [
    "To improve training performance in any deep learning pipeline, pytorch suggests few extra additions of codes in exitin pipeline.\n",
    "These additions are explained and mentioned well here in [Performance Tuning Guide](https://pytorch.org/tutorials/recipes/recipes/tuning_guide.html) . In this notebook you will encounter few of such features with hands-on dedicated for GPU Computing."
   ]
  },
  {
   "cell_type": "code",
   "execution_count": 1,
   "id": "abdbfc3c",
   "metadata": {},
   "outputs": [],
   "source": [
    "import os\n",
    "import json\n",
    "import time\n",
    "import random\n",
    "import numpy as np\n",
    "import pandas as pd\n",
    "import pydicom\n",
    "from PIL import Image\n",
    "from sklearn.model_selection import train_test_split\n",
    "import warnings\n",
    "warnings.filterwarnings(\"ignore\")"
   ]
  },
  {
   "cell_type": "code",
   "execution_count": 2,
   "id": "8ab84cce",
   "metadata": {},
   "outputs": [],
   "source": [
    "import torch\n",
    "import torch.nn as nn\n",
    "import torch.optim as optim\n",
    "import torchvision\n",
    "import torch.nn.functional as F\n",
    "from torchvision import transforms\n",
    "from torch.utils.data import Dataset, DataLoader\n",
    "import torchvision.models as models\n",
    "from sklearn.metrics import precision_recall_fscore_support, roc_auc_score\n",
    "import matplotlib.pyplot as plt\n",
    "import sklearn.metrics as metrics"
   ]
  },
  {
   "cell_type": "markdown",
   "id": "4a6513ac",
   "metadata": {},
   "source": [
    "### Set GPU Device if multiple"
   ]
  },
  {
   "cell_type": "code",
   "execution_count": 3,
   "id": "cd0f3356",
   "metadata": {},
   "outputs": [
    {
     "name": "stdout",
     "output_type": "stream",
     "text": [
      "Tue May 17 11:14:27 2022       \n",
      "+-----------------------------------------------------------------------------+\n",
      "| NVIDIA-SMI 455.38       Driver Version: 455.38       CUDA Version: 11.1     |\n",
      "|-------------------------------+----------------------+----------------------+\n",
      "| GPU  Name        Persistence-M| Bus-Id        Disp.A | Volatile Uncorr. ECC |\n",
      "| Fan  Temp  Perf  Pwr:Usage/Cap|         Memory-Usage | GPU-Util  Compute M. |\n",
      "|                               |                      |               MIG M. |\n",
      "|===============================+======================+======================|\n",
      "|   0  GeForce GTX 108...  Off  | 00000000:04:00.0 Off |                  N/A |\n",
      "| 26%   60C    P2    91W / 250W |   2999MiB / 11178MiB |    100%      Default |\n",
      "|                               |                      |                  N/A |\n",
      "+-------------------------------+----------------------+----------------------+\n",
      "|   1  GeForce GTX 108...  Off  | 00000000:06:00.0 Off |                  N/A |\n",
      "| 29%   64C    P2    77W / 250W |   3386MiB / 11178MiB |     47%      Default |\n",
      "|                               |                      |                  N/A |\n",
      "+-------------------------------+----------------------+----------------------+\n",
      "|   2  GeForce GTX 108...  Off  | 00000000:07:00.0 Off |                  N/A |\n",
      "| 54%   83C    P2   256W / 250W |   6187MiB / 11178MiB |     98%      Default |\n",
      "|                               |                      |                  N/A |\n",
      "+-------------------------------+----------------------+----------------------+\n",
      "|   3  GeForce GTX 108...  Off  | 00000000:08:00.0 Off |                  N/A |\n",
      "| 50%   81C    P2   192W / 250W |   6009MiB / 11178MiB |     90%      Default |\n",
      "|                               |                      |                  N/A |\n",
      "+-------------------------------+----------------------+----------------------+\n",
      "|   4  GeForce GTX 108...  Off  | 00000000:0C:00.0 Off |                  N/A |\n",
      "| 56%   84C    P2   167W / 250W |   6197MiB / 11178MiB |    100%      Default |\n",
      "|                               |                      |                  N/A |\n",
      "+-------------------------------+----------------------+----------------------+\n",
      "|   5  GeForce GTX 108...  Off  | 00000000:0D:00.0 Off |                  N/A |\n",
      "| 43%   75C    P2   134W / 250W |   6019MiB / 11178MiB |    100%      Default |\n",
      "|                               |                      |                  N/A |\n",
      "+-------------------------------+----------------------+----------------------+\n",
      "|   6  GeForce GTX 108...  Off  | 00000000:0E:00.0 Off |                  N/A |\n",
      "| 20%   30C    P8     7W / 250W |  11063MiB / 11178MiB |      0%      Default |\n",
      "|                               |                      |                  N/A |\n",
      "+-------------------------------+----------------------+----------------------+\n",
      "|   7  GeForce GTX 108...  Off  | 00000000:0F:00.0 Off |                  N/A |\n",
      "| 20%   33C    P8     8W / 250W |  10233MiB / 11178MiB |      0%      Default |\n",
      "|                               |                      |                  N/A |\n",
      "+-------------------------------+----------------------+----------------------+\n",
      "                                                                               \n",
      "+-----------------------------------------------------------------------------+\n",
      "| Processes:                                                                  |\n",
      "|  GPU   GI   CI        PID   Type   Process name                  GPU Memory |\n",
      "|        ID   ID                                                   Usage      |\n",
      "|=============================================================================|\n",
      "|    0   N/A  N/A     13791      C   python3                             0MiB |\n",
      "|    0   N/A  N/A     24152      C   /usr/bin/python3                 2997MiB |\n",
      "|    0   N/A  N/A     24153      C   /usr/bin/python3                    0MiB |\n",
      "|    1   N/A  N/A     13791      C   python3                          1605MiB |\n",
      "|    1   N/A  N/A     24152      C   /usr/bin/python3                    0MiB |\n",
      "|    1   N/A  N/A     24153      C   /usr/bin/python3                 1777MiB |\n",
      "|    2   N/A  N/A      4114      C   /usr/bin/python3                 6185MiB |\n",
      "|    2   N/A  N/A     13791      C   python3                             0MiB |\n",
      "|    3   N/A  N/A      4114      C   /usr/bin/python3                 6007MiB |\n",
      "|    3   N/A  N/A     13791      C   python3                             0MiB |\n",
      "|    4   N/A  N/A     13791      C   python3                             0MiB |\n",
      "|    4   N/A  N/A     18196      C   /usr/bin/python3                 6195MiB |\n",
      "|    5   N/A  N/A     13791      C   python3                             0MiB |\n",
      "|    5   N/A  N/A     18196      C   /usr/bin/python3                 6017MiB |\n",
      "^C\n"
     ]
    }
   ],
   "source": [
    "!nvidia-smi"
   ]
  },
  {
   "cell_type": "code",
   "execution_count": 4,
   "id": "51a2adcb",
   "metadata": {},
   "outputs": [
    {
     "name": "stdout",
     "output_type": "stream",
     "text": [
      "cuda:1\n"
     ]
    }
   ],
   "source": [
    "class Config():\n",
    "    base_path = \"../../../dataset/pediatric_dataset/physionet.org/files/vindr-pcxr/1.0.0/\"\n",
    "    train_path = base_path + \"train/\"\n",
    "    test_path = base_path + \"test/\"\n",
    "    train_csv_path = base_path + \"annotations_train.csv\"\n",
    "    test_csv_path = base_path + \"annotations_test.csv\"\n",
    "    image_size = (224,224)\n",
    "    BATCH_SIZE = 32\n",
    "    pin_memory = True\n",
    "    num_workers = 3\n",
    "    lr=0.001\n",
    "    EPOCHS=30\n",
    "    gpu_id=1\n",
    "    device = torch.device(f'cuda:{gpu_id}' if torch.cuda.is_available() else 'cpu')\n",
    "    val_split = 0.1\n",
    "    SEED=42\n",
    "    return_logs=False\n",
    "    load = False\n",
    "    model_name = \"shufflenet\"\n",
    "    roc_title = f'roc_{model_name}'\n",
    "    checkpoint = f\"../saved_models/{model_name}_checkpoint.pt\"\n",
    "    saved_path = f'../saved_models/{model_name}_v1.pt'\n",
    "    loss_acc_path = f'../loss_acc_roc/loss-acc-{model_name}.svg'\n",
    "    roc_path = f'../loss_acc_roc/roc-{model_name}.svg'\n",
    "    fta_path = f'../roc_pickle_files/fta_{model_name}.pkl'\n",
    "\n",
    "config = Config()\n",
    "\n",
    "os.environ[\"CUDA_DEVICE_ORDER\"]=\"PCI_BUS_ID\"  \n",
    "print(config.device)\n",
    "\n",
    "random.seed(config.SEED)\n",
    "np.random.seed(config.SEED)\n",
    "torch.manual_seed(config.SEED)\n",
    "torch.cuda.manual_seed(config.SEED)\n",
    "torch.backends.cudnn.benchmarks = True\n",
    "torch.backends.cudnn.deterministic = True\n",
    "torch.backends.cuda.matmul.allow_tf32 = True\n",
    "torch.backends.cudnn.allow_tf32 = True\n",
    "\n",
    "\n",
    "class PCXRDataset():\n",
    "    def __init__(self,csv_file,dir_path):\n",
    "        self.dir_path = dir_path\n",
    "        csv_ = pd.read_csv(csv_file)\n",
    "\n",
    "        csv_ = csv_.drop_duplicates(subset=['image_id'])\n",
    "        csv_.class_name = csv_.class_name.apply(lambda x:1 if x=='No finding' else 0)\n",
    "        csv_ = np.array(csv_.loc[:,['image_id','class_name']])\n",
    "        self.images = csv_\n",
    "\n",
    "        self.transformations = torchvision.transforms.Compose([\n",
    "            torchvision.transforms.Resize(config.image_size),\n",
    "            torchvision.transforms.ToTensor()\n",
    "        ])\n",
    "            \n",
    "    def __len__(self):\n",
    "        return len(self.images)\n",
    "\n",
    "    def __getitem__(self,idx):\n",
    "        img_id, label = self.images[idx]\n",
    "        img_path = os.path.join(self.dir_path,f'{img_id}.dicom')\n",
    "        ds = pydicom.dcmread(img_path)\n",
    "        new_img = ds.pixel_array.astype('float')\n",
    "        new_img = np.maximum(new_img,0) / new_img.max()\n",
    "        new_img = (new_img * 255).astype(np.uint8)\n",
    "        final_img = Image.fromarray(new_img)\n",
    "        final_img = final_img.convert('RGB')\n",
    "        final_img = self.transformations(final_img)\n",
    "        return final_img, label\n",
    "\n",
    "def GetDataloader():\n",
    "    train_data = PCXRDataset(config.train_csv_path,config.train_path)\n",
    "    test_data = PCXRDataset(config.test_csv_path,config.test_path)\n",
    "    total_len = len(train_data)\n",
    "    val_len = int(config.val_split * total_len)\n",
    "    train_len = total_len - val_len\n",
    "    training_data,val_data = torch.utils.data.dataset.random_split(train_data,[train_len,val_len])\n",
    "\n",
    "    train_loader = torch.utils.data.DataLoader(\n",
    "        training_data,\n",
    "        shuffle=True,\n",
    "        batch_size=config.BATCH_SIZE,\n",
    "        pin_memory = config.pin_memory,\n",
    "        num_workers = config.num_workers\n",
    "        )\n",
    "    \n",
    "    val_loader = torch.utils.data.DataLoader(\n",
    "        val_data,\n",
    "        shuffle=True,\n",
    "        batch_size=config.BATCH_SIZE,\n",
    "        pin_memory = config.pin_memory,\n",
    "        num_workers = config.num_workers\n",
    "        )\n",
    "\n",
    "    test_loader = torch.utils.data.DataLoader(\n",
    "        test_data,\n",
    "        shuffle=True,\n",
    "        batch_size=config.BATCH_SIZE,\n",
    "        pin_memory = config.pin_memory,\n",
    "        num_workers = config.num_workers\n",
    "        )\n",
    "\n",
    "    return train_loader, test_loader, val_loader, training_data, test_data, val_data\n",
    "train_dl,test_dl,valid_dl, train_data,test_data, valid_data = GetDataloader()\n",
    "criterion = nn.CrossEntropyLoss()"
   ]
  },
  {
   "cell_type": "code",
   "execution_count": 5,
   "id": "97aac0f3",
   "metadata": {},
   "outputs": [],
   "source": [
    "##############################################################\n",
    "os.environ[\"CUDA_DEVICE_ORDER\"]=\"PCI_BUS_ID\"  \n",
    "os.environ[\"CUDA_VISIBLE_DEVICES\"]=\"1\"\n",
    "##############################################################"
   ]
  },
  {
   "cell_type": "markdown",
   "id": "f9599eb6",
   "metadata": {},
   "source": [
    "### Use device for `cuda` or `cpu` based on availability"
   ]
  },
  {
   "cell_type": "code",
   "execution_count": 6,
   "id": "0691e0ab",
   "metadata": {},
   "outputs": [
    {
     "data": {
      "text/plain": [
       "device(type='cuda')"
      ]
     },
     "execution_count": 6,
     "metadata": {},
     "output_type": "execute_result"
    }
   ],
   "source": [
    "####################################################################\n",
    "#GPU using CUDA\n",
    "device = torch.device(\"cuda\" if torch.cuda.is_available() else \"cpu\")\n",
    "device\n",
    "####################################################################"
   ]
  },
  {
   "cell_type": "code",
   "execution_count": 7,
   "id": "7cd0f95e",
   "metadata": {},
   "outputs": [],
   "source": [
    "config = dict(\n",
    "    saved_path=\"saved/random.pt\",\n",
    "    best_saved_path = \"saved/random_best.pt\",\n",
    "    lr=0.001, \n",
    "    EPOCHS = 3,\n",
    "    BATCH_SIZE = 32,\n",
    "    IMAGE_SIZE = 224,\n",
    "    TRAIN_VALID_SPLIT = 0.2,\n",
    "    device=device,\n",
    "    SEED = 42,\n",
    "    pin_memory=True,\n",
    "    num_workers=2,\n",
    "    USE_AMP = True,\n",
    "    channels_last=False)"
   ]
  },
  {
   "cell_type": "code",
   "execution_count": 8,
   "id": "0726efb9",
   "metadata": {},
   "outputs": [
    {
     "name": "stdout",
     "output_type": "stream",
     "text": [
      "tensor([1, 1, 0, 0, 0, 1, 1, 1, 1, 1, 1, 1, 1, 1, 1, 1, 1, 1, 1, 1, 1, 0, 0, 0,\n",
      "        0, 1, 1, 0, 1, 0, 0, 1])\n"
     ]
    },
    {
     "data": {
      "text/plain": [
       "<matplotlib.image.AxesImage at 0x7f62008c0a20>"
      ]
     },
     "execution_count": 8,
     "metadata": {},
     "output_type": "execute_result"
    },
    {
     "data": {
      "image/png": "[encoded data removed]",
      "text/plain": [
       "<Figure size 432x288 with 1 Axes>"
      ]
     },
     "metadata": {
      "needs_background": "light"
     },
     "output_type": "display_data"
    }
   ],
   "source": [
    "import matplotlib.pyplot as plt\n",
    "a = iter(valid_dl)\n",
    "b = next(a)\n",
    "print(b[1])\n",
    "plt.imshow(b[0][0][0])"
   ]
  },
  {
   "cell_type": "code",
   "execution_count": 9,
   "id": "f5389003",
   "metadata": {},
   "outputs": [],
   "source": [
    "def evaluation(model,test_dl):\n",
    "    model.eval()\n",
    "    running_loss = 0.0\n",
    "    running_corrects = 0\n",
    "    total = 0\n",
    "    preds = []\n",
    "    pred_labels = []\n",
    "    labels = []\n",
    "\n",
    "            # Disable gradient calculation for validation or inference using torch.no_rad()\n",
    "    with torch.no_grad():\n",
    "                for x,y in test_dl:\n",
    "                    x = x.to(config['device'])\n",
    "                    y = y.to(config['device']) #CHW --> #HWC\n",
    "                    valid_logits = model(x)\n",
    "                    predict_prob = F.softmax(valid_logits)\n",
    "                    _,predictions = predict_prob.max(1)\n",
    "                    predictions = predictions.to('cpu')\n",
    "\n",
    "                    _, valid_preds = torch.max(valid_logits, 1)\n",
    "                    valid_loss = criterion(valid_logits,y)\n",
    "                    running_loss += valid_loss.item() * x.size(0)\n",
    "                    running_corrects += torch.sum(valid_preds == y.data)\n",
    "                    total += y.size(0)\n",
    "                    predict_prob = predict_prob.to('cpu')\n",
    "\n",
    "                    pred_labels.extend(list(predictions.numpy()))\n",
    "                    preds.extend(list(predict_prob.numpy()))\n",
    "                    y = y.to('cpu')\n",
    "                    labels.extend(list(y.numpy()))\n",
    "\n",
    "    epoch_loss = running_loss / len(test_data)\n",
    "    epoch_acc = running_corrects.double() / len(test_data)\n",
    "    print(\"Test Loss is {}\".format(epoch_loss))\n",
    "    print(\"Test Accuracy is {}\".format(epoch_acc.cpu()))\n",
    "    return np.array(labels),np.array(pred_labels),np.array(preds)"
   ]
  },
  {
   "cell_type": "code",
   "execution_count": 10,
   "id": "5abd6075",
   "metadata": {},
   "outputs": [],
   "source": [
    "criterion = nn.CrossEntropyLoss()"
   ]
  },
  {
   "cell_type": "markdown",
   "id": "eac232ff",
   "metadata": {},
   "source": [
    "Load Model : Pretrained from torchvision model zoo or Saved model"
   ]
  },
  {
   "cell_type": "code",
   "execution_count": 11,
   "id": "0e3d083f",
   "metadata": {},
   "outputs": [],
   "source": [
    "efficientnet = models.efficientnet_b4(pretrained = True)\n",
    "efficientnet.classifier[1] = nn.Linear(in_features = 1792, out_features = 2, bias = True)\n",
    "model = efficientnet"
   ]
  },
  {
   "cell_type": "code",
   "execution_count": 12,
   "id": "2666e8ff",
   "metadata": {},
   "outputs": [],
   "source": [
    "model.load_state_dict(torch.load('saved/efficientnet_b4.pt'))\n",
    "model = model.to(config['device'])\n",
    "optimizer = optim.Adam(model.parameters(),lr=config['lr'])"
   ]
  },
  {
   "cell_type": "markdown",
   "id": "5d6c40f9",
   "metadata": {},
   "source": [
    "### Efficientnet"
   ]
  },
  {
   "cell_type": "code",
   "execution_count": 13,
   "id": "eb549ab9",
   "metadata": {},
   "outputs": [
    {
     "name": "stdout",
     "output_type": "stream",
     "text": [
      "Test Loss is 2.015545713107929\n",
      "Test Accuracy is 0.5869720830350751\n"
     ]
    }
   ],
   "source": [
    "labels, pred_labels, preds = evaluation(model,test_dl)"
   ]
  },
  {
   "cell_type": "code",
   "execution_count": 14,
   "id": "2a06718a",
   "metadata": {},
   "outputs": [
    {
     "name": "stdout",
     "output_type": "stream",
     "text": [
      "              precision    recall  f1-score   support\n",
      "\n",
      "    abnormal       0.30      0.13      0.18       490\n",
      "      normal       0.64      0.83      0.72       907\n",
      "\n",
      "    accuracy                           0.59      1397\n",
      "   macro avg       0.47      0.48      0.45      1397\n",
      "weighted avg       0.52      0.59      0.53      1397\n",
      "\n",
      "\n",
      " classwise accuracy\n",
      "[0.13061224 0.83351709]\n",
      "0.45008437774227666\n"
     ]
    }
   ],
   "source": [
    "print(metrics.classification_report(labels,pred_labels,target_names = ['abnormal','normal']))\n",
    "cm = metrics.confusion_matrix(labels,pred_labels)\n",
    "print('\\n classwise accuracy')\n",
    "cm = cm.astype('float') / cm.sum(axis=1)[:, np.newaxis]\n",
    "print(cm.diagonal())\n",
    "\n",
    "print(roc_auc_score(1-np.array(labels), np.array(preds)[:,0]))\n",
    "pred_effb4_1 = np.array(preds[:,0])\n",
    "y_test_effb4_1 = 1-np.array(labels)"
   ]
  },
  {
   "cell_type": "code",
   "execution_count": 15,
   "id": "46c02cfa",
   "metadata": {},
   "outputs": [
    {
     "data": {
      "text/plain": [
       "0.4500933780347861"
      ]
     },
     "execution_count": 15,
     "metadata": {},
     "output_type": "execute_result"
    }
   ],
   "source": [
    "#y_pred = np.transpose([pred[:, 1] for pred in preds])\n",
    "roc_auc_score(np.array(labels), np.array(preds)[:,1])"
   ]
  },
  {
   "cell_type": "code",
   "execution_count": 24,
   "id": "1dc966f8",
   "metadata": {},
   "outputs": [],
   "source": [
    "pred_effb4_1 = preds[:,1]\n",
    "y_test_effb4_1 = np.array(labels)"
   ]
  },
  {
   "cell_type": "markdown",
   "id": "fd1c618f",
   "metadata": {},
   "source": [
    "## Mobilenet v2"
   ]
  },
  {
   "cell_type": "code",
   "execution_count": 35,
   "id": "0840301b",
   "metadata": {},
   "outputs": [],
   "source": [
    "mobilenet = models.mobilenet_v2(pretrained=True)\n",
    "mobilenet.classifier[1] = nn.Linear(in_features = 1280, out_features = 2, bias = True)\n",
    "model = mobilenet\n",
    "model.load_state_dict(torch.load('saved/mobilenetv2.pt'))\n",
    "model = model.to(config['device'])"
   ]
  },
  {
   "cell_type": "code",
   "execution_count": 36,
   "id": "6df9e4d8",
   "metadata": {},
   "outputs": [
    {
     "name": "stdout",
     "output_type": "stream",
     "text": [
      "Test Loss is 1.1872169836640956\n",
      "Test Accuracy is 0.6320687186828919\n",
      "              precision    recall  f1-score   support\n",
      "\n",
      "    abnormal       0.36      0.06      0.10       490\n",
      "      normal       0.65      0.94      0.77       907\n",
      "\n",
      "    accuracy                           0.63      1397\n",
      "   macro avg       0.50      0.50      0.44      1397\n",
      "weighted avg       0.55      0.63      0.54      1397\n",
      "\n"
     ]
    }
   ],
   "source": [
    "labels, pred_labels, preds = evaluation(model,test_dl)\n",
    "precision_recall_fscore_support(np.array(labels), np.array(pred_labels), average='binary')\n",
    "print(metrics.classification_report(labels,pred_labels,target_names = ['abnormal','normal']))"
   ]
  },
  {
   "cell_type": "code",
   "execution_count": 18,
   "id": "05b81ccd",
   "metadata": {},
   "outputs": [
    {
     "data": {
      "text/plain": [
       "0.48337870980806874"
      ]
     },
     "execution_count": 18,
     "metadata": {},
     "output_type": "execute_result"
    }
   ],
   "source": [
    "roc_auc_score(np.array(labels), np.array(preds)[:,1])"
   ]
  },
  {
   "cell_type": "code",
   "execution_count": 28,
   "id": "a7303dc7",
   "metadata": {},
   "outputs": [],
   "source": [
    "pred_mobv2_1 = np.array(preds[:,1])\n",
    "y_test_mobv2_1 = np.array(labels)"
   ]
  },
  {
   "cell_type": "code",
   "execution_count": null,
   "id": "0361787d",
   "metadata": {},
   "outputs": [],
   "source": []
  },
  {
   "cell_type": "markdown",
   "id": "06162e65",
   "metadata": {},
   "source": [
    "## Mobilenet v3"
   ]
  },
  {
   "cell_type": "code",
   "execution_count": 37,
   "id": "7ad6cac2",
   "metadata": {},
   "outputs": [],
   "source": [
    "mobilenet = models.mobilenet_v3_small(pretrained=True)\n",
    "mobilenet.classifier[3] = nn.Linear(in_features = 1024, out_features = 2, bias = True)\n",
    "model = mobilenet\n",
    "model.load_state_dict(torch.load('saved/mobilenetv3.pt'))\n",
    "model = model.to(config['device'])"
   ]
  },
  {
   "cell_type": "code",
   "execution_count": 38,
   "id": "d4776825",
   "metadata": {},
   "outputs": [
    {
     "name": "stdout",
     "output_type": "stream",
     "text": [
      "Test Loss is 1.326555797519561\n",
      "Test Accuracy is 0.5318539727988547\n",
      "              precision    recall  f1-score   support\n",
      "\n",
      "    abnormal       0.37      0.50      0.43       490\n",
      "      normal       0.67      0.55      0.60       907\n",
      "\n",
      "    accuracy                           0.53      1397\n",
      "   macro avg       0.52      0.52      0.52      1397\n",
      "weighted avg       0.57      0.53      0.54      1397\n",
      "\n"
     ]
    },
    {
     "data": {
      "text/plain": [
       "(0.6702557200538358, 0.5490628445424476, 0.6036363636363636, None)"
      ]
     },
     "execution_count": 38,
     "metadata": {},
     "output_type": "execute_result"
    }
   ],
   "source": [
    "labels, pred_labels, preds = evaluation(model,test_dl)\n",
    "print(metrics.classification_report(labels,pred_labels,target_names = ['abnormal','normal']))\n",
    "precision_recall_fscore_support(np.array(labels), np.array(pred_labels), average='binary')"
   ]
  },
  {
   "cell_type": "code",
   "execution_count": 21,
   "id": "1e690f9f",
   "metadata": {},
   "outputs": [
    {
     "data": {
      "text/plain": [
       "0.5217469567760952"
      ]
     },
     "execution_count": 21,
     "metadata": {},
     "output_type": "execute_result"
    }
   ],
   "source": [
    "roc_auc_score(np.array(labels), np.array(preds)[:,1])"
   ]
  },
  {
   "cell_type": "code",
   "execution_count": 33,
   "id": "09beacad",
   "metadata": {},
   "outputs": [],
   "source": [
    "pred_mobv3_1 = np.array(preds[:,1])\n",
    "y_test_mobv3_1 = np.array(labels)"
   ]
  },
  {
   "cell_type": "markdown",
   "id": "3621bd82",
   "metadata": {},
   "source": [
    "## Shufflenet"
   ]
  },
  {
   "cell_type": "code",
   "execution_count": 39,
   "id": "5d742895",
   "metadata": {},
   "outputs": [],
   "source": [
    "shufflenet = models.shufflenet_v2_x1_0(pretrained = True)\n",
    "shufflenet.fc = nn.Linear(in_features = 1024, out_features = 2, bias=True)\n",
    "model = shufflenet"
   ]
  },
  {
   "cell_type": "code",
   "execution_count": 40,
   "id": "206e5438",
   "metadata": {},
   "outputs": [],
   "source": [
    "model.load_state_dict(torch.load('saved/shufflenetv1.pth'))\n",
    "model = model.to(config['device'])"
   ]
  },
  {
   "cell_type": "code",
   "execution_count": 41,
   "id": "4bfd1042",
   "metadata": {},
   "outputs": [
    {
     "name": "stdout",
     "output_type": "stream",
     "text": [
      "Test Loss is 1.282204329540837\n",
      "Test Accuracy is 0.6005726556907659\n",
      "              precision    recall  f1-score   support\n",
      "\n",
      "    abnormal       0.34      0.15      0.21       490\n",
      "      normal       0.65      0.84      0.73       907\n",
      "\n",
      "    accuracy                           0.60      1397\n",
      "   macro avg       0.50      0.50      0.47      1397\n",
      "weighted avg       0.54      0.60      0.55      1397\n",
      "\n"
     ]
    },
    {
     "data": {
      "text/plain": [
       "(0.6480067854113656, 0.8423373759647188, 0.7325023969319271, None)"
      ]
     },
     "execution_count": 41,
     "metadata": {},
     "output_type": "execute_result"
    }
   ],
   "source": [
    "labels, pred_labels, preds = evaluation(model,test_dl)\n",
    "print(metrics.classification_report(labels,pred_labels,target_names = ['abnormal','normal']))\n",
    "precision_recall_fscore_support(np.array(labels), np.array(pred_labels), average='binary')"
   ]
  },
  {
   "cell_type": "code",
   "execution_count": 25,
   "id": "0d694af0",
   "metadata": {},
   "outputs": [
    {
     "data": {
      "text/plain": [
       "0.4875278446549513"
      ]
     },
     "execution_count": 25,
     "metadata": {},
     "output_type": "execute_result"
    }
   ],
   "source": [
    "roc_auc_score(np.array(labels), np.array(preds)[:,1])"
   ]
  },
  {
   "cell_type": "code",
   "execution_count": 45,
   "id": "0fc4c165",
   "metadata": {},
   "outputs": [],
   "source": [
    "pred_shuff_1 = np.array(preds[:,1])\n",
    "y_test_shuff_1 = np.array(labels)"
   ]
  },
  {
   "cell_type": "markdown",
   "id": "afe5725e",
   "metadata": {},
   "source": [
    "## ResNet50"
   ]
  },
  {
   "cell_type": "code",
   "execution_count": 42,
   "id": "e38f5e76",
   "metadata": {},
   "outputs": [],
   "source": [
    "resnet50 = torchvision.models.resnet50(pretrained=True)\n",
    "resnet50.fc = nn.Sequential(\n",
    "    nn.Dropout(0.4),\n",
    "    nn.Linear(in_features = 2048, out_features = 2, bias = True))\n",
    "model = resnet50\n",
    "\n",
    "model.load_state_dict(torch.load('saved/resnet50.pt'))\n",
    "model = model.to(config['device'])"
   ]
  },
  {
   "cell_type": "code",
   "execution_count": 43,
   "id": "0fadb88f",
   "metadata": {},
   "outputs": [
    {
     "name": "stdout",
     "output_type": "stream",
     "text": [
      "Test Loss is 1.3891786077488466\n",
      "Test Accuracy is 0.5934144595561918\n",
      "              precision    recall  f1-score   support\n",
      "\n",
      "    abnormal       0.36      0.20      0.26       490\n",
      "      normal       0.65      0.81      0.72       907\n",
      "\n",
      "    accuracy                           0.59      1397\n",
      "   macro avg       0.50      0.50      0.49      1397\n",
      "weighted avg       0.55      0.59      0.56      1397\n",
      "\n"
     ]
    },
    {
     "data": {
      "text/plain": [
       "(0.6509349955476402, 0.8059536934950385, 0.7201970443349754, None)"
      ]
     },
     "execution_count": 43,
     "metadata": {},
     "output_type": "execute_result"
    }
   ],
   "source": [
    "labels, pred_labels, preds = evaluation(model,test_dl)\n",
    "print(metrics.classification_report(labels,pred_labels,target_names = ['abnormal','normal']))\n",
    "precision_recall_fscore_support(np.array(labels), np.array(pred_labels), average='binary')"
   ]
  },
  {
   "cell_type": "code",
   "execution_count": 28,
   "id": "184fc363",
   "metadata": {},
   "outputs": [
    {
     "data": {
      "text/plain": [
       "0.5080676371982089"
      ]
     },
     "execution_count": 28,
     "metadata": {},
     "output_type": "execute_result"
    }
   ],
   "source": [
    "roc_auc_score(np.array(labels), np.array(preds)[:,1])"
   ]
  },
  {
   "cell_type": "code",
   "execution_count": 69,
   "id": "0a01fedc",
   "metadata": {},
   "outputs": [],
   "source": [
    "pred_res50 = np.array(preds)\n",
    "y_test_res50 = np.array(labels)"
   ]
  },
  {
   "cell_type": "markdown",
   "id": "bd024bd0",
   "metadata": {},
   "source": [
    "## Squeezenet"
   ]
  },
  {
   "cell_type": "code",
   "execution_count": 44,
   "id": "1671dd3d",
   "metadata": {},
   "outputs": [],
   "source": [
    "squeezenet = torchvision.models.squeezenet1_0(pretrained=True)\n",
    "squeezenet.classifier[1] = nn.Conv2d(512, 2, kernel_size=(1, 1), stride=(1, 1))\n",
    "model = squeezenet\n",
    "model.load_state_dict(torch.load('saved/squeezenet.pt'))\n",
    "model = model.to(config['device'])"
   ]
  },
  {
   "cell_type": "code",
   "execution_count": 45,
   "id": "1a2f239e",
   "metadata": {},
   "outputs": [
    {
     "name": "stdout",
     "output_type": "stream",
     "text": [
      "Test Loss is 0.6967785880662922\n",
      "Test Accuracy is 0.49749463135289906\n",
      "              precision    recall  f1-score   support\n",
      "\n",
      "    abnormal       0.34      0.47      0.40       490\n",
      "      normal       0.64      0.51      0.57       907\n",
      "\n",
      "    accuracy                           0.50      1397\n",
      "   macro avg       0.49      0.49      0.48      1397\n",
      "weighted avg       0.54      0.50      0.51      1397\n",
      "\n"
     ]
    },
    {
     "data": {
      "text/plain": [
       "(0.6413793103448275, 0.5126791620727673, 0.5698529411764706, None)"
      ]
     },
     "execution_count": 45,
     "metadata": {},
     "output_type": "execute_result"
    }
   ],
   "source": [
    "labels, pred_labels, preds = evaluation(model,test_dl)\n",
    "print(metrics.classification_report(labels,pred_labels,target_names = ['abnormal','normal']))\n",
    "precision_recall_fscore_support(np.array(labels), np.array(pred_labels), average='binary')"
   ]
  },
  {
   "cell_type": "code",
   "execution_count": 31,
   "id": "f865db0d",
   "metadata": {},
   "outputs": [
    {
     "data": {
      "text/plain": [
       "0.4627432891568976"
      ]
     },
     "execution_count": 31,
     "metadata": {},
     "output_type": "execute_result"
    }
   ],
   "source": [
    "roc_auc_score(np.array(labels), np.array(preds)[:,1])"
   ]
  },
  {
   "cell_type": "code",
   "execution_count": 74,
   "id": "3f6eebf6",
   "metadata": {},
   "outputs": [],
   "source": [
    "y_test = np.array(labels)\n",
    "pred_squeeze = np.array(preds)"
   ]
  },
  {
   "cell_type": "markdown",
   "id": "7c3ea5d5",
   "metadata": {},
   "source": [
    "# ExLNet"
   ]
  },
  {
   "cell_type": "code",
   "execution_count": 46,
   "id": "fa8f2539",
   "metadata": {},
   "outputs": [],
   "source": [
    "squeezenet = torchvision.models.squeezenet1_0(pretrained=True)\n",
    "squeezenet.features[3].expand1x1 = nn.Conv2d(16, 64, kernel_size=(1, 1), stride=(1, 1),groups=16)\n",
    "squeezenet.features[3].expand3x3 = nn.Sequential(\n",
    "    nn.BatchNorm2d(16),\n",
    "    nn.Conv2d(16, 64, kernel_size=(3, 3), stride=(1, 1), padding=(1, 1),groups=16))\n",
    "\n",
    "squeezenet.features[4].expand1x1 = nn.Conv2d(16, 64, kernel_size=(1, 1), stride=(1, 1),groups=16)\n",
    "squeezenet.features[4].expand3x3 = nn.Sequential(nn.BatchNorm2d(16),\n",
    "                                                 nn.Conv2d(16, 64, kernel_size=(3, 3), stride=(1, 1), padding=(1, 1),groups=16)\n",
    "                                                )\n",
    "squeezenet.features[5].expand1x1 = nn.Conv2d(32, 128, kernel_size=(1, 1), stride=(1, 1),groups=32)\n",
    "squeezenet.features[5].expand3x3 = nn.Sequential(nn.BatchNorm2d(32),\n",
    "                                                 nn.Conv2d(32, 128, kernel_size=(3, 3), stride=(1, 1), padding=(1, 1),groups=32))\n",
    "\n",
    "squeezenet.features[7].expand1x1 = nn.Conv2d(32, 128, kernel_size=(1, 1), stride=(1, 1),groups=32)\n",
    "squeezenet.features[7].expand3x3 = nn.Sequential(nn.BatchNorm2d(32),\n",
    "                                                 nn.Conv2d(32, 128, kernel_size=(3, 3), stride=(1, 1), padding=(1, 1),groups=32))\n",
    "\n",
    "squeezenet.features[8].expand1x1 = nn.Conv2d(48, 192, kernel_size=(1, 1), stride=(1, 1),groups=48)\n",
    "squeezenet.features[8].expand3x3 = nn.Sequential(nn.BatchNorm2d(48),\n",
    "                                                 nn.Conv2d(48, 192, kernel_size=(3, 3), stride=(1, 1), padding=(1, 1),groups=48))\n",
    "\n",
    "squeezenet.features[9].expand1x1 = nn.Conv2d(48, 192, kernel_size=(1, 1), stride=(1, 1),groups=48)\n",
    "squeezenet.features[9].expand3x3 = nn.Conv2d(48, 192, kernel_size=(3, 3), stride=(1, 1), padding=(1, 1),groups=48)\n",
    "\n",
    "squeezenet.features[10].expand1x1 = nn.Conv2d(64, 256, kernel_size=(1, 1), stride=(1, 1),groups=64)\n",
    "squeezenet.features[10].expand3x3 = nn.Conv2d(64, 256, kernel_size=(3, 3), stride=(1, 1), padding=(1, 1),groups=64)\n",
    "\n",
    "squeezenet.features[12].expand1x1 = nn.Conv2d(64, 256, kernel_size=(1, 1), stride=(1, 1),groups=64)\n",
    "squeezenet.features[12].expand3x3 = nn.Conv2d(64, 256, kernel_size=(3, 3), stride=(1, 1), padding=(1, 1),groups=64)\n",
    "\n",
    "squeezenet.classifier = nn.Sequential(\n",
    "                                        nn.Dropout(0.5),\n",
    "                                        nn.Conv2d(512, 2, kernel_size=(1, 1), stride=(1, 1)),\n",
    "                                        nn.AdaptiveAvgPool2d(output_size=(1, 1))\n",
    "        )\n",
    "\n",
    "model = squeezenet"
   ]
  },
  {
   "cell_type": "code",
   "execution_count": 47,
   "id": "853df433",
   "metadata": {},
   "outputs": [
    {
     "name": "stdout",
     "output_type": "stream",
     "text": [
      "Test Loss is 0.6690830521781528\n",
      "Test Accuracy is 0.6249105225483178\n",
      "              precision    recall  f1-score   support\n",
      "\n",
      "    abnormal       0.41      0.15      0.22       490\n",
      "      normal       0.66      0.88      0.75       907\n",
      "\n",
      "    accuracy                           0.62      1397\n",
      "   macro avg       0.53      0.52      0.49      1397\n",
      "weighted avg       0.57      0.62      0.57      1397\n",
      "\n"
     ]
    },
    {
     "data": {
      "text/plain": [
       "(0.6578730420445177, 0.8798235942668137, 0.7528301886792452, None)"
      ]
     },
     "execution_count": 47,
     "metadata": {},
     "output_type": "execute_result"
    }
   ],
   "source": [
    "model.load_state_dict(torch.load('saved/exlbn1_best.pt'))\n",
    "model = model.to(config['device'])\n",
    "labels, pred_labels, preds = evaluation(model,test_dl)\n",
    "print(metrics.classification_report(labels,pred_labels,target_names = ['abnormal','normal']))\n",
    "precision_recall_fscore_support(np.array(labels), np.array(pred_labels), average='binary')"
   ]
  },
  {
   "cell_type": "code",
   "execution_count": 34,
   "id": "3d27a47f",
   "metadata": {},
   "outputs": [
    {
     "data": {
      "text/plain": [
       "0.5155435051639178"
      ]
     },
     "execution_count": 34,
     "metadata": {},
     "output_type": "execute_result"
    }
   ],
   "source": [
    "roc_auc_score(np.array(labels), np.array(preds)[:,1])"
   ]
  },
  {
   "cell_type": "code",
   "execution_count": null,
   "id": "7d82e145",
   "metadata": {},
   "outputs": [],
   "source": []
  }
 ],
 "metadata": {
  "kernelspec": {
   "display_name": "Python 3 (ipykernel)",
   "language": "python",
   "name": "python3"
  },
  "language_info": {
   "codemirror_mode": {
    "name": "ipython",
    "version": 3
   },
   "file_extension": ".py",
   "mimetype": "text/x-python",
   "name": "python",
   "nbconvert_exporter": "python",
   "pygments_lexer": "ipython3",
   "version": "3.7.3"
  }
 },
 "nbformat": 4,
 "nbformat_minor": 5
}
